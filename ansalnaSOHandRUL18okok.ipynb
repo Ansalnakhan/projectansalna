{
  "nbformat": 4,
  "nbformat_minor": 0,
  "metadata": {
    "colab": {
      "provenance": [],
      "include_colab_link": true
    },
    "kernelspec": {
      "name": "python3",
      "display_name": "Python 3"
    },
    "language_info": {
      "name": "python"
    },
    "accelerator": "GPU"
  },
  "cells": [
    {
      "cell_type": "markdown",
      "metadata": {
        "id": "view-in-github",
        "colab_type": "text"
      },
      "source": [
        "<a href=\"https://colab.research.google.com/github/Ansalnakhan/projectansalna/blob/main/ansalnaSOHandRUL18okok.ipynb\" target=\"_parent\"><img src=\"https://colab.research.google.com/assets/colab-badge.svg\" alt=\"Open In Colab\"/></a>"
      ]
    },
    {
      "cell_type": "code",
      "source": [
        "import tensorflow as tf\n",
        "from tensorflow import keras\n",
        "\n",
        "import numpy as np"
      ],
      "metadata": {
        "id": "PGNP9R9S9ApK"
      },
      "execution_count": 45,
      "outputs": []
    },
    {
      "cell_type": "code",
      "source": [
        "import pandas as pd"
      ],
      "metadata": {
        "id": "93pnEOlX9EBh"
      },
      "execution_count": 46,
      "outputs": []
    },
    {
      "cell_type": "code",
      "source": [
        "data=pd.read_csv(\"/content/B0018.csv\")\n",
        "data"
      ],
      "metadata": {
        "colab": {
          "base_uri": "https://localhost:8080/",
          "height": 852
        },
        "id": "AWaOdyLR9Hbi",
        "outputId": "f8c22d64-cf30-44b3-fd8b-67c1d44d081e"
      },
      "execution_count": 47,
      "outputs": [
        {
          "output_type": "execute_result",
          "data": {
            "text/plain": [
              "       Unnamed: 0  cycle  ambient_temperature             datetime  capacity  \\\n",
              "0               0      1                   24  2008-04-02 15:25:41  1.856487   \n",
              "1               1      1                   24  2008-04-02 15:25:41  1.856487   \n",
              "2               2      1                   24  2008-04-02 15:25:41  1.856487   \n",
              "3               3      1                   24  2008-04-02 15:25:41  1.856487   \n",
              "4               4      1                   24  2008-04-02 15:25:41  1.856487   \n",
              "...           ...    ...                  ...                  ...       ...   \n",
              "50280       50280    168                   24  2008-05-27 20:45:42  1.325079   \n",
              "50281       50281    168                   24  2008-05-27 20:45:42  1.325079   \n",
              "50282       50282    168                   24  2008-05-27 20:45:42  1.325079   \n",
              "50283       50283    168                   24  2008-05-27 20:45:42  1.325079   \n",
              "50284       50284    168                   24  2008-05-27 20:45:42  1.325079   \n",
              "\n",
              "       voltage_measured  current_measured  temperature_measured  current_load  \\\n",
              "0              4.191492         -0.004902             24.330034       -0.0006   \n",
              "1              4.190749         -0.001478             24.325993       -0.0006   \n",
              "2              3.974871         -2.012528             24.389085       -1.9982   \n",
              "3              3.951717         -2.013979             24.544752       -1.9982   \n",
              "4              3.934352         -2.011144             24.731385       -1.9982   \n",
              "...                 ...               ...                   ...           ...   \n",
              "50280          3.579262         -0.001569             34.864823        0.0006   \n",
              "50281          3.581964         -0.003067             34.814770        0.0006   \n",
              "50282          3.584484         -0.003079             34.676258        0.0006   \n",
              "50283          3.587336          0.001219             34.565580        0.0006   \n",
              "50284          3.589937         -0.000583             34.405920        0.0006   \n",
              "\n",
              "       voltage_load      time  \n",
              "0             0.000     0.000  \n",
              "1             4.206    16.781  \n",
              "2             3.062    35.703  \n",
              "3             3.030    53.781  \n",
              "4             3.011    71.922  \n",
              "...             ...       ...  \n",
              "50280         0.000  2781.312  \n",
              "50281         0.000  2791.062  \n",
              "50282         0.000  2800.828  \n",
              "50283         0.000  2810.640  \n",
              "50284         0.000  2820.390  \n",
              "\n",
              "[50285 rows x 11 columns]"
            ],
            "text/html": [
              "\n",
              "  <div id=\"df-f684dc41-f57a-4aa9-841f-39bb6a6b5b71\">\n",
              "    <div class=\"colab-df-container\">\n",
              "      <div>\n",
              "<style scoped>\n",
              "    .dataframe tbody tr th:only-of-type {\n",
              "        vertical-align: middle;\n",
              "    }\n",
              "\n",
              "    .dataframe tbody tr th {\n",
              "        vertical-align: top;\n",
              "    }\n",
              "\n",
              "    .dataframe thead th {\n",
              "        text-align: right;\n",
              "    }\n",
              "</style>\n",
              "<table border=\"1\" class=\"dataframe\">\n",
              "  <thead>\n",
              "    <tr style=\"text-align: right;\">\n",
              "      <th></th>\n",
              "      <th>Unnamed: 0</th>\n",
              "      <th>cycle</th>\n",
              "      <th>ambient_temperature</th>\n",
              "      <th>datetime</th>\n",
              "      <th>capacity</th>\n",
              "      <th>voltage_measured</th>\n",
              "      <th>current_measured</th>\n",
              "      <th>temperature_measured</th>\n",
              "      <th>current_load</th>\n",
              "      <th>voltage_load</th>\n",
              "      <th>time</th>\n",
              "    </tr>\n",
              "  </thead>\n",
              "  <tbody>\n",
              "    <tr>\n",
              "      <th>0</th>\n",
              "      <td>0</td>\n",
              "      <td>1</td>\n",
              "      <td>24</td>\n",
              "      <td>2008-04-02 15:25:41</td>\n",
              "      <td>1.856487</td>\n",
              "      <td>4.191492</td>\n",
              "      <td>-0.004902</td>\n",
              "      <td>24.330034</td>\n",
              "      <td>-0.0006</td>\n",
              "      <td>0.000</td>\n",
              "      <td>0.000</td>\n",
              "    </tr>\n",
              "    <tr>\n",
              "      <th>1</th>\n",
              "      <td>1</td>\n",
              "      <td>1</td>\n",
              "      <td>24</td>\n",
              "      <td>2008-04-02 15:25:41</td>\n",
              "      <td>1.856487</td>\n",
              "      <td>4.190749</td>\n",
              "      <td>-0.001478</td>\n",
              "      <td>24.325993</td>\n",
              "      <td>-0.0006</td>\n",
              "      <td>4.206</td>\n",
              "      <td>16.781</td>\n",
              "    </tr>\n",
              "    <tr>\n",
              "      <th>2</th>\n",
              "      <td>2</td>\n",
              "      <td>1</td>\n",
              "      <td>24</td>\n",
              "      <td>2008-04-02 15:25:41</td>\n",
              "      <td>1.856487</td>\n",
              "      <td>3.974871</td>\n",
              "      <td>-2.012528</td>\n",
              "      <td>24.389085</td>\n",
              "      <td>-1.9982</td>\n",
              "      <td>3.062</td>\n",
              "      <td>35.703</td>\n",
              "    </tr>\n",
              "    <tr>\n",
              "      <th>3</th>\n",
              "      <td>3</td>\n",
              "      <td>1</td>\n",
              "      <td>24</td>\n",
              "      <td>2008-04-02 15:25:41</td>\n",
              "      <td>1.856487</td>\n",
              "      <td>3.951717</td>\n",
              "      <td>-2.013979</td>\n",
              "      <td>24.544752</td>\n",
              "      <td>-1.9982</td>\n",
              "      <td>3.030</td>\n",
              "      <td>53.781</td>\n",
              "    </tr>\n",
              "    <tr>\n",
              "      <th>4</th>\n",
              "      <td>4</td>\n",
              "      <td>1</td>\n",
              "      <td>24</td>\n",
              "      <td>2008-04-02 15:25:41</td>\n",
              "      <td>1.856487</td>\n",
              "      <td>3.934352</td>\n",
              "      <td>-2.011144</td>\n",
              "      <td>24.731385</td>\n",
              "      <td>-1.9982</td>\n",
              "      <td>3.011</td>\n",
              "      <td>71.922</td>\n",
              "    </tr>\n",
              "    <tr>\n",
              "      <th>...</th>\n",
              "      <td>...</td>\n",
              "      <td>...</td>\n",
              "      <td>...</td>\n",
              "      <td>...</td>\n",
              "      <td>...</td>\n",
              "      <td>...</td>\n",
              "      <td>...</td>\n",
              "      <td>...</td>\n",
              "      <td>...</td>\n",
              "      <td>...</td>\n",
              "      <td>...</td>\n",
              "    </tr>\n",
              "    <tr>\n",
              "      <th>50280</th>\n",
              "      <td>50280</td>\n",
              "      <td>168</td>\n",
              "      <td>24</td>\n",
              "      <td>2008-05-27 20:45:42</td>\n",
              "      <td>1.325079</td>\n",
              "      <td>3.579262</td>\n",
              "      <td>-0.001569</td>\n",
              "      <td>34.864823</td>\n",
              "      <td>0.0006</td>\n",
              "      <td>0.000</td>\n",
              "      <td>2781.312</td>\n",
              "    </tr>\n",
              "    <tr>\n",
              "      <th>50281</th>\n",
              "      <td>50281</td>\n",
              "      <td>168</td>\n",
              "      <td>24</td>\n",
              "      <td>2008-05-27 20:45:42</td>\n",
              "      <td>1.325079</td>\n",
              "      <td>3.581964</td>\n",
              "      <td>-0.003067</td>\n",
              "      <td>34.814770</td>\n",
              "      <td>0.0006</td>\n",
              "      <td>0.000</td>\n",
              "      <td>2791.062</td>\n",
              "    </tr>\n",
              "    <tr>\n",
              "      <th>50282</th>\n",
              "      <td>50282</td>\n",
              "      <td>168</td>\n",
              "      <td>24</td>\n",
              "      <td>2008-05-27 20:45:42</td>\n",
              "      <td>1.325079</td>\n",
              "      <td>3.584484</td>\n",
              "      <td>-0.003079</td>\n",
              "      <td>34.676258</td>\n",
              "      <td>0.0006</td>\n",
              "      <td>0.000</td>\n",
              "      <td>2800.828</td>\n",
              "    </tr>\n",
              "    <tr>\n",
              "      <th>50283</th>\n",
              "      <td>50283</td>\n",
              "      <td>168</td>\n",
              "      <td>24</td>\n",
              "      <td>2008-05-27 20:45:42</td>\n",
              "      <td>1.325079</td>\n",
              "      <td>3.587336</td>\n",
              "      <td>0.001219</td>\n",
              "      <td>34.565580</td>\n",
              "      <td>0.0006</td>\n",
              "      <td>0.000</td>\n",
              "      <td>2810.640</td>\n",
              "    </tr>\n",
              "    <tr>\n",
              "      <th>50284</th>\n",
              "      <td>50284</td>\n",
              "      <td>168</td>\n",
              "      <td>24</td>\n",
              "      <td>2008-05-27 20:45:42</td>\n",
              "      <td>1.325079</td>\n",
              "      <td>3.589937</td>\n",
              "      <td>-0.000583</td>\n",
              "      <td>34.405920</td>\n",
              "      <td>0.0006</td>\n",
              "      <td>0.000</td>\n",
              "      <td>2820.390</td>\n",
              "    </tr>\n",
              "  </tbody>\n",
              "</table>\n",
              "<p>50285 rows × 11 columns</p>\n",
              "</div>\n",
              "      <button class=\"colab-df-convert\" onclick=\"convertToInteractive('df-f684dc41-f57a-4aa9-841f-39bb6a6b5b71')\"\n",
              "              title=\"Convert this dataframe to an interactive table.\"\n",
              "              style=\"display:none;\">\n",
              "        \n",
              "  <svg xmlns=\"http://www.w3.org/2000/svg\" height=\"24px\"viewBox=\"0 0 24 24\"\n",
              "       width=\"24px\">\n",
              "    <path d=\"M0 0h24v24H0V0z\" fill=\"none\"/>\n",
              "    <path d=\"M18.56 5.44l.94 2.06.94-2.06 2.06-.94-2.06-.94-.94-2.06-.94 2.06-2.06.94zm-11 1L8.5 8.5l.94-2.06 2.06-.94-2.06-.94L8.5 2.5l-.94 2.06-2.06.94zm10 10l.94 2.06.94-2.06 2.06-.94-2.06-.94-.94-2.06-.94 2.06-2.06.94z\"/><path d=\"M17.41 7.96l-1.37-1.37c-.4-.4-.92-.59-1.43-.59-.52 0-1.04.2-1.43.59L10.3 9.45l-7.72 7.72c-.78.78-.78 2.05 0 2.83L4 21.41c.39.39.9.59 1.41.59.51 0 1.02-.2 1.41-.59l7.78-7.78 2.81-2.81c.8-.78.8-2.07 0-2.86zM5.41 20L4 18.59l7.72-7.72 1.47 1.35L5.41 20z\"/>\n",
              "  </svg>\n",
              "      </button>\n",
              "      \n",
              "  <style>\n",
              "    .colab-df-container {\n",
              "      display:flex;\n",
              "      flex-wrap:wrap;\n",
              "      gap: 12px;\n",
              "    }\n",
              "\n",
              "    .colab-df-convert {\n",
              "      background-color: #E8F0FE;\n",
              "      border: none;\n",
              "      border-radius: 50%;\n",
              "      cursor: pointer;\n",
              "      display: none;\n",
              "      fill: #1967D2;\n",
              "      height: 32px;\n",
              "      padding: 0 0 0 0;\n",
              "      width: 32px;\n",
              "    }\n",
              "\n",
              "    .colab-df-convert:hover {\n",
              "      background-color: #E2EBFA;\n",
              "      box-shadow: 0px 1px 2px rgba(60, 64, 67, 0.3), 0px 1px 3px 1px rgba(60, 64, 67, 0.15);\n",
              "      fill: #174EA6;\n",
              "    }\n",
              "\n",
              "    [theme=dark] .colab-df-convert {\n",
              "      background-color: #3B4455;\n",
              "      fill: #D2E3FC;\n",
              "    }\n",
              "\n",
              "    [theme=dark] .colab-df-convert:hover {\n",
              "      background-color: #434B5C;\n",
              "      box-shadow: 0px 1px 3px 1px rgba(0, 0, 0, 0.15);\n",
              "      filter: drop-shadow(0px 1px 2px rgba(0, 0, 0, 0.3));\n",
              "      fill: #FFFFFF;\n",
              "    }\n",
              "  </style>\n",
              "\n",
              "      <script>\n",
              "        const buttonEl =\n",
              "          document.querySelector('#df-f684dc41-f57a-4aa9-841f-39bb6a6b5b71 button.colab-df-convert');\n",
              "        buttonEl.style.display =\n",
              "          google.colab.kernel.accessAllowed ? 'block' : 'none';\n",
              "\n",
              "        async function convertToInteractive(key) {\n",
              "          const element = document.querySelector('#df-f684dc41-f57a-4aa9-841f-39bb6a6b5b71');\n",
              "          const dataTable =\n",
              "            await google.colab.kernel.invokeFunction('convertToInteractive',\n",
              "                                                     [key], {});\n",
              "          if (!dataTable) return;\n",
              "\n",
              "          const docLinkHtml = 'Like what you see? Visit the ' +\n",
              "            '<a target=\"_blank\" href=https://colab.research.google.com/notebooks/data_table.ipynb>data table notebook</a>'\n",
              "            + ' to learn more about interactive tables.';\n",
              "          element.innerHTML = '';\n",
              "          dataTable['output_type'] = 'display_data';\n",
              "          await google.colab.output.renderOutput(dataTable, element);\n",
              "          const docLink = document.createElement('div');\n",
              "          docLink.innerHTML = docLinkHtml;\n",
              "          element.appendChild(docLink);\n",
              "        }\n",
              "      </script>\n",
              "    </div>\n",
              "  </div>\n",
              "  "
            ]
          },
          "metadata": {},
          "execution_count": 47
        }
      ]
    },
    {
      "cell_type": "code",
      "source": [
        "data=data.drop_duplicates(subset=['cycle'], keep='last')\n",
        "data"
      ],
      "metadata": {
        "colab": {
          "base_uri": "https://localhost:8080/",
          "height": 852
        },
        "id": "R-d6HTbi9HVj",
        "outputId": "99fb4bc1-b479-48ba-ac71-718f6b19df21"
      },
      "execution_count": 48,
      "outputs": [
        {
          "output_type": "execute_result",
          "data": {
            "text/plain": [
              "       Unnamed: 0  cycle  ambient_temperature             datetime  capacity  \\\n",
              "196           196      1                   24  2008-04-02 15:25:41  1.856487   \n",
              "392           392      2                   24  2008-04-02 19:43:48  1.846327   \n",
              "587           587      3                   24  2008-04-03 00:01:06  1.835349   \n",
              "781           781      4                   24  2008-04-03 04:16:37  1.835263   \n",
              "975           975      5                   24  2008-04-03 08:33:25  1.834646   \n",
              "...           ...    ...                  ...                  ...       ...   \n",
              "49092       49092    164                   24  2008-05-26 10:44:38  1.293464   \n",
              "49389       49389    165                   24  2008-05-26 15:30:43  1.288003   \n",
              "49686       49686    166                   24  2008-05-26 20:21:04  1.287453   \n",
              "49984       49984    167                   24  2008-05-27 15:52:41  1.309015   \n",
              "50284       50284    168                   24  2008-05-27 20:45:42  1.325079   \n",
              "\n",
              "       voltage_measured  current_measured  temperature_measured  current_load  \\\n",
              "196            3.277170         -0.006528             34.230853       -0.0006   \n",
              "392            3.300245         -0.000448             34.392137       -0.0006   \n",
              "587            3.327451          0.001026             34.232779       -0.0006   \n",
              "781            3.314182         -0.002234             34.413450       -0.0006   \n",
              "975            3.305497          0.000009             34.345885       -0.0006   \n",
              "...                 ...               ...                   ...           ...   \n",
              "49092          3.615561         -0.002548             34.075649        0.0006   \n",
              "49389          3.621191         -0.002460             33.991350        0.0006   \n",
              "49686          3.619185          0.000478             34.059198        0.0006   \n",
              "49984          3.595365         -0.002342             34.556514        0.0006   \n",
              "50284          3.589937         -0.000583             34.405920        0.0006   \n",
              "\n",
              "       voltage_load      time  \n",
              "196             0.0  3690.234  \n",
              "392             0.0  3672.344  \n",
              "587             0.0  3651.641  \n",
              "781             0.0  3631.563  \n",
              "975             0.0  3629.172  \n",
              "...             ...       ...  \n",
              "49092           0.0  2793.390  \n",
              "49389           0.0  2793.390  \n",
              "49686           0.0  2792.485  \n",
              "49984           0.0  2802.016  \n",
              "50284           0.0  2820.390  \n",
              "\n",
              "[168 rows x 11 columns]"
            ],
            "text/html": [
              "\n",
              "  <div id=\"df-3ada1d6f-4045-4546-a961-e24a651c15a9\">\n",
              "    <div class=\"colab-df-container\">\n",
              "      <div>\n",
              "<style scoped>\n",
              "    .dataframe tbody tr th:only-of-type {\n",
              "        vertical-align: middle;\n",
              "    }\n",
              "\n",
              "    .dataframe tbody tr th {\n",
              "        vertical-align: top;\n",
              "    }\n",
              "\n",
              "    .dataframe thead th {\n",
              "        text-align: right;\n",
              "    }\n",
              "</style>\n",
              "<table border=\"1\" class=\"dataframe\">\n",
              "  <thead>\n",
              "    <tr style=\"text-align: right;\">\n",
              "      <th></th>\n",
              "      <th>Unnamed: 0</th>\n",
              "      <th>cycle</th>\n",
              "      <th>ambient_temperature</th>\n",
              "      <th>datetime</th>\n",
              "      <th>capacity</th>\n",
              "      <th>voltage_measured</th>\n",
              "      <th>current_measured</th>\n",
              "      <th>temperature_measured</th>\n",
              "      <th>current_load</th>\n",
              "      <th>voltage_load</th>\n",
              "      <th>time</th>\n",
              "    </tr>\n",
              "  </thead>\n",
              "  <tbody>\n",
              "    <tr>\n",
              "      <th>196</th>\n",
              "      <td>196</td>\n",
              "      <td>1</td>\n",
              "      <td>24</td>\n",
              "      <td>2008-04-02 15:25:41</td>\n",
              "      <td>1.856487</td>\n",
              "      <td>3.277170</td>\n",
              "      <td>-0.006528</td>\n",
              "      <td>34.230853</td>\n",
              "      <td>-0.0006</td>\n",
              "      <td>0.0</td>\n",
              "      <td>3690.234</td>\n",
              "    </tr>\n",
              "    <tr>\n",
              "      <th>392</th>\n",
              "      <td>392</td>\n",
              "      <td>2</td>\n",
              "      <td>24</td>\n",
              "      <td>2008-04-02 19:43:48</td>\n",
              "      <td>1.846327</td>\n",
              "      <td>3.300245</td>\n",
              "      <td>-0.000448</td>\n",
              "      <td>34.392137</td>\n",
              "      <td>-0.0006</td>\n",
              "      <td>0.0</td>\n",
              "      <td>3672.344</td>\n",
              "    </tr>\n",
              "    <tr>\n",
              "      <th>587</th>\n",
              "      <td>587</td>\n",
              "      <td>3</td>\n",
              "      <td>24</td>\n",
              "      <td>2008-04-03 00:01:06</td>\n",
              "      <td>1.835349</td>\n",
              "      <td>3.327451</td>\n",
              "      <td>0.001026</td>\n",
              "      <td>34.232779</td>\n",
              "      <td>-0.0006</td>\n",
              "      <td>0.0</td>\n",
              "      <td>3651.641</td>\n",
              "    </tr>\n",
              "    <tr>\n",
              "      <th>781</th>\n",
              "      <td>781</td>\n",
              "      <td>4</td>\n",
              "      <td>24</td>\n",
              "      <td>2008-04-03 04:16:37</td>\n",
              "      <td>1.835263</td>\n",
              "      <td>3.314182</td>\n",
              "      <td>-0.002234</td>\n",
              "      <td>34.413450</td>\n",
              "      <td>-0.0006</td>\n",
              "      <td>0.0</td>\n",
              "      <td>3631.563</td>\n",
              "    </tr>\n",
              "    <tr>\n",
              "      <th>975</th>\n",
              "      <td>975</td>\n",
              "      <td>5</td>\n",
              "      <td>24</td>\n",
              "      <td>2008-04-03 08:33:25</td>\n",
              "      <td>1.834646</td>\n",
              "      <td>3.305497</td>\n",
              "      <td>0.000009</td>\n",
              "      <td>34.345885</td>\n",
              "      <td>-0.0006</td>\n",
              "      <td>0.0</td>\n",
              "      <td>3629.172</td>\n",
              "    </tr>\n",
              "    <tr>\n",
              "      <th>...</th>\n",
              "      <td>...</td>\n",
              "      <td>...</td>\n",
              "      <td>...</td>\n",
              "      <td>...</td>\n",
              "      <td>...</td>\n",
              "      <td>...</td>\n",
              "      <td>...</td>\n",
              "      <td>...</td>\n",
              "      <td>...</td>\n",
              "      <td>...</td>\n",
              "      <td>...</td>\n",
              "    </tr>\n",
              "    <tr>\n",
              "      <th>49092</th>\n",
              "      <td>49092</td>\n",
              "      <td>164</td>\n",
              "      <td>24</td>\n",
              "      <td>2008-05-26 10:44:38</td>\n",
              "      <td>1.293464</td>\n",
              "      <td>3.615561</td>\n",
              "      <td>-0.002548</td>\n",
              "      <td>34.075649</td>\n",
              "      <td>0.0006</td>\n",
              "      <td>0.0</td>\n",
              "      <td>2793.390</td>\n",
              "    </tr>\n",
              "    <tr>\n",
              "      <th>49389</th>\n",
              "      <td>49389</td>\n",
              "      <td>165</td>\n",
              "      <td>24</td>\n",
              "      <td>2008-05-26 15:30:43</td>\n",
              "      <td>1.288003</td>\n",
              "      <td>3.621191</td>\n",
              "      <td>-0.002460</td>\n",
              "      <td>33.991350</td>\n",
              "      <td>0.0006</td>\n",
              "      <td>0.0</td>\n",
              "      <td>2793.390</td>\n",
              "    </tr>\n",
              "    <tr>\n",
              "      <th>49686</th>\n",
              "      <td>49686</td>\n",
              "      <td>166</td>\n",
              "      <td>24</td>\n",
              "      <td>2008-05-26 20:21:04</td>\n",
              "      <td>1.287453</td>\n",
              "      <td>3.619185</td>\n",
              "      <td>0.000478</td>\n",
              "      <td>34.059198</td>\n",
              "      <td>0.0006</td>\n",
              "      <td>0.0</td>\n",
              "      <td>2792.485</td>\n",
              "    </tr>\n",
              "    <tr>\n",
              "      <th>49984</th>\n",
              "      <td>49984</td>\n",
              "      <td>167</td>\n",
              "      <td>24</td>\n",
              "      <td>2008-05-27 15:52:41</td>\n",
              "      <td>1.309015</td>\n",
              "      <td>3.595365</td>\n",
              "      <td>-0.002342</td>\n",
              "      <td>34.556514</td>\n",
              "      <td>0.0006</td>\n",
              "      <td>0.0</td>\n",
              "      <td>2802.016</td>\n",
              "    </tr>\n",
              "    <tr>\n",
              "      <th>50284</th>\n",
              "      <td>50284</td>\n",
              "      <td>168</td>\n",
              "      <td>24</td>\n",
              "      <td>2008-05-27 20:45:42</td>\n",
              "      <td>1.325079</td>\n",
              "      <td>3.589937</td>\n",
              "      <td>-0.000583</td>\n",
              "      <td>34.405920</td>\n",
              "      <td>0.0006</td>\n",
              "      <td>0.0</td>\n",
              "      <td>2820.390</td>\n",
              "    </tr>\n",
              "  </tbody>\n",
              "</table>\n",
              "<p>168 rows × 11 columns</p>\n",
              "</div>\n",
              "      <button class=\"colab-df-convert\" onclick=\"convertToInteractive('df-3ada1d6f-4045-4546-a961-e24a651c15a9')\"\n",
              "              title=\"Convert this dataframe to an interactive table.\"\n",
              "              style=\"display:none;\">\n",
              "        \n",
              "  <svg xmlns=\"http://www.w3.org/2000/svg\" height=\"24px\"viewBox=\"0 0 24 24\"\n",
              "       width=\"24px\">\n",
              "    <path d=\"M0 0h24v24H0V0z\" fill=\"none\"/>\n",
              "    <path d=\"M18.56 5.44l.94 2.06.94-2.06 2.06-.94-2.06-.94-.94-2.06-.94 2.06-2.06.94zm-11 1L8.5 8.5l.94-2.06 2.06-.94-2.06-.94L8.5 2.5l-.94 2.06-2.06.94zm10 10l.94 2.06.94-2.06 2.06-.94-2.06-.94-.94-2.06-.94 2.06-2.06.94z\"/><path d=\"M17.41 7.96l-1.37-1.37c-.4-.4-.92-.59-1.43-.59-.52 0-1.04.2-1.43.59L10.3 9.45l-7.72 7.72c-.78.78-.78 2.05 0 2.83L4 21.41c.39.39.9.59 1.41.59.51 0 1.02-.2 1.41-.59l7.78-7.78 2.81-2.81c.8-.78.8-2.07 0-2.86zM5.41 20L4 18.59l7.72-7.72 1.47 1.35L5.41 20z\"/>\n",
              "  </svg>\n",
              "      </button>\n",
              "      \n",
              "  <style>\n",
              "    .colab-df-container {\n",
              "      display:flex;\n",
              "      flex-wrap:wrap;\n",
              "      gap: 12px;\n",
              "    }\n",
              "\n",
              "    .colab-df-convert {\n",
              "      background-color: #E8F0FE;\n",
              "      border: none;\n",
              "      border-radius: 50%;\n",
              "      cursor: pointer;\n",
              "      display: none;\n",
              "      fill: #1967D2;\n",
              "      height: 32px;\n",
              "      padding: 0 0 0 0;\n",
              "      width: 32px;\n",
              "    }\n",
              "\n",
              "    .colab-df-convert:hover {\n",
              "      background-color: #E2EBFA;\n",
              "      box-shadow: 0px 1px 2px rgba(60, 64, 67, 0.3), 0px 1px 3px 1px rgba(60, 64, 67, 0.15);\n",
              "      fill: #174EA6;\n",
              "    }\n",
              "\n",
              "    [theme=dark] .colab-df-convert {\n",
              "      background-color: #3B4455;\n",
              "      fill: #D2E3FC;\n",
              "    }\n",
              "\n",
              "    [theme=dark] .colab-df-convert:hover {\n",
              "      background-color: #434B5C;\n",
              "      box-shadow: 0px 1px 3px 1px rgba(0, 0, 0, 0.15);\n",
              "      filter: drop-shadow(0px 1px 2px rgba(0, 0, 0, 0.3));\n",
              "      fill: #FFFFFF;\n",
              "    }\n",
              "  </style>\n",
              "\n",
              "      <script>\n",
              "        const buttonEl =\n",
              "          document.querySelector('#df-3ada1d6f-4045-4546-a961-e24a651c15a9 button.colab-df-convert');\n",
              "        buttonEl.style.display =\n",
              "          google.colab.kernel.accessAllowed ? 'block' : 'none';\n",
              "\n",
              "        async function convertToInteractive(key) {\n",
              "          const element = document.querySelector('#df-3ada1d6f-4045-4546-a961-e24a651c15a9');\n",
              "          const dataTable =\n",
              "            await google.colab.kernel.invokeFunction('convertToInteractive',\n",
              "                                                     [key], {});\n",
              "          if (!dataTable) return;\n",
              "\n",
              "          const docLinkHtml = 'Like what you see? Visit the ' +\n",
              "            '<a target=\"_blank\" href=https://colab.research.google.com/notebooks/data_table.ipynb>data table notebook</a>'\n",
              "            + ' to learn more about interactive tables.';\n",
              "          element.innerHTML = '';\n",
              "          dataTable['output_type'] = 'display_data';\n",
              "          await google.colab.output.renderOutput(dataTable, element);\n",
              "          const docLink = document.createElement('div');\n",
              "          docLink.innerHTML = docLinkHtml;\n",
              "          element.appendChild(docLink);\n",
              "        }\n",
              "      </script>\n",
              "    </div>\n",
              "  </div>\n",
              "  "
            ]
          },
          "metadata": {},
          "execution_count": 48
        }
      ]
    },
    {
      "cell_type": "code",
      "source": [
        "import matplotlib.pyplot as plt\n",
        "plt.plot(range(len(data[\"capacity\"])),data[\"capacity\"])\n",
        "plt.ylabel('capacity')\n",
        "plt.xlabel('cycle')\n",
        "plt.show()"
      ],
      "metadata": {
        "colab": {
          "base_uri": "https://localhost:8080/",
          "height": 279
        },
        "id": "6RRhYwuU9HRJ",
        "outputId": "6882395f-0324-4e77-8880-ba7a3d5a951e"
      },
      "execution_count": 49,
      "outputs": [
        {
          "output_type": "display_data",
          "data": {
            "text/plain": [
              "<Figure size 432x288 with 1 Axes>"
            ],
            "image/png": "[encoded data removed]"
          },
          "metadata": {
            "needs_background": "light"
          }
        }
      ]
    },
    {
      "cell_type": "code",
      "source": [
        "capacity=data[[\"capacity\"]]\n",
        "capacity=capacity.set_index(pd.Index(range(len(capacity))))\n",
        "capacity"
      ],
      "metadata": {
        "colab": {
          "base_uri": "https://localhost:8080/",
          "height": 424
        },
        "id": "ompghabq9HMB",
        "outputId": "ef4293e1-320e-41e8-a2c8-339c9257e4e0"
      },
      "execution_count": 50,
      "outputs": [
        {
          "output_type": "execute_result",
          "data": {
            "text/plain": [
              "     capacity\n",
              "0    1.856487\n",
              "1    1.846327\n",
              "2    1.835349\n",
              "3    1.835263\n",
              "4    1.834646\n",
              "..        ...\n",
              "163  1.293464\n",
              "164  1.288003\n",
              "165  1.287453\n",
              "166  1.309015\n",
              "167  1.325079\n",
              "\n",
              "[168 rows x 1 columns]"
            ],
            "text/html": [
              "\n",
              "  <div id=\"df-ef5f6abd-045d-47a4-b754-74371f1cd1e9\">\n",
              "    <div class=\"colab-df-container\">\n",
              "      <div>\n",
              "<style scoped>\n",
              "    .dataframe tbody tr th:only-of-type {\n",
              "        vertical-align: middle;\n",
              "    }\n",
              "\n",
              "    .dataframe tbody tr th {\n",
              "        vertical-align: top;\n",
              "    }\n",
              "\n",
              "    .dataframe thead th {\n",
              "        text-align: right;\n",
              "    }\n",
              "</style>\n",
              "<table border=\"1\" class=\"dataframe\">\n",
              "  <thead>\n",
              "    <tr style=\"text-align: right;\">\n",
              "      <th></th>\n",
              "      <th>capacity</th>\n",
              "    </tr>\n",
              "  </thead>\n",
              "  <tbody>\n",
              "    <tr>\n",
              "      <th>0</th>\n",
              "      <td>1.856487</td>\n",
              "    </tr>\n",
              "    <tr>\n",
              "      <th>1</th>\n",
              "      <td>1.846327</td>\n",
              "    </tr>\n",
              "    <tr>\n",
              "      <th>2</th>\n",
              "      <td>1.835349</td>\n",
              "    </tr>\n",
              "    <tr>\n",
              "      <th>3</th>\n",
              "      <td>1.835263</td>\n",
              "    </tr>\n",
              "    <tr>\n",
              "      <th>4</th>\n",
              "      <td>1.834646</td>\n",
              "    </tr>\n",
              "    <tr>\n",
              "      <th>...</th>\n",
              "      <td>...</td>\n",
              "    </tr>\n",
              "    <tr>\n",
              "      <th>163</th>\n",
              "      <td>1.293464</td>\n",
              "    </tr>\n",
              "    <tr>\n",
              "      <th>164</th>\n",
              "      <td>1.288003</td>\n",
              "    </tr>\n",
              "    <tr>\n",
              "      <th>165</th>\n",
              "      <td>1.287453</td>\n",
              "    </tr>\n",
              "    <tr>\n",
              "      <th>166</th>\n",
              "      <td>1.309015</td>\n",
              "    </tr>\n",
              "    <tr>\n",
              "      <th>167</th>\n",
              "      <td>1.325079</td>\n",
              "    </tr>\n",
              "  </tbody>\n",
              "</table>\n",
              "<p>168 rows × 1 columns</p>\n",
              "</div>\n",
              "      <button class=\"colab-df-convert\" onclick=\"convertToInteractive('df-ef5f6abd-045d-47a4-b754-74371f1cd1e9')\"\n",
              "              title=\"Convert this dataframe to an interactive table.\"\n",
              "              style=\"display:none;\">\n",
              "        \n",
              "  <svg xmlns=\"http://www.w3.org/2000/svg\" height=\"24px\"viewBox=\"0 0 24 24\"\n",
              "       width=\"24px\">\n",
              "    <path d=\"M0 0h24v24H0V0z\" fill=\"none\"/>\n",
              "    <path d=\"M18.56 5.44l.94 2.06.94-2.06 2.06-.94-2.06-.94-.94-2.06-.94 2.06-2.06.94zm-11 1L8.5 8.5l.94-2.06 2.06-.94-2.06-.94L8.5 2.5l-.94 2.06-2.06.94zm10 10l.94 2.06.94-2.06 2.06-.94-2.06-.94-.94-2.06-.94 2.06-2.06.94z\"/><path d=\"M17.41 7.96l-1.37-1.37c-.4-.4-.92-.59-1.43-.59-.52 0-1.04.2-1.43.59L10.3 9.45l-7.72 7.72c-.78.78-.78 2.05 0 2.83L4 21.41c.39.39.9.59 1.41.59.51 0 1.02-.2 1.41-.59l7.78-7.78 2.81-2.81c.8-.78.8-2.07 0-2.86zM5.41 20L4 18.59l7.72-7.72 1.47 1.35L5.41 20z\"/>\n",
              "  </svg>\n",
              "      </button>\n",
              "      \n",
              "  <style>\n",
              "    .colab-df-container {\n",
              "      display:flex;\n",
              "      flex-wrap:wrap;\n",
              "      gap: 12px;\n",
              "    }\n",
              "\n",
              "    .colab-df-convert {\n",
              "      background-color: #E8F0FE;\n",
              "      border: none;\n",
              "      border-radius: 50%;\n",
              "      cursor: pointer;\n",
              "      display: none;\n",
              "      fill: #1967D2;\n",
              "      height: 32px;\n",
              "      padding: 0 0 0 0;\n",
              "      width: 32px;\n",
              "    }\n",
              "\n",
              "    .colab-df-convert:hover {\n",
              "      background-color: #E2EBFA;\n",
              "      box-shadow: 0px 1px 2px rgba(60, 64, 67, 0.3), 0px 1px 3px 1px rgba(60, 64, 67, 0.15);\n",
              "      fill: #174EA6;\n",
              "    }\n",
              "\n",
              "    [theme=dark] .colab-df-convert {\n",
              "      background-color: #3B4455;\n",
              "      fill: #D2E3FC;\n",
              "    }\n",
              "\n",
              "    [theme=dark] .colab-df-convert:hover {\n",
              "      background-color: #434B5C;\n",
              "      box-shadow: 0px 1px 3px 1px rgba(0, 0, 0, 0.15);\n",
              "      filter: drop-shadow(0px 1px 2px rgba(0, 0, 0, 0.3));\n",
              "      fill: #FFFFFF;\n",
              "    }\n",
              "  </style>\n",
              "\n",
              "      <script>\n",
              "        const buttonEl =\n",
              "          document.querySelector('#df-ef5f6abd-045d-47a4-b754-74371f1cd1e9 button.colab-df-convert');\n",
              "        buttonEl.style.display =\n",
              "          google.colab.kernel.accessAllowed ? 'block' : 'none';\n",
              "\n",
              "        async function convertToInteractive(key) {\n",
              "          const element = document.querySelector('#df-ef5f6abd-045d-47a4-b754-74371f1cd1e9');\n",
              "          const dataTable =\n",
              "            await google.colab.kernel.invokeFunction('convertToInteractive',\n",
              "                                                     [key], {});\n",
              "          if (!dataTable) return;\n",
              "\n",
              "          const docLinkHtml = 'Like what you see? Visit the ' +\n",
              "            '<a target=\"_blank\" href=https://colab.research.google.com/notebooks/data_table.ipynb>data table notebook</a>'\n",
              "            + ' to learn more about interactive tables.';\n",
              "          element.innerHTML = '';\n",
              "          dataTable['output_type'] = 'display_data';\n",
              "          await google.colab.output.renderOutput(dataTable, element);\n",
              "          const docLink = document.createElement('div');\n",
              "          docLink.innerHTML = docLinkHtml;\n",
              "          element.appendChild(docLink);\n",
              "        }\n",
              "      </script>\n",
              "    </div>\n",
              "  </div>\n",
              "  "
            ]
          },
          "metadata": {},
          "execution_count": 50
        }
      ]
    },
    {
      "cell_type": "code",
      "source": [
        "soh=[]\n",
        "for i in range(len(capacity)):\n",
        "  soh.append(capacity.loc[i].at[\"capacity\"]/capacity.loc[0].at[\"capacity\"])"
      ],
      "metadata": {
        "id": "6_g6MRNA9dhT"
      },
      "execution_count": 51,
      "outputs": []
    },
    {
      "cell_type": "code",
      "source": [
        "plt.plot(range(len(soh)),soh)\n",
        "plt.ylabel('Real SOH')\n",
        "plt.xlabel('cycle')\n",
        "plt.show()"
      ],
      "metadata": {
        "colab": {
          "base_uri": "https://localhost:8080/",
          "height": 279
        },
        "id": "n6SiftOG9da6",
        "outputId": "cf559f33-6f75-43b8-dddb-551fe5281835"
      },
      "execution_count": 52,
      "outputs": [
        {
          "output_type": "display_data",
          "data": {
            "text/plain": [
              "<Figure size 432x288 with 1 Axes>"
            ],
            "image/png": "[encoded data removed]"
          },
          "metadata": {
            "needs_background": "light"
          }
        }
      ]
    },
    {
      "cell_type": "code",
      "source": [
        "capacity=np.asarray(capacity)"
      ],
      "metadata": {
        "id": "WRBvPXg19_cF"
      },
      "execution_count": 53,
      "outputs": []
    },
    {
      "cell_type": "code",
      "source": [
        "type(capacity)"
      ],
      "metadata": {
        "colab": {
          "base_uri": "https://localhost:8080/"
        },
        "id": "Z0pj0c2r-D4n",
        "outputId": "c97d9ef1-6cfc-4e8b-c2e7-c80c2eea0497"
      },
      "execution_count": 54,
      "outputs": [
        {
          "output_type": "execute_result",
          "data": {
            "text/plain": [
              "numpy.ndarray"
            ]
          },
          "metadata": {},
          "execution_count": 54
        }
      ]
    },
    {
      "cell_type": "code",
      "source": [
        "timestep = 5\n",
        "\n",
        "X= []\n",
        "Y=[]\n",
        "\n",
        "cap=capacity\n",
        "\n",
        "for i in range(len(capacity)- (timestep)):\n",
        "    X.append(capacity[i:i+timestep])\n",
        "    Y.append(soh[i+timestep])\n",
        "\n",
        "\n",
        "X=np.asanyarray(X)\n",
        "Y=np.asanyarray(Y)\n",
        "\n",
        "\n",
        "k = 100\n",
        "Xtrain = X[:k,:,:]  \n",
        "Ytrain = Y[:k]  "
      ],
      "metadata": {
        "id": "Cznc33Md9z3V"
      },
      "execution_count": 55,
      "outputs": []
    },
    {
      "cell_type": "code",
      "source": [
        "from keras.models import Sequential\n",
        "from keras.layers import Dense,RepeatVector\n",
        "from keras.layers import Flatten\n",
        "from keras.layers import TimeDistributed\n",
        "from keras.layers.convolutional import Conv1D\n",
        "from keras.layers.convolutional import MaxPooling1D"
      ],
      "metadata": {
        "id": "qTcxmCyr-juv"
      },
      "execution_count": 56,
      "outputs": []
    },
    {
      "cell_type": "code",
      "execution_count": 57,
      "metadata": {
        "colab": {
          "base_uri": "https://localhost:8080/"
        },
        "id": "NWdRySu_8-on",
        "outputId": "45d425a1-c3bc-463f-8c34-268bc17f35d7"
      },
      "outputs": [
        {
          "output_type": "stream",
          "name": "stdout",
          "text": [
            "Epoch 1/10\n",
            "4/4 [==============================] - 1s 6ms/step - loss: 0.4586\n",
            "Epoch 2/10\n",
            "4/4 [==============================] - 0s 5ms/step - loss: 0.0911\n",
            "Epoch 3/10\n",
            "4/4 [==============================] - 0s 5ms/step - loss: 0.0177\n",
            "Epoch 4/10\n",
            "4/4 [==============================] - 0s 5ms/step - loss: 0.0276\n",
            "Epoch 5/10\n",
            "4/4 [==============================] - 0s 4ms/step - loss: 0.0142\n",
            "Epoch 6/10\n",
            "4/4 [==============================] - 0s 5ms/step - loss: 0.0033\n",
            "Epoch 7/10\n",
            "4/4 [==============================] - 0s 4ms/step - loss: 0.0077\n",
            "Epoch 8/10\n",
            "4/4 [==============================] - 0s 5ms/step - loss: 0.0022\n",
            "Epoch 9/10\n",
            "4/4 [==============================] - 0s 5ms/step - loss: 0.0014\n",
            "Epoch 10/10\n",
            "4/4 [==============================] - 0s 5ms/step - loss: 0.0024\n"
          ]
        },
        {
          "output_type": "execute_result",
          "data": {
            "text/plain": [
              "<keras.callbacks.History at 0x7f45e1178e90>"
            ]
          },
          "metadata": {},
          "execution_count": 57
        }
      ],
      "source": [
        "model = Sequential()\n",
        "model.add(Conv1D(filters=256, kernel_size=2, activation='relu', input_shape=(5, 1)))\n",
        "model.add(Conv1D(filters=256, kernel_size=2, activation='relu'))\n",
        "model.add(Conv1D(filters=128, kernel_size=2, activation='relu'))\n",
        "model.add(Conv1D(filters=128, kernel_size=2, activation='relu'))\n",
        "\n",
        "model.add(Flatten())\n",
        "model.add(Dense(100, activation='relu'))\n",
        "model.add(Dense(1))\n",
        "model.compile(optimizer='adam', loss='mse')\n",
        "# fit model\n",
        "model.fit(Xtrain, Ytrain, epochs=10)"
      ]
    },
    {
      "cell_type": "code",
      "source": [
        "Xtest = X[k:,:,:]  \n",
        "Ytest= Y[k:]  "
      ],
      "metadata": {
        "id": "9Upz_yjr-q3Q"
      },
      "execution_count": 58,
      "outputs": []
    },
    {
      "cell_type": "code",
      "source": [
        "from sklearn.preprocessing import MinMaxScaler\n",
        "from sklearn.metrics import mean_squared_error\n",
        "from sklearn.metrics import confusion_matrix, accuracy_score, mean_absolute_error,r2_score"
      ],
      "metadata": {
        "id": "YQS_fo2c_Wp7"
      },
      "execution_count": 59,
      "outputs": []
    },
    {
      "cell_type": "code",
      "source": [
        "preds = model.predict(Xtest)\n",
        "\n",
        "\n",
        "\n",
        "Ytest=np.asanyarray(Ytest)  \n",
        "Ytest=Ytest.reshape(-1,1) \n",
        "\n",
        "\n",
        "\n",
        "Ytrain=np.asanyarray(Ytrain)  \n",
        "Ytrain=Ytrain.reshape(-1,1) \n",
        "\n",
        "\n",
        "mean_squared_error(Ytest,preds)"
      ],
      "metadata": {
        "colab": {
          "base_uri": "https://localhost:8080/"
        },
        "id": "5z4yx_kF-9Bm",
        "outputId": "48269e88-0571-40d4-e992-186a00b9520a"
      },
      "execution_count": 60,
      "outputs": [
        {
          "output_type": "stream",
          "name": "stdout",
          "text": [
            "2/2 [==============================] - 0s 7ms/step\n"
          ]
        },
        {
          "output_type": "execute_result",
          "data": {
            "text/plain": [
              "0.0001709204465512151"
            ]
          },
          "metadata": {},
          "execution_count": 60
        }
      ]
    },
    {
      "cell_type": "code",
      "source": [
        "rmse = np.sqrt(mean_squared_error(Ytest, preds))\n",
        "print('Test RMSE: %.3f' % rmse)\n"
      ],
      "metadata": {
        "colab": {
          "base_uri": "https://localhost:8080/"
        },
        "id": "La8-1JslnFhv",
        "outputId": "a114b1c0-9e0f-424c-beec-0a14f53db56b"
      },
      "execution_count": 61,
      "outputs": [
        {
          "output_type": "stream",
          "name": "stdout",
          "text": [
            "Test RMSE: 0.013\n"
          ]
        }
      ]
    },
    {
      "cell_type": "code",
      "source": [
        "mae = mean_absolute_error(Ytest,preds,multioutput='raw_values')\n",
        "r2 = r2_score(Ytest,preds)\n",
        "print('Mean Absolute Error: ', mae)\n",
        "print('R2_score: ', r2)"
      ],
      "metadata": {
        "colab": {
          "base_uri": "https://localhost:8080/"
        },
        "id": "LWM_5K8qqXST",
        "outputId": "07a08f77-9466-4507-fade-564e27d504a6"
      },
      "execution_count": 62,
      "outputs": [
        {
          "output_type": "stream",
          "name": "stdout",
          "text": [
            "Mean Absolute Error:  [0.01235261]\n",
            "R2_score:  0.7728989031009594\n"
          ]
        }
      ]
    },
    {
      "cell_type": "code",
      "source": [
        "plt.plot(range(len(preds)),preds)\n",
        "plt.plot(range(len(Ytest)),Ytest)\n",
        "plt.ylabel('SOH')\n",
        "plt.xlabel('cycle')"
      ],
      "metadata": {
        "colab": {
          "base_uri": "https://localhost:8080/",
          "height": 296
        },
        "id": "V4Zq6b2F_vJd",
        "outputId": "23fc14ef-31b3-41eb-8492-9d35d1e4ddb6"
      },
      "execution_count": 63,
      "outputs": [
        {
          "output_type": "execute_result",
          "data": {
            "text/plain": [
              "Text(0.5, 0, 'cycle')"
            ]
          },
          "metadata": {},
          "execution_count": 63
        },
        {
          "output_type": "display_data",
          "data": {
            "text/plain": [
              "<Figure size 432x288 with 1 Axes>"
            ],
            "image/png": "[encoded data removed]"
          },
          "metadata": {
            "needs_background": "light"
          }
        }
      ]
    },
    {
      "cell_type": "code",
      "source": [
        "preds = model.predict(X)"
      ],
      "metadata": {
        "colab": {
          "base_uri": "https://localhost:8080/"
        },
        "id": "qVBAZPnoACQV",
        "outputId": "a9f12ca8-4c48-48ba-b003-63dfef1322fa"
      },
      "execution_count": 64,
      "outputs": [
        {
          "output_type": "stream",
          "name": "stdout",
          "text": [
            "6/6 [==============================] - 0s 3ms/step\n"
          ]
        }
      ]
    },
    {
      "cell_type": "code",
      "source": [
        "preds"
      ],
      "metadata": {
        "colab": {
          "base_uri": "https://localhost:8080/"
        },
        "id": "Gb9lbCeMaaVH",
        "outputId": "ea4db041-02a8-4331-c2f1-52dcec192b59"
      },
      "execution_count": 65,
      "outputs": [
        {
          "output_type": "execute_result",
          "data": {
            "text/plain": [
              "array([[0.9681932 ],\n",
              "       [0.96663857],\n",
              "       [0.9663409 ],\n",
              "       [0.9660858 ],\n",
              "       [0.9648802 ],\n",
              "       [0.96302736],\n",
              "       [0.9617666 ],\n",
              "       [0.96104693],\n",
              "       [0.9596821 ],\n",
              "       [0.9577335 ],\n",
              "       [0.95609933],\n",
              "       [0.9543427 ],\n",
              "       [0.9522947 ],\n",
              "       [0.9510602 ],\n",
              "       [0.95085835],\n",
              "       [0.9523744 ],\n",
              "       [0.957956  ],\n",
              "       [0.96560335],\n",
              "       [0.96886975],\n",
              "       [0.9667194 ],\n",
              "       [0.9635287 ],\n",
              "       [0.96163785],\n",
              "       [0.95994943],\n",
              "       [0.9579682 ],\n",
              "       [0.95636064],\n",
              "       [0.954632  ],\n",
              "       [0.9542425 ],\n",
              "       [0.95851654],\n",
              "       [0.96397996],\n",
              "       [0.9638511 ],\n",
              "       [0.9593124 ],\n",
              "       [0.9548829 ],\n",
              "       [0.9515586 ],\n",
              "       [0.9482615 ],\n",
              "       [0.9445703 ],\n",
              "       [0.94097346],\n",
              "       [0.9381205 ],\n",
              "       [0.93604296],\n",
              "       [0.934326  ],\n",
              "       [0.93325245],\n",
              "       [0.9324783 ],\n",
              "       [0.9303424 ],\n",
              "       [0.92652947],\n",
              "       [0.9245238 ],\n",
              "       [0.92899   ],\n",
              "       [0.93663466],\n",
              "       [0.93871766],\n",
              "       [0.9345765 ],\n",
              "       [0.9292275 ],\n",
              "       [0.92500854],\n",
              "       [0.92168343],\n",
              "       [0.91827977],\n",
              "       [0.91424143],\n",
              "       [0.91026926],\n",
              "       [0.9071267 ],\n",
              "       [0.90454614],\n",
              "       [0.90184313],\n",
              "       [0.89850277],\n",
              "       [0.8946612 ],\n",
              "       [0.8912105 ],\n",
              "       [0.8882939 ],\n",
              "       [0.88531786],\n",
              "       [0.88224995],\n",
              "       [0.87894887],\n",
              "       [0.8754619 ],\n",
              "       [0.8724057 ],\n",
              "       [0.86984545],\n",
              "       [0.8671941 ],\n",
              "       [0.863979  ],\n",
              "       [0.86051095],\n",
              "       [0.8573043 ],\n",
              "       [0.8540317 ],\n",
              "       [0.8507302 ],\n",
              "       [0.8487615 ],\n",
              "       [0.8484632 ],\n",
              "       [0.8472283 ],\n",
              "       [0.84324247],\n",
              "       [0.838767  ],\n",
              "       [0.83600634],\n",
              "       [0.8343332 ],\n",
              "       [0.83223104],\n",
              "       [0.828972  ],\n",
              "       [0.8250048 ],\n",
              "       [0.82168704],\n",
              "       [0.8194566 ],\n",
              "       [0.8204358 ],\n",
              "       [0.8286009 ],\n",
              "       [0.8380115 ],\n",
              "       [0.83767724],\n",
              "       [0.830302  ],\n",
              "       [0.82360584],\n",
              "       [0.81903774],\n",
              "       [0.815413  ],\n",
              "       [0.8124075 ],\n",
              "       [0.80964315],\n",
              "       [0.806507  ],\n",
              "       [0.80307806],\n",
              "       [0.79999757],\n",
              "       [0.79787254],\n",
              "       [0.79786336],\n",
              "       [0.79984385],\n",
              "       [0.80046916],\n",
              "       [0.79723966],\n",
              "       [0.7918229 ],\n",
              "       [0.7873893 ],\n",
              "       [0.78528076],\n",
              "       [0.7839676 ],\n",
              "       [0.7815273 ],\n",
              "       [0.7783554 ],\n",
              "       [0.77591485],\n",
              "       [0.77421415],\n",
              "       [0.77229035],\n",
              "       [0.7699137 ],\n",
              "       [0.7675851 ],\n",
              "       [0.7657906 ],\n",
              "       [0.76532596],\n",
              "       [0.76770675],\n",
              "       [0.77172613],\n",
              "       [0.77241457],\n",
              "       [0.7683846 ],\n",
              "       [0.76342684],\n",
              "       [0.7599374 ],\n",
              "       [0.75736505],\n",
              "       [0.75491273],\n",
              "       [0.7523829 ],\n",
              "       [0.74982667],\n",
              "       [0.74751633],\n",
              "       [0.74574345],\n",
              "       [0.7446986 ],\n",
              "       [0.7452182 ],\n",
              "       [0.7473037 ],\n",
              "       [0.7480782 ],\n",
              "       [0.7456596 ],\n",
              "       [0.74189997],\n",
              "       [0.73906624],\n",
              "       [0.73764986],\n",
              "       [0.73658293],\n",
              "       [0.73481786],\n",
              "       [0.7326379 ],\n",
              "       [0.73081744],\n",
              "       [0.72929746],\n",
              "       [0.7274209 ],\n",
              "       [0.72505474],\n",
              "       [0.7227223 ],\n",
              "       [0.72109896],\n",
              "       [0.7206071 ],\n",
              "       [0.7223692 ],\n",
              "       [0.7272168 ],\n",
              "       [0.7314467 ],\n",
              "       [0.73046285],\n",
              "       [0.7263752 ],\n",
              "       [0.7228964 ],\n",
              "       [0.72045887],\n",
              "       [0.71861535],\n",
              "       [0.71702355],\n",
              "       [0.71529937],\n",
              "       [0.71386987],\n",
              "       [0.71308   ],\n",
              "       [0.7123159 ],\n",
              "       [0.71121037],\n",
              "       [0.7098704 ],\n",
              "       [0.7082157 ],\n",
              "       [0.70735264]], dtype=float32)"
            ]
          },
          "metadata": {},
          "execution_count": 65
        }
      ]
    },
    {
      "cell_type": "code",
      "source": [
        "plt.plot(range(len(preds)),preds)\n",
        "plt.plot(range(len(Y)),Y)\n",
        "plt.ylabel('SOH')\n",
        "plt.xlabel('cycle')"
      ],
      "metadata": {
        "colab": {
          "base_uri": "https://localhost:8080/",
          "height": 296
        },
        "id": "FdkTwLPXBMaQ",
        "outputId": "966764fc-ae85-4a65-d4b3-34a67c4ce185"
      },
      "execution_count": 66,
      "outputs": [
        {
          "output_type": "execute_result",
          "data": {
            "text/plain": [
              "Text(0.5, 0, 'cycle')"
            ]
          },
          "metadata": {},
          "execution_count": 66
        },
        {
          "output_type": "display_data",
          "data": {
            "text/plain": [
              "<Figure size 432x288 with 1 Axes>"
            ],
            "image/png": "[encoded data removed]"
          },
          "metadata": {
            "needs_background": "light"
          }
        }
      ]
    },
    {
      "cell_type": "markdown",
      "source": [
        "Predicting Capacity"
      ],
      "metadata": {
        "id": "h-BjWD-YGiJr"
      }
    },
    {
      "cell_type": "code",
      "source": [
        "timestep = 5\n",
        "\n",
        "X= []\n",
        "Y=[]\n",
        "\n",
        "cap=capacity\n",
        "\n",
        "for i in range(len(capacity)- (timestep)):\n",
        "    X.append(capacity[i:i+timestep])\n",
        "    Y.append(capacity[i+timestep])\n",
        "\n",
        "\n",
        "X=np.asanyarray(X)\n",
        "Y=np.asanyarray(Y)\n",
        "\n",
        "\n",
        "k = 100\n",
        "Xtrain = X[:k,:,:]  \n",
        "Ytrain = Y[:k] "
      ],
      "metadata": {
        "id": "0Cbk-Uu7BS8H"
      },
      "execution_count": 67,
      "outputs": []
    },
    {
      "cell_type": "code",
      "source": [
        "model = Sequential()\n",
        "model.add(Conv1D(filters=256, kernel_size=2, activation='relu', input_shape=(5, 1)))\n",
        "model.add(Conv1D(filters=256, kernel_size=2, activation='relu'))\n",
        "model.add(Conv1D(filters=128, kernel_size=2, activation='relu'))\n",
        "model.add(Conv1D(filters=128, kernel_size=2, activation='relu'))\n",
        "\n",
        "model.add(Flatten())\n",
        "model.add(Dense(100, activation='relu'))\n",
        "model.add(Dense(1))\n",
        "model.compile(optimizer='adam', loss='mse')\n",
        "# fit model\n",
        "model.fit(Xtrain, Ytrain, epochs=10)"
      ],
      "metadata": {
        "colab": {
          "base_uri": "https://localhost:8080/"
        },
        "id": "zNdZu5HwGtzf",
        "outputId": "3dbc5464-5b58-4ee4-e276-3009f5c8f181"
      },
      "execution_count": 68,
      "outputs": [
        {
          "output_type": "stream",
          "name": "stdout",
          "text": [
            "Epoch 1/10\n",
            "4/4 [==============================] - 1s 5ms/step - loss: 1.7850\n",
            "Epoch 2/10\n",
            "4/4 [==============================] - 0s 5ms/step - loss: 0.2795\n",
            "Epoch 3/10\n",
            "4/4 [==============================] - 0s 5ms/step - loss: 0.0622\n",
            "Epoch 4/10\n",
            "4/4 [==============================] - 0s 5ms/step - loss: 0.1887\n",
            "Epoch 5/10\n",
            "4/4 [==============================] - 0s 5ms/step - loss: 0.0314\n",
            "Epoch 6/10\n",
            "4/4 [==============================] - 0s 5ms/step - loss: 0.0679\n",
            "Epoch 7/10\n",
            "4/4 [==============================] - 0s 5ms/step - loss: 0.0072\n",
            "Epoch 8/10\n",
            "4/4 [==============================] - 0s 5ms/step - loss: 0.0322\n",
            "Epoch 9/10\n",
            "4/4 [==============================] - 0s 5ms/step - loss: 0.0040\n",
            "Epoch 10/10\n",
            "4/4 [==============================] - 0s 5ms/step - loss: 0.0106\n"
          ]
        },
        {
          "output_type": "execute_result",
          "data": {
            "text/plain": [
              "<keras.callbacks.History at 0x7f45e06e8c90>"
            ]
          },
          "metadata": {},
          "execution_count": 68
        }
      ]
    },
    {
      "cell_type": "code",
      "source": [
        "Xtest = X[k:,:,:]  \n",
        "Ytest= Y[k:]  "
      ],
      "metadata": {
        "id": "PWh3D0x3HEsp"
      },
      "execution_count": 69,
      "outputs": []
    },
    {
      "cell_type": "code",
      "source": [
        "preds = model.predict(Xtest)\n",
        "\n",
        "\n",
        "\n",
        "Ytest=np.asanyarray(Ytest)  \n",
        "Ytest=Ytest.reshape(-1,1) \n",
        "\n",
        "\n",
        "\n",
        "Ytrain=np.asanyarray(Ytrain)  \n",
        "Ytrain=Ytrain.reshape(-1,1) \n",
        "\n",
        "\n",
        "mean_squared_error(Ytest,preds)"
      ],
      "metadata": {
        "colab": {
          "base_uri": "https://localhost:8080/"
        },
        "id": "ZU5CyBKFHFE-",
        "outputId": "0e5a423e-79fe-43b2-ea18-b2d368290066"
      },
      "execution_count": 70,
      "outputs": [
        {
          "output_type": "stream",
          "name": "stdout",
          "text": [
            "2/2 [==============================] - 0s 6ms/step\n"
          ]
        },
        {
          "output_type": "execute_result",
          "data": {
            "text/plain": [
              "0.00017457260322603"
            ]
          },
          "metadata": {},
          "execution_count": 70
        }
      ]
    },
    {
      "cell_type": "code",
      "source": [
        "rmse = np.sqrt(mean_squared_error(Ytest, preds))\n",
        "print('Test RMSE: %.3f' % rmse)"
      ],
      "metadata": {
        "colab": {
          "base_uri": "https://localhost:8080/"
        },
        "id": "_SaX6xYIq6Jw",
        "outputId": "007ed881-7509-4758-d7f3-a8d8129855a9"
      },
      "execution_count": 71,
      "outputs": [
        {
          "output_type": "stream",
          "name": "stdout",
          "text": [
            "Test RMSE: 0.013\n"
          ]
        }
      ]
    },
    {
      "cell_type": "code",
      "source": [
        "mae = mean_absolute_error(Ytest,preds,multioutput='raw_values')\n",
        "r2 = r2_score(Ytest,preds)\n",
        "print('Mean Absolute Error: ', mae)\n",
        "print('R2_score: ', r2)"
      ],
      "metadata": {
        "colab": {
          "base_uri": "https://localhost:8080/"
        },
        "id": "P0nW-cm-rBdZ",
        "outputId": "21aad750-47bf-460e-9966-e874b8d0c8f9"
      },
      "execution_count": 72,
      "outputs": [
        {
          "output_type": "stream",
          "name": "stdout",
          "text": [
            "Mean Absolute Error:  [0.01076347]\n",
            "R2_score:  0.9326996567157718\n"
          ]
        }
      ]
    },
    {
      "cell_type": "code",
      "source": [
        "plt.plot(range(len(preds)),preds)\n",
        "plt.plot(range(len(Ytest)),Ytest)\n",
        "plt.ylabel('RUL')\n",
        "plt.xlabel('cycle')\n",
        "plt.show()\n"
      ],
      "metadata": {
        "colab": {
          "base_uri": "https://localhost:8080/",
          "height": 279
        },
        "id": "lBZVJUI8HIPq",
        "outputId": "f8a5a54d-8c42-4941-beb7-7f57462e2d97"
      },
      "execution_count": 73,
      "outputs": [
        {
          "output_type": "display_data",
          "data": {
            "text/plain": [
              "<Figure size 432x288 with 1 Axes>"
            ],
            "image/png": "[encoded data removed]"
          },
          "metadata": {
            "needs_background": "light"
          }
        }
      ]
    },
    {
      "cell_type": "code",
      "source": [
        "preds = model.predict(X)"
      ],
      "metadata": {
        "colab": {
          "base_uri": "https://localhost:8080/"
        },
        "id": "toBf2pImHMHi",
        "outputId": "3f89c24c-fe7d-4277-c079-4b251ff4c95d"
      },
      "execution_count": 74,
      "outputs": [
        {
          "output_type": "stream",
          "name": "stdout",
          "text": [
            "6/6 [==============================] - 0s 2ms/step\n"
          ]
        }
      ]
    },
    {
      "cell_type": "code",
      "source": [
        "preds"
      ],
      "metadata": {
        "colab": {
          "base_uri": "https://localhost:8080/"
        },
        "id": "zwkytPdcZ09D",
        "outputId": "1b6371ab-fa73-4c48-8e05-70d8ac6027a2"
      },
      "execution_count": 75,
      "outputs": [
        {
          "output_type": "execute_result",
          "data": {
            "text/plain": [
              "array([[1.786683 ],\n",
              "       [1.7837162],\n",
              "       [1.7831404],\n",
              "       [1.7826399],\n",
              "       [1.7804209],\n",
              "       [1.7769488],\n",
              "       [1.7745452],\n",
              "       [1.7731588],\n",
              "       [1.7706419],\n",
              "       [1.7669884],\n",
              "       [1.7638595],\n",
              "       [1.7605969],\n",
              "       [1.756758 ],\n",
              "       [1.7543987],\n",
              "       [1.7540009],\n",
              "       [1.7569553],\n",
              "       [1.7672862],\n",
              "       [1.7815971],\n",
              "       [1.7878957],\n",
              "       [1.7839346],\n",
              "       [1.7779092],\n",
              "       [1.7742814],\n",
              "       [1.7711504],\n",
              "       [1.7674328],\n",
              "       [1.7643479],\n",
              "       [1.7611483],\n",
              "       [1.7605313],\n",
              "       [1.7682996],\n",
              "       [1.7786095],\n",
              "       [1.7785484],\n",
              "       [1.7700113],\n",
              "       [1.7616409],\n",
              "       [1.7553498],\n",
              "       [1.7491708],\n",
              "       [1.7422246],\n",
              "       [1.7354724],\n",
              "       [1.7300766],\n",
              "       [1.7261401],\n",
              "       [1.7229472],\n",
              "       [1.7208925],\n",
              "       [1.7193918],\n",
              "       [1.7154311],\n",
              "       [1.708299 ],\n",
              "       [1.704653 ],\n",
              "       [1.7127498],\n",
              "       [1.7270923],\n",
              "       [1.7312179],\n",
              "       [1.7234641],\n",
              "       [1.7133884],\n",
              "       [1.7054242],\n",
              "       [1.6991357],\n",
              "       [1.6927419],\n",
              "       [1.6851757],\n",
              "       [1.6776922],\n",
              "       [1.6717503],\n",
              "       [1.6668887],\n",
              "       [1.6617996],\n",
              "       [1.6555278],\n",
              "       [1.6483413],\n",
              "       [1.6418079],\n",
              "       [1.6363097],\n",
              "       [1.6307263],\n",
              "       [1.6249293],\n",
              "       [1.6187444],\n",
              "       [1.6121889],\n",
              "       [1.606417 ],\n",
              "       [1.6015918],\n",
              "       [1.596595 ],\n",
              "       [1.5905766],\n",
              "       [1.5840565],\n",
              "       [1.5779895],\n",
              "       [1.5718575],\n",
              "       [1.5656642],\n",
              "       [1.5619562],\n",
              "       [1.5612861],\n",
              "       [1.5590034],\n",
              "       [1.551601 ],\n",
              "       [1.5431682],\n",
              "       [1.537923 ],\n",
              "       [1.5347497],\n",
              "       [1.5308006],\n",
              "       [1.5246906],\n",
              "       [1.5172672],\n",
              "       [1.5109987],\n",
              "       [1.5067633],\n",
              "       [1.5087248],\n",
              "       [1.5236515],\n",
              "       [1.5415326],\n",
              "       [1.5412318],\n",
              "       [1.5273134],\n",
              "       [1.5146372],\n",
              "       [1.5060178],\n",
              "       [1.4991907],\n",
              "       [1.493522 ],\n",
              "       [1.4883035],\n",
              "       [1.4824222],\n",
              "       [1.4759812],\n",
              "       [1.4701701],\n",
              "       [1.4661955],\n",
              "       [1.4661543],\n",
              "       [1.4697717],\n",
              "       [1.4709798],\n",
              "       [1.4649873],\n",
              "       [1.4548563],\n",
              "       [1.4464962],\n",
              "       [1.4424548],\n",
              "       [1.4399558],\n",
              "       [1.4354074],\n",
              "       [1.4294715],\n",
              "       [1.4248483],\n",
              "       [1.421624 ],\n",
              "       [1.4180181],\n",
              "       [1.4135538],\n",
              "       [1.4091835],\n",
              "       [1.4057893],\n",
              "       [1.4049541],\n",
              "       [1.4093566],\n",
              "       [1.4168184],\n",
              "       [1.4182004],\n",
              "       [1.4107288],\n",
              "       [1.4013934],\n",
              "       [1.3947892],\n",
              "       [1.3899384],\n",
              "       [1.385324 ],\n",
              "       [1.3805652],\n",
              "       [1.375758 ],\n",
              "       [1.3714184],\n",
              "       [1.3680631],\n",
              "       [1.3661133],\n",
              "       [1.367085 ],\n",
              "       [1.370905 ],\n",
              "       [1.3724025],\n",
              "       [1.3679242],\n",
              "       [1.3608708],\n",
              "       [1.3555337],\n",
              "       [1.3528198],\n",
              "       [1.350804 ],\n",
              "       [1.3475052],\n",
              "       [1.3434206],\n",
              "       [1.3399799],\n",
              "       [1.337102 ],\n",
              "       [1.333584 ],\n",
              "       [1.3291415],\n",
              "       [1.324764 ],\n",
              "       [1.3217014],\n",
              "       [1.3207642],\n",
              "       [1.3240885],\n",
              "       [1.3330597],\n",
              "       [1.3410325],\n",
              "       [1.3393303],\n",
              "       [1.3316708],\n",
              "       [1.3250879],\n",
              "       [1.3205023],\n",
              "       [1.3170178],\n",
              "       [1.3140086],\n",
              "       [1.310788 ],\n",
              "       [1.3080975],\n",
              "       [1.3065777],\n",
              "       [1.305151 ],\n",
              "       [1.3030787],\n",
              "       [1.3005443],\n",
              "       [1.2974535],\n",
              "       [1.2958695]], dtype=float32)"
            ]
          },
          "metadata": {},
          "execution_count": 75
        }
      ]
    },
    {
      "cell_type": "code",
      "source": [
        "plt.plot(range(len(preds)),preds)\n",
        "plt.plot(range(len(Y)),Y)\n",
        "plt.ylabel('RUL')\n",
        "plt.xlabel('cycle')\n",
        "plt.show()"
      ],
      "metadata": {
        "colab": {
          "base_uri": "https://localhost:8080/",
          "height": 279
        },
        "id": "JLrSZvZjHQJ-",
        "outputId": "10c6ca87-8500-41ff-8cc1-bbc67495d5bf"
      },
      "execution_count": 76,
      "outputs": [
        {
          "output_type": "display_data",
          "data": {
            "text/plain": [
              "<Figure size 432x288 with 1 Axes>"
            ],
            "image/png": "[encoded data removed]"
          },
          "metadata": {
            "needs_background": "light"
          }
        }
      ]
    },
    {
      "cell_type": "code",
      "source": [],
      "metadata": {
        "id": "HCPEFm9JHU9B"
      },
      "execution_count": 76,
      "outputs": []
    }
  ]
}