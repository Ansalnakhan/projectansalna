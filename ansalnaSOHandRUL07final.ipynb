{
  "nbformat": 4,
  "nbformat_minor": 0,
  "metadata": {
    "colab": {
      "provenance": [],
      "include_colab_link": true
    },
    "kernelspec": {
      "name": "python3",
      "display_name": "Python 3"
    },
    "language_info": {
      "name": "python"
    },
    "accelerator": "GPU"
  },
  "cells": [
    {
      "cell_type": "markdown",
      "metadata": {
        "id": "view-in-github",
        "colab_type": "text"
      },
      "source": [
        "<a href=\"https://colab.research.google.com/github/Ansalnakhan/projectansalna/blob/main/ansalnaSOHandRUL07final.ipynb\" target=\"_parent\"><img src=\"https://colab.research.google.com/assets/colab-badge.svg\" alt=\"Open In Colab\"/></a>"
      ]
    },
    {
      "cell_type": "code",
      "source": [
        "import tensorflow as tf\n",
        "from tensorflow import keras\n",
        "\n",
        "import numpy as np"
      ],
      "metadata": {
        "id": "PGNP9R9S9ApK"
      },
      "execution_count": 1652,
      "outputs": []
    },
    {
      "cell_type": "code",
      "source": [
        "import pandas as pd"
      ],
      "metadata": {
        "id": "93pnEOlX9EBh"
      },
      "execution_count": 1653,
      "outputs": []
    },
    {
      "cell_type": "code",
      "source": [
        "data=pd.read_csv(\"/content/B0007.csv\")\n",
        "data"
      ],
      "metadata": {
        "colab": {
          "base_uri": "https://localhost:8080/",
          "height": 852
        },
        "id": "AWaOdyLR9Hbi",
        "outputId": "f0f5c992-c4f7-42c4-98c3-8416c3d4f1f2"
      },
      "execution_count": 1654,
      "outputs": [
        {
          "output_type": "execute_result",
          "data": {
            "text/plain": [
              "       Unnamed: 0  cycle  ambient_temperature             datetime  capacity  \\\n",
              "0               0      1                   24  2008-04-02 15:25:41  1.856487   \n",
              "1               1      1                   24  2008-04-02 15:25:41  1.856487   \n",
              "2               2      1                   24  2008-04-02 15:25:41  1.856487   \n",
              "3               3      1                   24  2008-04-02 15:25:41  1.856487   \n",
              "4               4      1                   24  2008-04-02 15:25:41  1.856487   \n",
              "...           ...    ...                  ...                  ...       ...   \n",
              "50280       50280    168                   24  2008-05-27 20:45:42  1.325079   \n",
              "50281       50281    168                   24  2008-05-27 20:45:42  1.325079   \n",
              "50282       50282    168                   24  2008-05-27 20:45:42  1.325079   \n",
              "50283       50283    168                   24  2008-05-27 20:45:42  1.325079   \n",
              "50284       50284    168                   24  2008-05-27 20:45:42  1.325079   \n",
              "\n",
              "       voltage_measured  current_measured  temperature_measured  current_load  \\\n",
              "0              4.191492         -0.004902             24.330034       -0.0006   \n",
              "1              4.190749         -0.001478             24.325993       -0.0006   \n",
              "2              3.974871         -2.012528             24.389085       -1.9982   \n",
              "3              3.951717         -2.013979             24.544752       -1.9982   \n",
              "4              3.934352         -2.011144             24.731385       -1.9982   \n",
              "...                 ...               ...                   ...           ...   \n",
              "50280          3.579262         -0.001569             34.864823        0.0006   \n",
              "50281          3.581964         -0.003067             34.814770        0.0006   \n",
              "50282          3.584484         -0.003079             34.676258        0.0006   \n",
              "50283          3.587336          0.001219             34.565580        0.0006   \n",
              "50284          3.589937         -0.000583             34.405920        0.0006   \n",
              "\n",
              "       voltage_load      time  \n",
              "0             0.000     0.000  \n",
              "1             4.206    16.781  \n",
              "2             3.062    35.703  \n",
              "3             3.030    53.781  \n",
              "4             3.011    71.922  \n",
              "...             ...       ...  \n",
              "50280         0.000  2781.312  \n",
              "50281         0.000  2791.062  \n",
              "50282         0.000  2800.828  \n",
              "50283         0.000  2810.640  \n",
              "50284         0.000  2820.390  \n",
              "\n",
              "[50285 rows x 11 columns]"
            ],
            "text/html": [
              "\n",
              "  <div id=\"df-9a271605-e42c-4e3c-be8f-5bba5c45a52f\">\n",
              "    <div class=\"colab-df-container\">\n",
              "      <div>\n",
              "<style scoped>\n",
              "    .dataframe tbody tr th:only-of-type {\n",
              "        vertical-align: middle;\n",
              "    }\n",
              "\n",
              "    .dataframe tbody tr th {\n",
              "        vertical-align: top;\n",
              "    }\n",
              "\n",
              "    .dataframe thead th {\n",
              "        text-align: right;\n",
              "    }\n",
              "</style>\n",
              "<table border=\"1\" class=\"dataframe\">\n",
              "  <thead>\n",
              "    <tr style=\"text-align: right;\">\n",
              "      <th></th>\n",
              "      <th>Unnamed: 0</th>\n",
              "      <th>cycle</th>\n",
              "      <th>ambient_temperature</th>\n",
              "      <th>datetime</th>\n",
              "      <th>capacity</th>\n",
              "      <th>voltage_measured</th>\n",
              "      <th>current_measured</th>\n",
              "      <th>temperature_measured</th>\n",
              "      <th>current_load</th>\n",
              "      <th>voltage_load</th>\n",
              "      <th>time</th>\n",
              "    </tr>\n",
              "  </thead>\n",
              "  <tbody>\n",
              "    <tr>\n",
              "      <th>0</th>\n",
              "      <td>0</td>\n",
              "      <td>1</td>\n",
              "      <td>24</td>\n",
              "      <td>2008-04-02 15:25:41</td>\n",
              "      <td>1.856487</td>\n",
              "      <td>4.191492</td>\n",
              "      <td>-0.004902</td>\n",
              "      <td>24.330034</td>\n",
              "      <td>-0.0006</td>\n",
              "      <td>0.000</td>\n",
              "      <td>0.000</td>\n",
              "    </tr>\n",
              "    <tr>\n",
              "      <th>1</th>\n",
              "      <td>1</td>\n",
              "      <td>1</td>\n",
              "      <td>24</td>\n",
              "      <td>2008-04-02 15:25:41</td>\n",
              "      <td>1.856487</td>\n",
              "      <td>4.190749</td>\n",
              "      <td>-0.001478</td>\n",
              "      <td>24.325993</td>\n",
              "      <td>-0.0006</td>\n",
              "      <td>4.206</td>\n",
              "      <td>16.781</td>\n",
              "    </tr>\n",
              "    <tr>\n",
              "      <th>2</th>\n",
              "      <td>2</td>\n",
              "      <td>1</td>\n",
              "      <td>24</td>\n",
              "      <td>2008-04-02 15:25:41</td>\n",
              "      <td>1.856487</td>\n",
              "      <td>3.974871</td>\n",
              "      <td>-2.012528</td>\n",
              "      <td>24.389085</td>\n",
              "      <td>-1.9982</td>\n",
              "      <td>3.062</td>\n",
              "      <td>35.703</td>\n",
              "    </tr>\n",
              "    <tr>\n",
              "      <th>3</th>\n",
              "      <td>3</td>\n",
              "      <td>1</td>\n",
              "      <td>24</td>\n",
              "      <td>2008-04-02 15:25:41</td>\n",
              "      <td>1.856487</td>\n",
              "      <td>3.951717</td>\n",
              "      <td>-2.013979</td>\n",
              "      <td>24.544752</td>\n",
              "      <td>-1.9982</td>\n",
              "      <td>3.030</td>\n",
              "      <td>53.781</td>\n",
              "    </tr>\n",
              "    <tr>\n",
              "      <th>4</th>\n",
              "      <td>4</td>\n",
              "      <td>1</td>\n",
              "      <td>24</td>\n",
              "      <td>2008-04-02 15:25:41</td>\n",
              "      <td>1.856487</td>\n",
              "      <td>3.934352</td>\n",
              "      <td>-2.011144</td>\n",
              "      <td>24.731385</td>\n",
              "      <td>-1.9982</td>\n",
              "      <td>3.011</td>\n",
              "      <td>71.922</td>\n",
              "    </tr>\n",
              "    <tr>\n",
              "      <th>...</th>\n",
              "      <td>...</td>\n",
              "      <td>...</td>\n",
              "      <td>...</td>\n",
              "      <td>...</td>\n",
              "      <td>...</td>\n",
              "      <td>...</td>\n",
              "      <td>...</td>\n",
              "      <td>...</td>\n",
              "      <td>...</td>\n",
              "      <td>...</td>\n",
              "      <td>...</td>\n",
              "    </tr>\n",
              "    <tr>\n",
              "      <th>50280</th>\n",
              "      <td>50280</td>\n",
              "      <td>168</td>\n",
              "      <td>24</td>\n",
              "      <td>2008-05-27 20:45:42</td>\n",
              "      <td>1.325079</td>\n",
              "      <td>3.579262</td>\n",
              "      <td>-0.001569</td>\n",
              "      <td>34.864823</td>\n",
              "      <td>0.0006</td>\n",
              "      <td>0.000</td>\n",
              "      <td>2781.312</td>\n",
              "    </tr>\n",
              "    <tr>\n",
              "      <th>50281</th>\n",
              "      <td>50281</td>\n",
              "      <td>168</td>\n",
              "      <td>24</td>\n",
              "      <td>2008-05-27 20:45:42</td>\n",
              "      <td>1.325079</td>\n",
              "      <td>3.581964</td>\n",
              "      <td>-0.003067</td>\n",
              "      <td>34.814770</td>\n",
              "      <td>0.0006</td>\n",
              "      <td>0.000</td>\n",
              "      <td>2791.062</td>\n",
              "    </tr>\n",
              "    <tr>\n",
              "      <th>50282</th>\n",
              "      <td>50282</td>\n",
              "      <td>168</td>\n",
              "      <td>24</td>\n",
              "      <td>2008-05-27 20:45:42</td>\n",
              "      <td>1.325079</td>\n",
              "      <td>3.584484</td>\n",
              "      <td>-0.003079</td>\n",
              "      <td>34.676258</td>\n",
              "      <td>0.0006</td>\n",
              "      <td>0.000</td>\n",
              "      <td>2800.828</td>\n",
              "    </tr>\n",
              "    <tr>\n",
              "      <th>50283</th>\n",
              "      <td>50283</td>\n",
              "      <td>168</td>\n",
              "      <td>24</td>\n",
              "      <td>2008-05-27 20:45:42</td>\n",
              "      <td>1.325079</td>\n",
              "      <td>3.587336</td>\n",
              "      <td>0.001219</td>\n",
              "      <td>34.565580</td>\n",
              "      <td>0.0006</td>\n",
              "      <td>0.000</td>\n",
              "      <td>2810.640</td>\n",
              "    </tr>\n",
              "    <tr>\n",
              "      <th>50284</th>\n",
              "      <td>50284</td>\n",
              "      <td>168</td>\n",
              "      <td>24</td>\n",
              "      <td>2008-05-27 20:45:42</td>\n",
              "      <td>1.325079</td>\n",
              "      <td>3.589937</td>\n",
              "      <td>-0.000583</td>\n",
              "      <td>34.405920</td>\n",
              "      <td>0.0006</td>\n",
              "      <td>0.000</td>\n",
              "      <td>2820.390</td>\n",
              "    </tr>\n",
              "  </tbody>\n",
              "</table>\n",
              "<p>50285 rows × 11 columns</p>\n",
              "</div>\n",
              "      <button class=\"colab-df-convert\" onclick=\"convertToInteractive('df-9a271605-e42c-4e3c-be8f-5bba5c45a52f')\"\n",
              "              title=\"Convert this dataframe to an interactive table.\"\n",
              "              style=\"display:none;\">\n",
              "        \n",
              "  <svg xmlns=\"http://www.w3.org/2000/svg\" height=\"24px\"viewBox=\"0 0 24 24\"\n",
              "       width=\"24px\">\n",
              "    <path d=\"M0 0h24v24H0V0z\" fill=\"none\"/>\n",
              "    <path d=\"M18.56 5.44l.94 2.06.94-2.06 2.06-.94-2.06-.94-.94-2.06-.94 2.06-2.06.94zm-11 1L8.5 8.5l.94-2.06 2.06-.94-2.06-.94L8.5 2.5l-.94 2.06-2.06.94zm10 10l.94 2.06.94-2.06 2.06-.94-2.06-.94-.94-2.06-.94 2.06-2.06.94z\"/><path d=\"M17.41 7.96l-1.37-1.37c-.4-.4-.92-.59-1.43-.59-.52 0-1.04.2-1.43.59L10.3 9.45l-7.72 7.72c-.78.78-.78 2.05 0 2.83L4 21.41c.39.39.9.59 1.41.59.51 0 1.02-.2 1.41-.59l7.78-7.78 2.81-2.81c.8-.78.8-2.07 0-2.86zM5.41 20L4 18.59l7.72-7.72 1.47 1.35L5.41 20z\"/>\n",
              "  </svg>\n",
              "      </button>\n",
              "      \n",
              "  <style>\n",
              "    .colab-df-container {\n",
              "      display:flex;\n",
              "      flex-wrap:wrap;\n",
              "      gap: 12px;\n",
              "    }\n",
              "\n",
              "    .colab-df-convert {\n",
              "      background-color: #E8F0FE;\n",
              "      border: none;\n",
              "      border-radius: 50%;\n",
              "      cursor: pointer;\n",
              "      display: none;\n",
              "      fill: #1967D2;\n",
              "      height: 32px;\n",
              "      padding: 0 0 0 0;\n",
              "      width: 32px;\n",
              "    }\n",
              "\n",
              "    .colab-df-convert:hover {\n",
              "      background-color: #E2EBFA;\n",
              "      box-shadow: 0px 1px 2px rgba(60, 64, 67, 0.3), 0px 1px 3px 1px rgba(60, 64, 67, 0.15);\n",
              "      fill: #174EA6;\n",
              "    }\n",
              "\n",
              "    [theme=dark] .colab-df-convert {\n",
              "      background-color: #3B4455;\n",
              "      fill: #D2E3FC;\n",
              "    }\n",
              "\n",
              "    [theme=dark] .colab-df-convert:hover {\n",
              "      background-color: #434B5C;\n",
              "      box-shadow: 0px 1px 3px 1px rgba(0, 0, 0, 0.15);\n",
              "      filter: drop-shadow(0px 1px 2px rgba(0, 0, 0, 0.3));\n",
              "      fill: #FFFFFF;\n",
              "    }\n",
              "  </style>\n",
              "\n",
              "      <script>\n",
              "        const buttonEl =\n",
              "          document.querySelector('#df-9a271605-e42c-4e3c-be8f-5bba5c45a52f button.colab-df-convert');\n",
              "        buttonEl.style.display =\n",
              "          google.colab.kernel.accessAllowed ? 'block' : 'none';\n",
              "\n",
              "        async function convertToInteractive(key) {\n",
              "          const element = document.querySelector('#df-9a271605-e42c-4e3c-be8f-5bba5c45a52f');\n",
              "          const dataTable =\n",
              "            await google.colab.kernel.invokeFunction('convertToInteractive',\n",
              "                                                     [key], {});\n",
              "          if (!dataTable) return;\n",
              "\n",
              "          const docLinkHtml = 'Like what you see? Visit the ' +\n",
              "            '<a target=\"_blank\" href=https://colab.research.google.com/notebooks/data_table.ipynb>data table notebook</a>'\n",
              "            + ' to learn more about interactive tables.';\n",
              "          element.innerHTML = '';\n",
              "          dataTable['output_type'] = 'display_data';\n",
              "          await google.colab.output.renderOutput(dataTable, element);\n",
              "          const docLink = document.createElement('div');\n",
              "          docLink.innerHTML = docLinkHtml;\n",
              "          element.appendChild(docLink);\n",
              "        }\n",
              "      </script>\n",
              "    </div>\n",
              "  </div>\n",
              "  "
            ]
          },
          "metadata": {},
          "execution_count": 1654
        }
      ]
    },
    {
      "cell_type": "code",
      "source": [
        "data=data.drop_duplicates(subset=['cycle'], keep='last')\n",
        "data"
      ],
      "metadata": {
        "colab": {
          "base_uri": "https://localhost:8080/",
          "height": 852
        },
        "id": "R-d6HTbi9HVj",
        "outputId": "659be935-bf94-47a8-ea8c-23c23dba1b75"
      },
      "execution_count": 1655,
      "outputs": [
        {
          "output_type": "execute_result",
          "data": {
            "text/plain": [
              "       Unnamed: 0  cycle  ambient_temperature             datetime  capacity  \\\n",
              "196           196      1                   24  2008-04-02 15:25:41  1.856487   \n",
              "392           392      2                   24  2008-04-02 19:43:48  1.846327   \n",
              "587           587      3                   24  2008-04-03 00:01:06  1.835349   \n",
              "781           781      4                   24  2008-04-03 04:16:37  1.835263   \n",
              "975           975      5                   24  2008-04-03 08:33:25  1.834646   \n",
              "...           ...    ...                  ...                  ...       ...   \n",
              "49092       49092    164                   24  2008-05-26 10:44:38  1.293464   \n",
              "49389       49389    165                   24  2008-05-26 15:30:43  1.288003   \n",
              "49686       49686    166                   24  2008-05-26 20:21:04  1.287453   \n",
              "49984       49984    167                   24  2008-05-27 15:52:41  1.309015   \n",
              "50284       50284    168                   24  2008-05-27 20:45:42  1.325079   \n",
              "\n",
              "       voltage_measured  current_measured  temperature_measured  current_load  \\\n",
              "196            3.277170         -0.006528             34.230853       -0.0006   \n",
              "392            3.300245         -0.000448             34.392137       -0.0006   \n",
              "587            3.327451          0.001026             34.232779       -0.0006   \n",
              "781            3.314182         -0.002234             34.413450       -0.0006   \n",
              "975            3.305497          0.000009             34.345885       -0.0006   \n",
              "...                 ...               ...                   ...           ...   \n",
              "49092          3.615561         -0.002548             34.075649        0.0006   \n",
              "49389          3.621191         -0.002460             33.991350        0.0006   \n",
              "49686          3.619185          0.000478             34.059198        0.0006   \n",
              "49984          3.595365         -0.002342             34.556514        0.0006   \n",
              "50284          3.589937         -0.000583             34.405920        0.0006   \n",
              "\n",
              "       voltage_load      time  \n",
              "196             0.0  3690.234  \n",
              "392             0.0  3672.344  \n",
              "587             0.0  3651.641  \n",
              "781             0.0  3631.563  \n",
              "975             0.0  3629.172  \n",
              "...             ...       ...  \n",
              "49092           0.0  2793.390  \n",
              "49389           0.0  2793.390  \n",
              "49686           0.0  2792.485  \n",
              "49984           0.0  2802.016  \n",
              "50284           0.0  2820.390  \n",
              "\n",
              "[168 rows x 11 columns]"
            ],
            "text/html": [
              "\n",
              "  <div id=\"df-c593d3e8-492c-4f9a-a361-fce3e61cec89\">\n",
              "    <div class=\"colab-df-container\">\n",
              "      <div>\n",
              "<style scoped>\n",
              "    .dataframe tbody tr th:only-of-type {\n",
              "        vertical-align: middle;\n",
              "    }\n",
              "\n",
              "    .dataframe tbody tr th {\n",
              "        vertical-align: top;\n",
              "    }\n",
              "\n",
              "    .dataframe thead th {\n",
              "        text-align: right;\n",
              "    }\n",
              "</style>\n",
              "<table border=\"1\" class=\"dataframe\">\n",
              "  <thead>\n",
              "    <tr style=\"text-align: right;\">\n",
              "      <th></th>\n",
              "      <th>Unnamed: 0</th>\n",
              "      <th>cycle</th>\n",
              "      <th>ambient_temperature</th>\n",
              "      <th>datetime</th>\n",
              "      <th>capacity</th>\n",
              "      <th>voltage_measured</th>\n",
              "      <th>current_measured</th>\n",
              "      <th>temperature_measured</th>\n",
              "      <th>current_load</th>\n",
              "      <th>voltage_load</th>\n",
              "      <th>time</th>\n",
              "    </tr>\n",
              "  </thead>\n",
              "  <tbody>\n",
              "    <tr>\n",
              "      <th>196</th>\n",
              "      <td>196</td>\n",
              "      <td>1</td>\n",
              "      <td>24</td>\n",
              "      <td>2008-04-02 15:25:41</td>\n",
              "      <td>1.856487</td>\n",
              "      <td>3.277170</td>\n",
              "      <td>-0.006528</td>\n",
              "      <td>34.230853</td>\n",
              "      <td>-0.0006</td>\n",
              "      <td>0.0</td>\n",
              "      <td>3690.234</td>\n",
              "    </tr>\n",
              "    <tr>\n",
              "      <th>392</th>\n",
              "      <td>392</td>\n",
              "      <td>2</td>\n",
              "      <td>24</td>\n",
              "      <td>2008-04-02 19:43:48</td>\n",
              "      <td>1.846327</td>\n",
              "      <td>3.300245</td>\n",
              "      <td>-0.000448</td>\n",
              "      <td>34.392137</td>\n",
              "      <td>-0.0006</td>\n",
              "      <td>0.0</td>\n",
              "      <td>3672.344</td>\n",
              "    </tr>\n",
              "    <tr>\n",
              "      <th>587</th>\n",
              "      <td>587</td>\n",
              "      <td>3</td>\n",
              "      <td>24</td>\n",
              "      <td>2008-04-03 00:01:06</td>\n",
              "      <td>1.835349</td>\n",
              "      <td>3.327451</td>\n",
              "      <td>0.001026</td>\n",
              "      <td>34.232779</td>\n",
              "      <td>-0.0006</td>\n",
              "      <td>0.0</td>\n",
              "      <td>3651.641</td>\n",
              "    </tr>\n",
              "    <tr>\n",
              "      <th>781</th>\n",
              "      <td>781</td>\n",
              "      <td>4</td>\n",
              "      <td>24</td>\n",
              "      <td>2008-04-03 04:16:37</td>\n",
              "      <td>1.835263</td>\n",
              "      <td>3.314182</td>\n",
              "      <td>-0.002234</td>\n",
              "      <td>34.413450</td>\n",
              "      <td>-0.0006</td>\n",
              "      <td>0.0</td>\n",
              "      <td>3631.563</td>\n",
              "    </tr>\n",
              "    <tr>\n",
              "      <th>975</th>\n",
              "      <td>975</td>\n",
              "      <td>5</td>\n",
              "      <td>24</td>\n",
              "      <td>2008-04-03 08:33:25</td>\n",
              "      <td>1.834646</td>\n",
              "      <td>3.305497</td>\n",
              "      <td>0.000009</td>\n",
              "      <td>34.345885</td>\n",
              "      <td>-0.0006</td>\n",
              "      <td>0.0</td>\n",
              "      <td>3629.172</td>\n",
              "    </tr>\n",
              "    <tr>\n",
              "      <th>...</th>\n",
              "      <td>...</td>\n",
              "      <td>...</td>\n",
              "      <td>...</td>\n",
              "      <td>...</td>\n",
              "      <td>...</td>\n",
              "      <td>...</td>\n",
              "      <td>...</td>\n",
              "      <td>...</td>\n",
              "      <td>...</td>\n",
              "      <td>...</td>\n",
              "      <td>...</td>\n",
              "    </tr>\n",
              "    <tr>\n",
              "      <th>49092</th>\n",
              "      <td>49092</td>\n",
              "      <td>164</td>\n",
              "      <td>24</td>\n",
              "      <td>2008-05-26 10:44:38</td>\n",
              "      <td>1.293464</td>\n",
              "      <td>3.615561</td>\n",
              "      <td>-0.002548</td>\n",
              "      <td>34.075649</td>\n",
              "      <td>0.0006</td>\n",
              "      <td>0.0</td>\n",
              "      <td>2793.390</td>\n",
              "    </tr>\n",
              "    <tr>\n",
              "      <th>49389</th>\n",
              "      <td>49389</td>\n",
              "      <td>165</td>\n",
              "      <td>24</td>\n",
              "      <td>2008-05-26 15:30:43</td>\n",
              "      <td>1.288003</td>\n",
              "      <td>3.621191</td>\n",
              "      <td>-0.002460</td>\n",
              "      <td>33.991350</td>\n",
              "      <td>0.0006</td>\n",
              "      <td>0.0</td>\n",
              "      <td>2793.390</td>\n",
              "    </tr>\n",
              "    <tr>\n",
              "      <th>49686</th>\n",
              "      <td>49686</td>\n",
              "      <td>166</td>\n",
              "      <td>24</td>\n",
              "      <td>2008-05-26 20:21:04</td>\n",
              "      <td>1.287453</td>\n",
              "      <td>3.619185</td>\n",
              "      <td>0.000478</td>\n",
              "      <td>34.059198</td>\n",
              "      <td>0.0006</td>\n",
              "      <td>0.0</td>\n",
              "      <td>2792.485</td>\n",
              "    </tr>\n",
              "    <tr>\n",
              "      <th>49984</th>\n",
              "      <td>49984</td>\n",
              "      <td>167</td>\n",
              "      <td>24</td>\n",
              "      <td>2008-05-27 15:52:41</td>\n",
              "      <td>1.309015</td>\n",
              "      <td>3.595365</td>\n",
              "      <td>-0.002342</td>\n",
              "      <td>34.556514</td>\n",
              "      <td>0.0006</td>\n",
              "      <td>0.0</td>\n",
              "      <td>2802.016</td>\n",
              "    </tr>\n",
              "    <tr>\n",
              "      <th>50284</th>\n",
              "      <td>50284</td>\n",
              "      <td>168</td>\n",
              "      <td>24</td>\n",
              "      <td>2008-05-27 20:45:42</td>\n",
              "      <td>1.325079</td>\n",
              "      <td>3.589937</td>\n",
              "      <td>-0.000583</td>\n",
              "      <td>34.405920</td>\n",
              "      <td>0.0006</td>\n",
              "      <td>0.0</td>\n",
              "      <td>2820.390</td>\n",
              "    </tr>\n",
              "  </tbody>\n",
              "</table>\n",
              "<p>168 rows × 11 columns</p>\n",
              "</div>\n",
              "      <button class=\"colab-df-convert\" onclick=\"convertToInteractive('df-c593d3e8-492c-4f9a-a361-fce3e61cec89')\"\n",
              "              title=\"Convert this dataframe to an interactive table.\"\n",
              "              style=\"display:none;\">\n",
              "        \n",
              "  <svg xmlns=\"http://www.w3.org/2000/svg\" height=\"24px\"viewBox=\"0 0 24 24\"\n",
              "       width=\"24px\">\n",
              "    <path d=\"M0 0h24v24H0V0z\" fill=\"none\"/>\n",
              "    <path d=\"M18.56 5.44l.94 2.06.94-2.06 2.06-.94-2.06-.94-.94-2.06-.94 2.06-2.06.94zm-11 1L8.5 8.5l.94-2.06 2.06-.94-2.06-.94L8.5 2.5l-.94 2.06-2.06.94zm10 10l.94 2.06.94-2.06 2.06-.94-2.06-.94-.94-2.06-.94 2.06-2.06.94z\"/><path d=\"M17.41 7.96l-1.37-1.37c-.4-.4-.92-.59-1.43-.59-.52 0-1.04.2-1.43.59L10.3 9.45l-7.72 7.72c-.78.78-.78 2.05 0 2.83L4 21.41c.39.39.9.59 1.41.59.51 0 1.02-.2 1.41-.59l7.78-7.78 2.81-2.81c.8-.78.8-2.07 0-2.86zM5.41 20L4 18.59l7.72-7.72 1.47 1.35L5.41 20z\"/>\n",
              "  </svg>\n",
              "      </button>\n",
              "      \n",
              "  <style>\n",
              "    .colab-df-container {\n",
              "      display:flex;\n",
              "      flex-wrap:wrap;\n",
              "      gap: 12px;\n",
              "    }\n",
              "\n",
              "    .colab-df-convert {\n",
              "      background-color: #E8F0FE;\n",
              "      border: none;\n",
              "      border-radius: 50%;\n",
              "      cursor: pointer;\n",
              "      display: none;\n",
              "      fill: #1967D2;\n",
              "      height: 32px;\n",
              "      padding: 0 0 0 0;\n",
              "      width: 32px;\n",
              "    }\n",
              "\n",
              "    .colab-df-convert:hover {\n",
              "      background-color: #E2EBFA;\n",
              "      box-shadow: 0px 1px 2px rgba(60, 64, 67, 0.3), 0px 1px 3px 1px rgba(60, 64, 67, 0.15);\n",
              "      fill: #174EA6;\n",
              "    }\n",
              "\n",
              "    [theme=dark] .colab-df-convert {\n",
              "      background-color: #3B4455;\n",
              "      fill: #D2E3FC;\n",
              "    }\n",
              "\n",
              "    [theme=dark] .colab-df-convert:hover {\n",
              "      background-color: #434B5C;\n",
              "      box-shadow: 0px 1px 3px 1px rgba(0, 0, 0, 0.15);\n",
              "      filter: drop-shadow(0px 1px 2px rgba(0, 0, 0, 0.3));\n",
              "      fill: #FFFFFF;\n",
              "    }\n",
              "  </style>\n",
              "\n",
              "      <script>\n",
              "        const buttonEl =\n",
              "          document.querySelector('#df-c593d3e8-492c-4f9a-a361-fce3e61cec89 button.colab-df-convert');\n",
              "        buttonEl.style.display =\n",
              "          google.colab.kernel.accessAllowed ? 'block' : 'none';\n",
              "\n",
              "        async function convertToInteractive(key) {\n",
              "          const element = document.querySelector('#df-c593d3e8-492c-4f9a-a361-fce3e61cec89');\n",
              "          const dataTable =\n",
              "            await google.colab.kernel.invokeFunction('convertToInteractive',\n",
              "                                                     [key], {});\n",
              "          if (!dataTable) return;\n",
              "\n",
              "          const docLinkHtml = 'Like what you see? Visit the ' +\n",
              "            '<a target=\"_blank\" href=https://colab.research.google.com/notebooks/data_table.ipynb>data table notebook</a>'\n",
              "            + ' to learn more about interactive tables.';\n",
              "          element.innerHTML = '';\n",
              "          dataTable['output_type'] = 'display_data';\n",
              "          await google.colab.output.renderOutput(dataTable, element);\n",
              "          const docLink = document.createElement('div');\n",
              "          docLink.innerHTML = docLinkHtml;\n",
              "          element.appendChild(docLink);\n",
              "        }\n",
              "      </script>\n",
              "    </div>\n",
              "  </div>\n",
              "  "
            ]
          },
          "metadata": {},
          "execution_count": 1655
        }
      ]
    },
    {
      "cell_type": "code",
      "source": [
        "import matplotlib.pyplot as plt\n",
        "plt.plot(range(len(data[\"capacity\"])),data[\"capacity\"])\n",
        "plt.ylabel('capacity')\n",
        "plt.xlabel('cycle')\n",
        "plt.show()"
      ],
      "metadata": {
        "colab": {
          "base_uri": "https://localhost:8080/",
          "height": 279
        },
        "id": "6RRhYwuU9HRJ",
        "outputId": "fc7dedf8-1529-4781-b284-df5e7005e312"
      },
      "execution_count": 1656,
      "outputs": [
        {
          "output_type": "display_data",
          "data": {
            "text/plain": [
              "<Figure size 432x288 with 1 Axes>"
            ],
            "image/png": "[encoded data removed]"
          },
          "metadata": {
            "needs_background": "light"
          }
        }
      ]
    },
    {
      "cell_type": "code",
      "source": [
        "capacity=data[[\"capacity\"]]\n",
        "capacity=capacity.set_index(pd.Index(range(len(capacity))))\n",
        "capacity"
      ],
      "metadata": {
        "colab": {
          "base_uri": "https://localhost:8080/",
          "height": 424
        },
        "id": "ompghabq9HMB",
        "outputId": "907213a9-fafa-44e1-f2ee-4f66ff2ce2e9"
      },
      "execution_count": 1657,
      "outputs": [
        {
          "output_type": "execute_result",
          "data": {
            "text/plain": [
              "     capacity\n",
              "0    1.856487\n",
              "1    1.846327\n",
              "2    1.835349\n",
              "3    1.835263\n",
              "4    1.834646\n",
              "..        ...\n",
              "163  1.293464\n",
              "164  1.288003\n",
              "165  1.287453\n",
              "166  1.309015\n",
              "167  1.325079\n",
              "\n",
              "[168 rows x 1 columns]"
            ],
            "text/html": [
              "\n",
              "  <div id=\"df-714bb9c0-2cec-4c3d-99cc-eac5e7b23dd3\">\n",
              "    <div class=\"colab-df-container\">\n",
              "      <div>\n",
              "<style scoped>\n",
              "    .dataframe tbody tr th:only-of-type {\n",
              "        vertical-align: middle;\n",
              "    }\n",
              "\n",
              "    .dataframe tbody tr th {\n",
              "        vertical-align: top;\n",
              "    }\n",
              "\n",
              "    .dataframe thead th {\n",
              "        text-align: right;\n",
              "    }\n",
              "</style>\n",
              "<table border=\"1\" class=\"dataframe\">\n",
              "  <thead>\n",
              "    <tr style=\"text-align: right;\">\n",
              "      <th></th>\n",
              "      <th>capacity</th>\n",
              "    </tr>\n",
              "  </thead>\n",
              "  <tbody>\n",
              "    <tr>\n",
              "      <th>0</th>\n",
              "      <td>1.856487</td>\n",
              "    </tr>\n",
              "    <tr>\n",
              "      <th>1</th>\n",
              "      <td>1.846327</td>\n",
              "    </tr>\n",
              "    <tr>\n",
              "      <th>2</th>\n",
              "      <td>1.835349</td>\n",
              "    </tr>\n",
              "    <tr>\n",
              "      <th>3</th>\n",
              "      <td>1.835263</td>\n",
              "    </tr>\n",
              "    <tr>\n",
              "      <th>4</th>\n",
              "      <td>1.834646</td>\n",
              "    </tr>\n",
              "    <tr>\n",
              "      <th>...</th>\n",
              "      <td>...</td>\n",
              "    </tr>\n",
              "    <tr>\n",
              "      <th>163</th>\n",
              "      <td>1.293464</td>\n",
              "    </tr>\n",
              "    <tr>\n",
              "      <th>164</th>\n",
              "      <td>1.288003</td>\n",
              "    </tr>\n",
              "    <tr>\n",
              "      <th>165</th>\n",
              "      <td>1.287453</td>\n",
              "    </tr>\n",
              "    <tr>\n",
              "      <th>166</th>\n",
              "      <td>1.309015</td>\n",
              "    </tr>\n",
              "    <tr>\n",
              "      <th>167</th>\n",
              "      <td>1.325079</td>\n",
              "    </tr>\n",
              "  </tbody>\n",
              "</table>\n",
              "<p>168 rows × 1 columns</p>\n",
              "</div>\n",
              "      <button class=\"colab-df-convert\" onclick=\"convertToInteractive('df-714bb9c0-2cec-4c3d-99cc-eac5e7b23dd3')\"\n",
              "              title=\"Convert this dataframe to an interactive table.\"\n",
              "              style=\"display:none;\">\n",
              "        \n",
              "  <svg xmlns=\"http://www.w3.org/2000/svg\" height=\"24px\"viewBox=\"0 0 24 24\"\n",
              "       width=\"24px\">\n",
              "    <path d=\"M0 0h24v24H0V0z\" fill=\"none\"/>\n",
              "    <path d=\"M18.56 5.44l.94 2.06.94-2.06 2.06-.94-2.06-.94-.94-2.06-.94 2.06-2.06.94zm-11 1L8.5 8.5l.94-2.06 2.06-.94-2.06-.94L8.5 2.5l-.94 2.06-2.06.94zm10 10l.94 2.06.94-2.06 2.06-.94-2.06-.94-.94-2.06-.94 2.06-2.06.94z\"/><path d=\"M17.41 7.96l-1.37-1.37c-.4-.4-.92-.59-1.43-.59-.52 0-1.04.2-1.43.59L10.3 9.45l-7.72 7.72c-.78.78-.78 2.05 0 2.83L4 21.41c.39.39.9.59 1.41.59.51 0 1.02-.2 1.41-.59l7.78-7.78 2.81-2.81c.8-.78.8-2.07 0-2.86zM5.41 20L4 18.59l7.72-7.72 1.47 1.35L5.41 20z\"/>\n",
              "  </svg>\n",
              "      </button>\n",
              "      \n",
              "  <style>\n",
              "    .colab-df-container {\n",
              "      display:flex;\n",
              "      flex-wrap:wrap;\n",
              "      gap: 12px;\n",
              "    }\n",
              "\n",
              "    .colab-df-convert {\n",
              "      background-color: #E8F0FE;\n",
              "      border: none;\n",
              "      border-radius: 50%;\n",
              "      cursor: pointer;\n",
              "      display: none;\n",
              "      fill: #1967D2;\n",
              "      height: 32px;\n",
              "      padding: 0 0 0 0;\n",
              "      width: 32px;\n",
              "    }\n",
              "\n",
              "    .colab-df-convert:hover {\n",
              "      background-color: #E2EBFA;\n",
              "      box-shadow: 0px 1px 2px rgba(60, 64, 67, 0.3), 0px 1px 3px 1px rgba(60, 64, 67, 0.15);\n",
              "      fill: #174EA6;\n",
              "    }\n",
              "\n",
              "    [theme=dark] .colab-df-convert {\n",
              "      background-color: #3B4455;\n",
              "      fill: #D2E3FC;\n",
              "    }\n",
              "\n",
              "    [theme=dark] .colab-df-convert:hover {\n",
              "      background-color: #434B5C;\n",
              "      box-shadow: 0px 1px 3px 1px rgba(0, 0, 0, 0.15);\n",
              "      filter: drop-shadow(0px 1px 2px rgba(0, 0, 0, 0.3));\n",
              "      fill: #FFFFFF;\n",
              "    }\n",
              "  </style>\n",
              "\n",
              "      <script>\n",
              "        const buttonEl =\n",
              "          document.querySelector('#df-714bb9c0-2cec-4c3d-99cc-eac5e7b23dd3 button.colab-df-convert');\n",
              "        buttonEl.style.display =\n",
              "          google.colab.kernel.accessAllowed ? 'block' : 'none';\n",
              "\n",
              "        async function convertToInteractive(key) {\n",
              "          const element = document.querySelector('#df-714bb9c0-2cec-4c3d-99cc-eac5e7b23dd3');\n",
              "          const dataTable =\n",
              "            await google.colab.kernel.invokeFunction('convertToInteractive',\n",
              "                                                     [key], {});\n",
              "          if (!dataTable) return;\n",
              "\n",
              "          const docLinkHtml = 'Like what you see? Visit the ' +\n",
              "            '<a target=\"_blank\" href=https://colab.research.google.com/notebooks/data_table.ipynb>data table notebook</a>'\n",
              "            + ' to learn more about interactive tables.';\n",
              "          element.innerHTML = '';\n",
              "          dataTable['output_type'] = 'display_data';\n",
              "          await google.colab.output.renderOutput(dataTable, element);\n",
              "          const docLink = document.createElement('div');\n",
              "          docLink.innerHTML = docLinkHtml;\n",
              "          element.appendChild(docLink);\n",
              "        }\n",
              "      </script>\n",
              "    </div>\n",
              "  </div>\n",
              "  "
            ]
          },
          "metadata": {},
          "execution_count": 1657
        }
      ]
    },
    {
      "cell_type": "code",
      "source": [
        "soh=[]\n",
        "for i in range(len(capacity)):\n",
        "  soh.append(capacity.loc[i].at[\"capacity\"]/capacity.loc[0].at[\"capacity\"])"
      ],
      "metadata": {
        "id": "6_g6MRNA9dhT"
      },
      "execution_count": 1658,
      "outputs": []
    },
    {
      "cell_type": "code",
      "source": [
        "plt.plot(range(len(soh)),soh)\n",
        "plt.ylabel('Real SOH')\n",
        "plt.xlabel('cycle')\n",
        "plt.show()"
      ],
      "metadata": {
        "colab": {
          "base_uri": "https://localhost:8080/",
          "height": 279
        },
        "id": "n6SiftOG9da6",
        "outputId": "9964aa98-46b5-45ca-91ee-55be56f1ee0a"
      },
      "execution_count": 1659,
      "outputs": [
        {
          "output_type": "display_data",
          "data": {
            "text/plain": [
              "<Figure size 432x288 with 1 Axes>"
            ],
            "image/png": "[encoded data removed]"
          },
          "metadata": {
            "needs_background": "light"
          }
        }
      ]
    },
    {
      "cell_type": "code",
      "source": [
        "capacity=np.asarray(capacity)"
      ],
      "metadata": {
        "id": "WRBvPXg19_cF"
      },
      "execution_count": 1660,
      "outputs": []
    },
    {
      "cell_type": "code",
      "source": [
        "type(capacity)"
      ],
      "metadata": {
        "colab": {
          "base_uri": "https://localhost:8080/"
        },
        "id": "Z0pj0c2r-D4n",
        "outputId": "195826a3-b05a-4086-eb96-5a561cd58356"
      },
      "execution_count": 1661,
      "outputs": [
        {
          "output_type": "execute_result",
          "data": {
            "text/plain": [
              "numpy.ndarray"
            ]
          },
          "metadata": {},
          "execution_count": 1661
        }
      ]
    },
    {
      "cell_type": "code",
      "source": [
        "timestep = 5\n",
        "\n",
        "X= []\n",
        "Y=[]\n",
        "\n",
        "cap=capacity\n",
        "\n",
        "for i in range(len(capacity)- (timestep)):\n",
        "    X.append(capacity[i:i+timestep])\n",
        "    Y.append(soh[i+timestep])\n",
        "\n",
        "\n",
        "X=np.asanyarray(X)\n",
        "Y=np.asanyarray(Y)\n",
        "\n",
        "\n",
        "k = 100\n",
        "Xtrain = X[:k,:,:]  \n",
        "Ytrain = Y[:k]  "
      ],
      "metadata": {
        "id": "Cznc33Md9z3V"
      },
      "execution_count": 1662,
      "outputs": []
    },
    {
      "cell_type": "code",
      "source": [
        "from keras.models import Sequential\n",
        "from keras.layers import Dense,RepeatVector\n",
        "from keras.layers import Flatten\n",
        "from keras.layers import TimeDistributed\n",
        "from keras.layers.convolutional import Conv1D\n",
        "from keras.layers.convolutional import MaxPooling1D"
      ],
      "metadata": {
        "id": "qTcxmCyr-juv"
      },
      "execution_count": 1663,
      "outputs": []
    },
    {
      "cell_type": "code",
      "execution_count": 1664,
      "metadata": {
        "colab": {
          "base_uri": "https://localhost:8080/"
        },
        "id": "NWdRySu_8-on",
        "outputId": "341b5a17-6a8b-4c27-86a1-a6b0c6551769"
      },
      "outputs": [
        {
          "output_type": "stream",
          "name": "stdout",
          "text": [
            "Epoch 1/10\n",
            "4/4 [==============================] - 1s 5ms/step - loss: 0.5061\n",
            "Epoch 2/10\n",
            "4/4 [==============================] - 0s 5ms/step - loss: 0.0908\n",
            "Epoch 3/10\n",
            "4/4 [==============================] - 0s 5ms/step - loss: 0.0140\n",
            "Epoch 4/10\n",
            "4/4 [==============================] - 0s 6ms/step - loss: 0.0309\n",
            "Epoch 5/10\n",
            "4/4 [==============================] - 0s 4ms/step - loss: 0.0073\n",
            "Epoch 6/10\n",
            "4/4 [==============================] - 0s 5ms/step - loss: 0.0046\n",
            "Epoch 7/10\n",
            "4/4 [==============================] - 0s 4ms/step - loss: 0.0065\n",
            "Epoch 8/10\n",
            "4/4 [==============================] - 0s 4ms/step - loss: 0.0010\n",
            "Epoch 9/10\n",
            "4/4 [==============================] - 0s 5ms/step - loss: 0.0017\n",
            "Epoch 10/10\n",
            "4/4 [==============================] - 0s 5ms/step - loss: 0.0013\n"
          ]
        },
        {
          "output_type": "execute_result",
          "data": {
            "text/plain": [
              "<keras.callbacks.History at 0x7f44f22ccad0>"
            ]
          },
          "metadata": {},
          "execution_count": 1664
        }
      ],
      "source": [
        "model = Sequential()\n",
        "model.add(Conv1D(filters=256, kernel_size=2, activation='relu', input_shape=(5, 1)))\n",
        "model.add(Conv1D(filters=256, kernel_size=2, activation='relu'))\n",
        "model.add(Conv1D(filters=128, kernel_size=2, activation='relu'))\n",
        "model.add(Conv1D(filters=128, kernel_size=2, activation='relu'))\n",
        "\n",
        "model.add(Flatten())\n",
        "model.add(Dense(100, activation='relu'))\n",
        "model.add(Dense(1))\n",
        "model.compile(optimizer='adam', loss='mse')\n",
        "# fit model\n",
        "model.fit(Xtrain, Ytrain, epochs=10)"
      ]
    },
    {
      "cell_type": "code",
      "source": [
        "Xtest = X[k:,:,:]  \n",
        "Ytest= Y[k:]  "
      ],
      "metadata": {
        "id": "9Upz_yjr-q3Q"
      },
      "execution_count": 1665,
      "outputs": []
    },
    {
      "cell_type": "code",
      "source": [
        "from sklearn.preprocessing import MinMaxScaler\n",
        "from sklearn.metrics import mean_squared_error\n",
        "from sklearn.metrics import confusion_matrix, accuracy_score, mean_absolute_error,r2_score"
      ],
      "metadata": {
        "id": "YQS_fo2c_Wp7"
      },
      "execution_count": 1666,
      "outputs": []
    },
    {
      "cell_type": "code",
      "source": [
        "preds = model.predict(Xtest)\n",
        "\n",
        "\n",
        "\n",
        "Ytest=np.asanyarray(Ytest)  \n",
        "Ytest=Ytest.reshape(-1,1) \n",
        "\n",
        "\n",
        "\n",
        "Ytrain=np.asanyarray(Ytrain)  \n",
        "Ytrain=Ytrain.reshape(-1,1) \n",
        "\n",
        "\n",
        "mean_squared_error(Ytest,preds)"
      ],
      "metadata": {
        "colab": {
          "base_uri": "https://localhost:8080/"
        },
        "id": "5z4yx_kF-9Bm",
        "outputId": "3e2cd8d0-ba61-49ac-8a84-28c9aed6b23e"
      },
      "execution_count": 1667,
      "outputs": [
        {
          "output_type": "stream",
          "name": "stdout",
          "text": [
            "2/2 [==============================] - 0s 6ms/step\n"
          ]
        },
        {
          "output_type": "execute_result",
          "data": {
            "text/plain": [
              "4.5797550639288894e-05"
            ]
          },
          "metadata": {},
          "execution_count": 1667
        }
      ]
    },
    {
      "cell_type": "code",
      "source": [
        "rmse = np.sqrt(mean_squared_error(Ytest, preds))\n",
        "print('Test RMSE: %.3f' % rmse)\n"
      ],
      "metadata": {
        "colab": {
          "base_uri": "https://localhost:8080/"
        },
        "id": "La8-1JslnFhv",
        "outputId": "4afff8da-a61e-473d-8ddb-2e64bee62839"
      },
      "execution_count": 1668,
      "outputs": [
        {
          "output_type": "stream",
          "name": "stdout",
          "text": [
            "Test RMSE: 0.007\n"
          ]
        }
      ]
    },
    {
      "cell_type": "code",
      "source": [
        "mae = mean_absolute_error(Ytest,preds,multioutput='raw_values')\n",
        "r2 = r2_score(Ytest,preds)\n",
        "print('Mean Absolute Error: ', mae)\n",
        "print('R2_score: ', r2)"
      ],
      "metadata": {
        "colab": {
          "base_uri": "https://localhost:8080/"
        },
        "id": "LWM_5K8qqXST",
        "outputId": "249f2b09-ccbe-4deb-b7a1-611e3df4b597"
      },
      "execution_count": 1669,
      "outputs": [
        {
          "output_type": "stream",
          "name": "stdout",
          "text": [
            "Mean Absolute Error:  [0.00459901]\n",
            "R2_score:  0.9391490357336776\n"
          ]
        }
      ]
    },
    {
      "cell_type": "code",
      "source": [
        "plt.plot(range(len(preds)),preds)\n",
        "plt.plot(range(len(Ytest)),Ytest)\n",
        "plt.ylabel('SOH')\n",
        "plt.xlabel('cycle')"
      ],
      "metadata": {
        "colab": {
          "base_uri": "https://localhost:8080/",
          "height": 296
        },
        "id": "V4Zq6b2F_vJd",
        "outputId": "325a4054-fd0d-48c6-9884-c926bd89b4c1"
      },
      "execution_count": 1670,
      "outputs": [
        {
          "output_type": "execute_result",
          "data": {
            "text/plain": [
              "Text(0.5, 0, 'cycle')"
            ]
          },
          "metadata": {},
          "execution_count": 1670
        },
        {
          "output_type": "display_data",
          "data": {
            "text/plain": [
              "<Figure size 432x288 with 1 Axes>"
            ],
            "image/png": "[encoded data removed]"
          },
          "metadata": {
            "needs_background": "light"
          }
        }
      ]
    },
    {
      "cell_type": "code",
      "source": [
        "preds = model.predict(X)"
      ],
      "metadata": {
        "colab": {
          "base_uri": "https://localhost:8080/"
        },
        "id": "qVBAZPnoACQV",
        "outputId": "6002a5b3-2a39-4adc-8e66-6016b95ffa85"
      },
      "execution_count": 1671,
      "outputs": [
        {
          "output_type": "stream",
          "name": "stdout",
          "text": [
            "6/6 [==============================] - 0s 2ms/step\n"
          ]
        }
      ]
    },
    {
      "cell_type": "code",
      "source": [
        "preds"
      ],
      "metadata": {
        "colab": {
          "base_uri": "https://localhost:8080/"
        },
        "id": "Gb9lbCeMaaVH",
        "outputId": "31a44a90-9ed3-405d-de87-177ebfa61d73"
      },
      "execution_count": 1672,
      "outputs": [
        {
          "output_type": "execute_result",
          "data": {
            "text/plain": [
              "array([[0.9543148 ],\n",
              "       [0.95295334],\n",
              "       [0.95272595],\n",
              "       [0.95240706],\n",
              "       [0.9510859 ],\n",
              "       [0.94924986],\n",
              "       [0.94811   ],\n",
              "       [0.9473839 ],\n",
              "       [0.9459116 ],\n",
              "       [0.9439873 ],\n",
              "       [0.942407  ],\n",
              "       [0.94059443],\n",
              "       [0.93858224],\n",
              "       [0.93749446],\n",
              "       [0.9373599 ],\n",
              "       [0.9391687 ],\n",
              "       [0.94522035],\n",
              "       [0.9526668 ],\n",
              "       [0.95519096],\n",
              "       [0.95271033],\n",
              "       [0.94968426],\n",
              "       [0.9479133 ],\n",
              "       [0.9461692 ],\n",
              "       [0.9442222 ],\n",
              "       [0.9426691 ],\n",
              "       [0.9408855 ],\n",
              "       [0.9408726 ],\n",
              "       [0.9456579 ],\n",
              "       [0.9507269 ],\n",
              "       [0.9498669 ],\n",
              "       [0.9452182 ],\n",
              "       [0.9409828 ],\n",
              "       [0.93773305],\n",
              "       [0.9344131 ],\n",
              "       [0.9307181 ],\n",
              "       [0.92719615],\n",
              "       [0.92446554],\n",
              "       [0.92244846],\n",
              "       [0.9207769 ],\n",
              "       [0.9198074 ],\n",
              "       [0.91898793],\n",
              "       [0.91664606],\n",
              "       [0.91275287],\n",
              "       [0.9112678 ],\n",
              "       [0.9164708 ],\n",
              "       [0.9238616 ],\n",
              "       [0.9250492 ],\n",
              "       [0.920592  ],\n",
              "       [0.9153839 ],\n",
              "       [0.9113186 ],\n",
              "       [0.9080661 ],\n",
              "       [0.90461797],\n",
              "       [0.90055466],\n",
              "       [0.8966809 ],\n",
              "       [0.8936527 ],\n",
              "       [0.8911084 ],\n",
              "       [0.88837993],\n",
              "       [0.8849776 ],\n",
              "       [0.8811555 ],\n",
              "       [0.8778149 ],\n",
              "       [0.8749323 ],\n",
              "       [0.8719584 ],\n",
              "       [0.8689077 ],\n",
              "       [0.8655867 ],\n",
              "       [0.86213624],\n",
              "       [0.85917306],\n",
              "       [0.85665697],\n",
              "       [0.85397685],\n",
              "       [0.8507199 ],\n",
              "       [0.8472955 ],\n",
              "       [0.84413826],\n",
              "       [0.840848  ],\n",
              "       [0.8376132 ],\n",
              "       [0.8358856 ],\n",
              "       [0.8356846 ],\n",
              "       [0.8341673 ],\n",
              "       [0.8299651 ],\n",
              "       [0.8256676 ],\n",
              "       [0.8231212 ],\n",
              "       [0.8214768 ],\n",
              "       [0.8192849 ],\n",
              "       [0.8159191 ],\n",
              "       [0.8119719 ],\n",
              "       [0.808817  ],\n",
              "       [0.80667675],\n",
              "       [0.8082044 ],\n",
              "       [0.81717646],\n",
              "       [0.8258658 ],\n",
              "       [0.8243559 ],\n",
              "       [0.8168249 ],\n",
              "       [0.81046206],\n",
              "       [0.8060526 ],\n",
              "       [0.802517  ],\n",
              "       [0.7995911 ],\n",
              "       [0.7968338 ],\n",
              "       [0.7936562 ],\n",
              "       [0.79025775],\n",
              "       [0.7872613 ],\n",
              "       [0.78528494],\n",
              "       [0.7855707 ],\n",
              "       [0.7876307 ],\n",
              "       [0.78787905],\n",
              "       [0.7842772 ],\n",
              "       [0.77885956],\n",
              "       [0.77469677],\n",
              "       [0.7728238 ],\n",
              "       [0.77145517],\n",
              "       [0.7688692 ],\n",
              "       [0.7657392 ],\n",
              "       [0.76344264],\n",
              "       [0.76177263],\n",
              "       [0.7597986 ],\n",
              "       [0.7574112 ],\n",
              "       [0.7551375 ],\n",
              "       [0.7534236 ],\n",
              "       [0.7531624 ],\n",
              "       [0.75590444],\n",
              "       [0.75984836],\n",
              "       [0.7599228 ],\n",
              "       [0.75557196],\n",
              "       [0.7507991 ],\n",
              "       [0.7474825 ],\n",
              "       [0.7449591 ],\n",
              "       [0.74251616],\n",
              "       [0.7399958 ],\n",
              "       [0.73746055],\n",
              "       [0.7352138 ],\n",
              "       [0.7335132 ],\n",
              "       [0.73256105],\n",
              "       [0.7333108 ],\n",
              "       [0.7354633 ],\n",
              "       [0.7358951 ],\n",
              "       [0.73318833],\n",
              "       [0.729481  ],\n",
              "       [0.72682935],\n",
              "       [0.72553974],\n",
              "       [0.7244315 ],\n",
              "       [0.72258717],\n",
              "       [0.7204316 ],\n",
              "       [0.7186877 ],\n",
              "       [0.717174  ],\n",
              "       [0.71524423],\n",
              "       [0.7128613 ],\n",
              "       [0.7105835 ],\n",
              "       [0.7090763 ],\n",
              "       [0.7087135 ],\n",
              "       [0.71077836],\n",
              "       [0.7159263 ],\n",
              "       [0.7196882 ],\n",
              "       [0.7181247 ],\n",
              "       [0.71400774],\n",
              "       [0.71069634],\n",
              "       [0.7083366 ],\n",
              "       [0.7065648 ],\n",
              "       [0.70497864],\n",
              "       [0.7032487 ],\n",
              "       [0.70190555],\n",
              "       [0.701176  ],\n",
              "       [0.7003741 ],\n",
              "       [0.6992517 ],\n",
              "       [0.6978947 ],\n",
              "       [0.6962155 ],\n",
              "       [0.6955489 ]], dtype=float32)"
            ]
          },
          "metadata": {},
          "execution_count": 1672
        }
      ]
    },
    {
      "cell_type": "code",
      "source": [
        "plt.plot(range(len(preds)),preds)\n",
        "plt.plot(range(len(Y)),Y)\n",
        "plt.ylabel('SOH')\n",
        "plt.xlabel('cycle')"
      ],
      "metadata": {
        "colab": {
          "base_uri": "https://localhost:8080/",
          "height": 296
        },
        "id": "FdkTwLPXBMaQ",
        "outputId": "cf617e19-52fa-4dcf-ffbd-4028e6326f9b"
      },
      "execution_count": 1673,
      "outputs": [
        {
          "output_type": "execute_result",
          "data": {
            "text/plain": [
              "Text(0.5, 0, 'cycle')"
            ]
          },
          "metadata": {},
          "execution_count": 1673
        },
        {
          "output_type": "display_data",
          "data": {
            "text/plain": [
              "<Figure size 432x288 with 1 Axes>"
            ],
            "image/png": "[encoded data removed]"
          },
          "metadata": {
            "needs_background": "light"
          }
        }
      ]
    },
    {
      "cell_type": "markdown",
      "source": [
        "Predicting Capacity"
      ],
      "metadata": {
        "id": "h-BjWD-YGiJr"
      }
    },
    {
      "cell_type": "code",
      "source": [
        "timestep = 5\n",
        "\n",
        "X= []\n",
        "Y=[]\n",
        "\n",
        "cap=capacity\n",
        "\n",
        "for i in range(len(capacity)- (timestep)):\n",
        "    X.append(capacity[i:i+timestep])\n",
        "    Y.append(capacity[i+timestep])\n",
        "\n",
        "\n",
        "X=np.asanyarray(X)\n",
        "Y=np.asanyarray(Y)\n",
        "\n",
        "\n",
        "k = 100\n",
        "Xtrain = X[:k,:,:]  \n",
        "Ytrain = Y[:k] "
      ],
      "metadata": {
        "id": "0Cbk-Uu7BS8H"
      },
      "execution_count": 1674,
      "outputs": []
    },
    {
      "cell_type": "code",
      "source": [
        "model = Sequential()\n",
        "model.add(Conv1D(filters=256, kernel_size=2, activation='relu', input_shape=(5, 1)))\n",
        "model.add(Conv1D(filters=256, kernel_size=2, activation='relu'))\n",
        "model.add(Conv1D(filters=128, kernel_size=2, activation='relu'))\n",
        "model.add(Conv1D(filters=128, kernel_size=2, activation='relu'))\n",
        "\n",
        "model.add(Flatten())\n",
        "model.add(Dense(100, activation='relu'))\n",
        "model.add(Dense(1))\n",
        "model.compile(optimizer='adam', loss='mse')\n",
        "# fit model\n",
        "model.fit(Xtrain, Ytrain, epochs=10)"
      ],
      "metadata": {
        "colab": {
          "base_uri": "https://localhost:8080/"
        },
        "id": "zNdZu5HwGtzf",
        "outputId": "bddb12ce-65fc-4dd6-846e-3fbfeb2c597c"
      },
      "execution_count": 1675,
      "outputs": [
        {
          "output_type": "stream",
          "name": "stdout",
          "text": [
            "Epoch 1/10\n",
            "4/4 [==============================] - 1s 5ms/step - loss: 1.9339\n",
            "Epoch 2/10\n",
            "4/4 [==============================] - 0s 5ms/step - loss: 0.2110\n",
            "Epoch 3/10\n",
            "4/4 [==============================] - 0s 4ms/step - loss: 0.1069\n",
            "Epoch 4/10\n",
            "4/4 [==============================] - 0s 4ms/step - loss: 0.1606\n",
            "Epoch 5/10\n",
            "4/4 [==============================] - 0s 5ms/step - loss: 0.0288\n",
            "Epoch 6/10\n",
            "4/4 [==============================] - 0s 4ms/step - loss: 0.0651\n",
            "Epoch 7/10\n",
            "4/4 [==============================] - 0s 5ms/step - loss: 0.0065\n",
            "Epoch 8/10\n",
            "4/4 [==============================] - 0s 5ms/step - loss: 0.0313\n",
            "Epoch 9/10\n",
            "4/4 [==============================] - 0s 4ms/step - loss: 0.0038\n",
            "Epoch 10/10\n",
            "4/4 [==============================] - 0s 5ms/step - loss: 0.0114\n"
          ]
        },
        {
          "output_type": "execute_result",
          "data": {
            "text/plain": [
              "<keras.callbacks.History at 0x7f44f2008ad0>"
            ]
          },
          "metadata": {},
          "execution_count": 1675
        }
      ]
    },
    {
      "cell_type": "code",
      "source": [
        "Xtest = X[k:,:,:]  \n",
        "Ytest= Y[k:]  "
      ],
      "metadata": {
        "id": "PWh3D0x3HEsp"
      },
      "execution_count": 1676,
      "outputs": []
    },
    {
      "cell_type": "code",
      "source": [
        "preds = model.predict(Xtest)\n",
        "\n",
        "\n",
        "\n",
        "Ytest=np.asanyarray(Ytest)  \n",
        "Ytest=Ytest.reshape(-1,1) \n",
        "\n",
        "\n",
        "\n",
        "Ytrain=np.asanyarray(Ytrain)  \n",
        "Ytrain=Ytrain.reshape(-1,1) \n",
        "\n",
        "\n",
        "mean_squared_error(Ytest,preds)"
      ],
      "metadata": {
        "colab": {
          "base_uri": "https://localhost:8080/"
        },
        "id": "ZU5CyBKFHFE-",
        "outputId": "8f172102-2214-4113-be6b-a63ace9c8222"
      },
      "execution_count": 1677,
      "outputs": [
        {
          "output_type": "stream",
          "name": "stdout",
          "text": [
            "2/2 [==============================] - 0s 7ms/step\n"
          ]
        },
        {
          "output_type": "execute_result",
          "data": {
            "text/plain": [
              "0.00022343645980237354"
            ]
          },
          "metadata": {},
          "execution_count": 1677
        }
      ]
    },
    {
      "cell_type": "code",
      "source": [
        "rmse = np.sqrt(mean_squared_error(Ytest, preds))\n",
        "print('Test RMSE: %.3f' % rmse)"
      ],
      "metadata": {
        "colab": {
          "base_uri": "https://localhost:8080/"
        },
        "id": "_SaX6xYIq6Jw",
        "outputId": "3c4bda57-484a-45b0-d44a-d9bf14b9562f"
      },
      "execution_count": 1678,
      "outputs": [
        {
          "output_type": "stream",
          "name": "stdout",
          "text": [
            "Test RMSE: 0.015\n"
          ]
        }
      ]
    },
    {
      "cell_type": "code",
      "source": [
        "mae = mean_absolute_error(Ytest,preds,multioutput='raw_values')\n",
        "r2 = r2_score(Ytest,preds)\n",
        "print('Mean Absolute Error: ', mae)\n",
        "print('R2_score: ', r2)"
      ],
      "metadata": {
        "colab": {
          "base_uri": "https://localhost:8080/"
        },
        "id": "P0nW-cm-rBdZ",
        "outputId": "6823574c-9911-43e4-9f51-1940d78a60b4"
      },
      "execution_count": 1679,
      "outputs": [
        {
          "output_type": "stream",
          "name": "stdout",
          "text": [
            "Mean Absolute Error:  [0.01325904]\n",
            "R2_score:  0.9138619109240034\n"
          ]
        }
      ]
    },
    {
      "cell_type": "code",
      "source": [
        "plt.plot(range(len(preds)),preds)\n",
        "plt.plot(range(len(Ytest)),Ytest)\n",
        "plt.ylabel('RUL')\n",
        "plt.xlabel('cycle')\n",
        "plt.show()\n"
      ],
      "metadata": {
        "colab": {
          "base_uri": "https://localhost:8080/",
          "height": 279
        },
        "id": "lBZVJUI8HIPq",
        "outputId": "110b2c9b-e074-46df-ddf9-b2e7f1de3474"
      },
      "execution_count": 1680,
      "outputs": [
        {
          "output_type": "display_data",
          "data": {
            "text/plain": [
              "<Figure size 432x288 with 1 Axes>"
            ],
            "image/png": "[encoded data removed]"
          },
          "metadata": {
            "needs_background": "light"
          }
        }
      ]
    },
    {
      "cell_type": "code",
      "source": [
        "preds = model.predict(X)"
      ],
      "metadata": {
        "colab": {
          "base_uri": "https://localhost:8080/"
        },
        "id": "toBf2pImHMHi",
        "outputId": "87bd429d-ba0b-41ee-97aa-21f49e82c7f2"
      },
      "execution_count": 1681,
      "outputs": [
        {
          "output_type": "stream",
          "name": "stdout",
          "text": [
            "6/6 [==============================] - 0s 3ms/step\n"
          ]
        }
      ]
    },
    {
      "cell_type": "code",
      "source": [
        "preds"
      ],
      "metadata": {
        "colab": {
          "base_uri": "https://localhost:8080/"
        },
        "id": "zwkytPdcZ09D",
        "outputId": "84ad1bb4-e3a8-43d8-fb4b-e46396fa25cd"
      },
      "execution_count": 1682,
      "outputs": [
        {
          "output_type": "execute_result",
          "data": {
            "text/plain": [
              "array([[1.7909667],\n",
              "       [1.7877225],\n",
              "       [1.7869717],\n",
              "       [1.7865366],\n",
              "       [1.7844236],\n",
              "       [1.781047 ],\n",
              "       [1.7785456],\n",
              "       [1.7770854],\n",
              "       [1.7746578],\n",
              "       [1.7710913],\n",
              "       [1.7679446],\n",
              "       [1.7646278],\n",
              "       [1.7608639],\n",
              "       [1.7583784],\n",
              "       [1.757801 ],\n",
              "       [1.7603792],\n",
              "       [1.7702268],\n",
              "       [1.784304 ],\n",
              "       [1.7912936],\n",
              "       [1.7882435],\n",
              "       [1.7821904],\n",
              "       [1.7783679],\n",
              "       [1.7751721],\n",
              "       [1.7715375],\n",
              "       [1.7684315],\n",
              "       [1.7651637],\n",
              "       [1.7642187],\n",
              "       [1.7714833],\n",
              "       [1.7815706],\n",
              "       [1.7824337],\n",
              "       [1.7746699],\n",
              "       [1.7660291],\n",
              "       [1.7596325],\n",
              "       [1.7534301],\n",
              "       [1.7465738],\n",
              "       [1.7397634],\n",
              "       [1.7342552],\n",
              "       [1.7302268],\n",
              "       [1.7269288],\n",
              "       [1.724837 ],\n",
              "       [1.7233092],\n",
              "       [1.7195393],\n",
              "       [1.712666 ],\n",
              "       [1.7084727],\n",
              "       [1.7157737],\n",
              "       [1.7297083],\n",
              "       [1.7347292],\n",
              "       [1.7280955],\n",
              "       [1.7179115],\n",
              "       [1.7097645],\n",
              "       [1.7033796],\n",
              "       [1.6969969],\n",
              "       [1.6895181],\n",
              "       [1.6820153],\n",
              "       [1.6759361],\n",
              "       [1.6709915],\n",
              "       [1.6659498],\n",
              "       [1.6597689],\n",
              "       [1.6526076],\n",
              "       [1.6460408],\n",
              "       [1.6404384],\n",
              "       [1.6348649],\n",
              "       [1.6291286],\n",
              "       [1.6229128],\n",
              "       [1.616402 ],\n",
              "       [1.6105592],\n",
              "       [1.6056439],\n",
              "       [1.6006995],\n",
              "       [1.5947365],\n",
              "       [1.5882423],\n",
              "       [1.5821518],\n",
              "       [1.5759913],\n",
              "       [1.5697956],\n",
              "       [1.5658343],\n",
              "       [1.5650083],\n",
              "       [1.5628994],\n",
              "       [1.5558692],\n",
              "       [1.5474919],\n",
              "       [1.5418991],\n",
              "       [1.538634 ],\n",
              "       [1.5347837],\n",
              "       [1.5288522],\n",
              "       [1.5214614],\n",
              "       [1.5150877],\n",
              "       [1.5106982],\n",
              "       [1.5118674],\n",
              "       [1.5261309],\n",
              "       [1.5437604],\n",
              "       [1.5449569],\n",
              "       [1.5323465],\n",
              "       [1.5190997],\n",
              "       [1.5102642],\n",
              "       [1.5032969],\n",
              "       [1.4975718],\n",
              "       [1.4923266],\n",
              "       [1.4865029],\n",
              "       [1.4800795],\n",
              "       [1.4742146],\n",
              "       [1.4700214],\n",
              "       [1.4696629],\n",
              "       [1.4731063],\n",
              "       [1.4745709],\n",
              "       [1.4691848],\n",
              "       [1.4592718],\n",
              "       [1.4506245],\n",
              "       [1.4463007],\n",
              "       [1.4437306],\n",
              "       [1.4393879],\n",
              "       [1.4334998],\n",
              "       [1.4287488],\n",
              "       [1.4254298],\n",
              "       [1.4218743],\n",
              "       [1.4174843],\n",
              "       [1.4130583],\n",
              "       [1.4095904],\n",
              "       [1.4084655],\n",
              "       [1.4124804],\n",
              "       [1.4198722],\n",
              "       [1.4217805],\n",
              "       [1.4150093],\n",
              "       [1.4056772],\n",
              "       [1.3987799],\n",
              "       [1.3938429],\n",
              "       [1.3892279],\n",
              "       [1.384481 ],\n",
              "       [1.3796661],\n",
              "       [1.3752654],\n",
              "       [1.3718382],\n",
              "       [1.3697428],\n",
              "       [1.3704438],\n",
              "       [1.3741785],\n",
              "       [1.3758912],\n",
              "       [1.3719019],\n",
              "       [1.3649856],\n",
              "       [1.3593785],\n",
              "       [1.356534 ],\n",
              "       [1.3544793],\n",
              "       [1.3513113],\n",
              "       [1.3472522],\n",
              "       [1.3437402],\n",
              "       [1.3408458],\n",
              "       [1.3373791],\n",
              "       [1.3330145],\n",
              "       [1.3285837],\n",
              "       [1.3253982],\n",
              "       [1.3242798],\n",
              "       [1.327156 ],\n",
              "       [1.3358912],\n",
              "       [1.3440466],\n",
              "       [1.3430878],\n",
              "       [1.3359022],\n",
              "       [1.329033 ],\n",
              "       [1.3243172],\n",
              "       [1.3207695],\n",
              "       [1.3177463],\n",
              "       [1.314516 ],\n",
              "       [1.3117754],\n",
              "       [1.3101778],\n",
              "       [1.3087494],\n",
              "       [1.3067373],\n",
              "       [1.3042562],\n",
              "       [1.3011694],\n",
              "       [1.299375 ]], dtype=float32)"
            ]
          },
          "metadata": {},
          "execution_count": 1682
        }
      ]
    },
    {
      "cell_type": "code",
      "source": [
        "plt.plot(range(len(preds)),preds)\n",
        "plt.plot(range(len(Y)),Y)\n",
        "plt.ylabel('RUL')\n",
        "plt.xlabel('cycle')\n",
        "plt.show()"
      ],
      "metadata": {
        "colab": {
          "base_uri": "https://localhost:8080/",
          "height": 279
        },
        "id": "JLrSZvZjHQJ-",
        "outputId": "3f353598-2b03-49c2-f224-52b3e5be3357"
      },
      "execution_count": 1683,
      "outputs": [
        {
          "output_type": "display_data",
          "data": {
            "text/plain": [
              "<Figure size 432x288 with 1 Axes>"
            ],
            "image/png": "[encoded data removed]"
          },
          "metadata": {
            "needs_background": "light"
          }
        }
      ]
    },
    {
      "cell_type": "code",
      "source": [],
      "metadata": {
        "id": "HCPEFm9JHU9B"
      },
      "execution_count": 1683,
      "outputs": []
    }
  ]
}