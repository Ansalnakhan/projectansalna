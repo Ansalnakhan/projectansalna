{
  "nbformat": 4,
  "nbformat_minor": 0,
  "metadata": {
    "colab": {
      "provenance": [],
      "include_colab_link": true
    },
    "kernelspec": {
      "name": "python3",
      "display_name": "Python 3"
    },
    "language_info": {
      "name": "python"
    },
    "accelerator": "GPU"
  },
  "cells": [
    {
      "cell_type": "markdown",
      "metadata": {
        "id": "view-in-github",
        "colab_type": "text"
      },
      "source": [
        "<a href=\"https://colab.research.google.com/github/Ansalnakhan/projectansalna/blob/main/ansalnaSOHandRUL05final.ipynb\" target=\"_parent\"><img src=\"https://colab.research.google.com/assets/colab-badge.svg\" alt=\"Open In Colab\"/></a>"
      ]
    },
    {
      "cell_type": "code",
      "source": [
        "import tensorflow as tf\n",
        "from tensorflow import keras\n",
        "\n",
        "import numpy as np"
      ],
      "metadata": {
        "id": "PGNP9R9S9ApK"
      },
      "execution_count": 1106,
      "outputs": []
    },
    {
      "cell_type": "code",
      "source": [
        "import pandas as pd"
      ],
      "metadata": {
        "id": "93pnEOlX9EBh"
      },
      "execution_count": 1107,
      "outputs": []
    },
    {
      "cell_type": "code",
      "source": [
        "data=pd.read_csv(\"/content/file1.csv\")\n",
        "data"
      ],
      "metadata": {
        "colab": {
          "base_uri": "https://localhost:8080/",
          "height": 852
        },
        "id": "AWaOdyLR9Hbi",
        "outputId": "75467845-8b39-4a4b-c16f-ed49d946e61b"
      },
      "execution_count": 1108,
      "outputs": [
        {
          "output_type": "execute_result",
          "data": {
            "text/plain": [
              "       Unnamed: 0  cycle  ambient_temperature             datetime  capacity  \\\n",
              "0               0      1                   24  2008-04-02 15:25:41  1.856487   \n",
              "1               1      1                   24  2008-04-02 15:25:41  1.856487   \n",
              "2               2      1                   24  2008-04-02 15:25:41  1.856487   \n",
              "3               3      1                   24  2008-04-02 15:25:41  1.856487   \n",
              "4               4      1                   24  2008-04-02 15:25:41  1.856487   \n",
              "...           ...    ...                  ...                  ...       ...   \n",
              "50280       50280    168                   24  2008-05-27 20:45:42  1.325079   \n",
              "50281       50281    168                   24  2008-05-27 20:45:42  1.325079   \n",
              "50282       50282    168                   24  2008-05-27 20:45:42  1.325079   \n",
              "50283       50283    168                   24  2008-05-27 20:45:42  1.325079   \n",
              "50284       50284    168                   24  2008-05-27 20:45:42  1.325079   \n",
              "\n",
              "       voltage_measured  current_measured  temperature_measured  current_load  \\\n",
              "0              4.191492         -0.004902             24.330034       -0.0006   \n",
              "1              4.190749         -0.001478             24.325993       -0.0006   \n",
              "2              3.974871         -2.012528             24.389085       -1.9982   \n",
              "3              3.951717         -2.013979             24.544752       -1.9982   \n",
              "4              3.934352         -2.011144             24.731385       -1.9982   \n",
              "...                 ...               ...                   ...           ...   \n",
              "50280          3.579262         -0.001569             34.864823        0.0006   \n",
              "50281          3.581964         -0.003067             34.814770        0.0006   \n",
              "50282          3.584484         -0.003079             34.676258        0.0006   \n",
              "50283          3.587336          0.001219             34.565580        0.0006   \n",
              "50284          3.589937         -0.000583             34.405920        0.0006   \n",
              "\n",
              "       voltage_load      time  \n",
              "0             0.000     0.000  \n",
              "1             4.206    16.781  \n",
              "2             3.062    35.703  \n",
              "3             3.030    53.781  \n",
              "4             3.011    71.922  \n",
              "...             ...       ...  \n",
              "50280         0.000  2781.312  \n",
              "50281         0.000  2791.062  \n",
              "50282         0.000  2800.828  \n",
              "50283         0.000  2810.640  \n",
              "50284         0.000  2820.390  \n",
              "\n",
              "[50285 rows x 11 columns]"
            ],
            "text/html": [
              "\n",
              "  <div id=\"df-e41f271e-a4f0-45fd-a6bd-248226502a1a\">\n",
              "    <div class=\"colab-df-container\">\n",
              "      <div>\n",
              "<style scoped>\n",
              "    .dataframe tbody tr th:only-of-type {\n",
              "        vertical-align: middle;\n",
              "    }\n",
              "\n",
              "    .dataframe tbody tr th {\n",
              "        vertical-align: top;\n",
              "    }\n",
              "\n",
              "    .dataframe thead th {\n",
              "        text-align: right;\n",
              "    }\n",
              "</style>\n",
              "<table border=\"1\" class=\"dataframe\">\n",
              "  <thead>\n",
              "    <tr style=\"text-align: right;\">\n",
              "      <th></th>\n",
              "      <th>Unnamed: 0</th>\n",
              "      <th>cycle</th>\n",
              "      <th>ambient_temperature</th>\n",
              "      <th>datetime</th>\n",
              "      <th>capacity</th>\n",
              "      <th>voltage_measured</th>\n",
              "      <th>current_measured</th>\n",
              "      <th>temperature_measured</th>\n",
              "      <th>current_load</th>\n",
              "      <th>voltage_load</th>\n",
              "      <th>time</th>\n",
              "    </tr>\n",
              "  </thead>\n",
              "  <tbody>\n",
              "    <tr>\n",
              "      <th>0</th>\n",
              "      <td>0</td>\n",
              "      <td>1</td>\n",
              "      <td>24</td>\n",
              "      <td>2008-04-02 15:25:41</td>\n",
              "      <td>1.856487</td>\n",
              "      <td>4.191492</td>\n",
              "      <td>-0.004902</td>\n",
              "      <td>24.330034</td>\n",
              "      <td>-0.0006</td>\n",
              "      <td>0.000</td>\n",
              "      <td>0.000</td>\n",
              "    </tr>\n",
              "    <tr>\n",
              "      <th>1</th>\n",
              "      <td>1</td>\n",
              "      <td>1</td>\n",
              "      <td>24</td>\n",
              "      <td>2008-04-02 15:25:41</td>\n",
              "      <td>1.856487</td>\n",
              "      <td>4.190749</td>\n",
              "      <td>-0.001478</td>\n",
              "      <td>24.325993</td>\n",
              "      <td>-0.0006</td>\n",
              "      <td>4.206</td>\n",
              "      <td>16.781</td>\n",
              "    </tr>\n",
              "    <tr>\n",
              "      <th>2</th>\n",
              "      <td>2</td>\n",
              "      <td>1</td>\n",
              "      <td>24</td>\n",
              "      <td>2008-04-02 15:25:41</td>\n",
              "      <td>1.856487</td>\n",
              "      <td>3.974871</td>\n",
              "      <td>-2.012528</td>\n",
              "      <td>24.389085</td>\n",
              "      <td>-1.9982</td>\n",
              "      <td>3.062</td>\n",
              "      <td>35.703</td>\n",
              "    </tr>\n",
              "    <tr>\n",
              "      <th>3</th>\n",
              "      <td>3</td>\n",
              "      <td>1</td>\n",
              "      <td>24</td>\n",
              "      <td>2008-04-02 15:25:41</td>\n",
              "      <td>1.856487</td>\n",
              "      <td>3.951717</td>\n",
              "      <td>-2.013979</td>\n",
              "      <td>24.544752</td>\n",
              "      <td>-1.9982</td>\n",
              "      <td>3.030</td>\n",
              "      <td>53.781</td>\n",
              "    </tr>\n",
              "    <tr>\n",
              "      <th>4</th>\n",
              "      <td>4</td>\n",
              "      <td>1</td>\n",
              "      <td>24</td>\n",
              "      <td>2008-04-02 15:25:41</td>\n",
              "      <td>1.856487</td>\n",
              "      <td>3.934352</td>\n",
              "      <td>-2.011144</td>\n",
              "      <td>24.731385</td>\n",
              "      <td>-1.9982</td>\n",
              "      <td>3.011</td>\n",
              "      <td>71.922</td>\n",
              "    </tr>\n",
              "    <tr>\n",
              "      <th>...</th>\n",
              "      <td>...</td>\n",
              "      <td>...</td>\n",
              "      <td>...</td>\n",
              "      <td>...</td>\n",
              "      <td>...</td>\n",
              "      <td>...</td>\n",
              "      <td>...</td>\n",
              "      <td>...</td>\n",
              "      <td>...</td>\n",
              "      <td>...</td>\n",
              "      <td>...</td>\n",
              "    </tr>\n",
              "    <tr>\n",
              "      <th>50280</th>\n",
              "      <td>50280</td>\n",
              "      <td>168</td>\n",
              "      <td>24</td>\n",
              "      <td>2008-05-27 20:45:42</td>\n",
              "      <td>1.325079</td>\n",
              "      <td>3.579262</td>\n",
              "      <td>-0.001569</td>\n",
              "      <td>34.864823</td>\n",
              "      <td>0.0006</td>\n",
              "      <td>0.000</td>\n",
              "      <td>2781.312</td>\n",
              "    </tr>\n",
              "    <tr>\n",
              "      <th>50281</th>\n",
              "      <td>50281</td>\n",
              "      <td>168</td>\n",
              "      <td>24</td>\n",
              "      <td>2008-05-27 20:45:42</td>\n",
              "      <td>1.325079</td>\n",
              "      <td>3.581964</td>\n",
              "      <td>-0.003067</td>\n",
              "      <td>34.814770</td>\n",
              "      <td>0.0006</td>\n",
              "      <td>0.000</td>\n",
              "      <td>2791.062</td>\n",
              "    </tr>\n",
              "    <tr>\n",
              "      <th>50282</th>\n",
              "      <td>50282</td>\n",
              "      <td>168</td>\n",
              "      <td>24</td>\n",
              "      <td>2008-05-27 20:45:42</td>\n",
              "      <td>1.325079</td>\n",
              "      <td>3.584484</td>\n",
              "      <td>-0.003079</td>\n",
              "      <td>34.676258</td>\n",
              "      <td>0.0006</td>\n",
              "      <td>0.000</td>\n",
              "      <td>2800.828</td>\n",
              "    </tr>\n",
              "    <tr>\n",
              "      <th>50283</th>\n",
              "      <td>50283</td>\n",
              "      <td>168</td>\n",
              "      <td>24</td>\n",
              "      <td>2008-05-27 20:45:42</td>\n",
              "      <td>1.325079</td>\n",
              "      <td>3.587336</td>\n",
              "      <td>0.001219</td>\n",
              "      <td>34.565580</td>\n",
              "      <td>0.0006</td>\n",
              "      <td>0.000</td>\n",
              "      <td>2810.640</td>\n",
              "    </tr>\n",
              "    <tr>\n",
              "      <th>50284</th>\n",
              "      <td>50284</td>\n",
              "      <td>168</td>\n",
              "      <td>24</td>\n",
              "      <td>2008-05-27 20:45:42</td>\n",
              "      <td>1.325079</td>\n",
              "      <td>3.589937</td>\n",
              "      <td>-0.000583</td>\n",
              "      <td>34.405920</td>\n",
              "      <td>0.0006</td>\n",
              "      <td>0.000</td>\n",
              "      <td>2820.390</td>\n",
              "    </tr>\n",
              "  </tbody>\n",
              "</table>\n",
              "<p>50285 rows × 11 columns</p>\n",
              "</div>\n",
              "      <button class=\"colab-df-convert\" onclick=\"convertToInteractive('df-e41f271e-a4f0-45fd-a6bd-248226502a1a')\"\n",
              "              title=\"Convert this dataframe to an interactive table.\"\n",
              "              style=\"display:none;\">\n",
              "        \n",
              "  <svg xmlns=\"http://www.w3.org/2000/svg\" height=\"24px\"viewBox=\"0 0 24 24\"\n",
              "       width=\"24px\">\n",
              "    <path d=\"M0 0h24v24H0V0z\" fill=\"none\"/>\n",
              "    <path d=\"M18.56 5.44l.94 2.06.94-2.06 2.06-.94-2.06-.94-.94-2.06-.94 2.06-2.06.94zm-11 1L8.5 8.5l.94-2.06 2.06-.94-2.06-.94L8.5 2.5l-.94 2.06-2.06.94zm10 10l.94 2.06.94-2.06 2.06-.94-2.06-.94-.94-2.06-.94 2.06-2.06.94z\"/><path d=\"M17.41 7.96l-1.37-1.37c-.4-.4-.92-.59-1.43-.59-.52 0-1.04.2-1.43.59L10.3 9.45l-7.72 7.72c-.78.78-.78 2.05 0 2.83L4 21.41c.39.39.9.59 1.41.59.51 0 1.02-.2 1.41-.59l7.78-7.78 2.81-2.81c.8-.78.8-2.07 0-2.86zM5.41 20L4 18.59l7.72-7.72 1.47 1.35L5.41 20z\"/>\n",
              "  </svg>\n",
              "      </button>\n",
              "      \n",
              "  <style>\n",
              "    .colab-df-container {\n",
              "      display:flex;\n",
              "      flex-wrap:wrap;\n",
              "      gap: 12px;\n",
              "    }\n",
              "\n",
              "    .colab-df-convert {\n",
              "      background-color: #E8F0FE;\n",
              "      border: none;\n",
              "      border-radius: 50%;\n",
              "      cursor: pointer;\n",
              "      display: none;\n",
              "      fill: #1967D2;\n",
              "      height: 32px;\n",
              "      padding: 0 0 0 0;\n",
              "      width: 32px;\n",
              "    }\n",
              "\n",
              "    .colab-df-convert:hover {\n",
              "      background-color: #E2EBFA;\n",
              "      box-shadow: 0px 1px 2px rgba(60, 64, 67, 0.3), 0px 1px 3px 1px rgba(60, 64, 67, 0.15);\n",
              "      fill: #174EA6;\n",
              "    }\n",
              "\n",
              "    [theme=dark] .colab-df-convert {\n",
              "      background-color: #3B4455;\n",
              "      fill: #D2E3FC;\n",
              "    }\n",
              "\n",
              "    [theme=dark] .colab-df-convert:hover {\n",
              "      background-color: #434B5C;\n",
              "      box-shadow: 0px 1px 3px 1px rgba(0, 0, 0, 0.15);\n",
              "      filter: drop-shadow(0px 1px 2px rgba(0, 0, 0, 0.3));\n",
              "      fill: #FFFFFF;\n",
              "    }\n",
              "  </style>\n",
              "\n",
              "      <script>\n",
              "        const buttonEl =\n",
              "          document.querySelector('#df-e41f271e-a4f0-45fd-a6bd-248226502a1a button.colab-df-convert');\n",
              "        buttonEl.style.display =\n",
              "          google.colab.kernel.accessAllowed ? 'block' : 'none';\n",
              "\n",
              "        async function convertToInteractive(key) {\n",
              "          const element = document.querySelector('#df-e41f271e-a4f0-45fd-a6bd-248226502a1a');\n",
              "          const dataTable =\n",
              "            await google.colab.kernel.invokeFunction('convertToInteractive',\n",
              "                                                     [key], {});\n",
              "          if (!dataTable) return;\n",
              "\n",
              "          const docLinkHtml = 'Like what you see? Visit the ' +\n",
              "            '<a target=\"_blank\" href=https://colab.research.google.com/notebooks/data_table.ipynb>data table notebook</a>'\n",
              "            + ' to learn more about interactive tables.';\n",
              "          element.innerHTML = '';\n",
              "          dataTable['output_type'] = 'display_data';\n",
              "          await google.colab.output.renderOutput(dataTable, element);\n",
              "          const docLink = document.createElement('div');\n",
              "          docLink.innerHTML = docLinkHtml;\n",
              "          element.appendChild(docLink);\n",
              "        }\n",
              "      </script>\n",
              "    </div>\n",
              "  </div>\n",
              "  "
            ]
          },
          "metadata": {},
          "execution_count": 1108
        }
      ]
    },
    {
      "cell_type": "code",
      "source": [
        "data=data.drop_duplicates(subset=['cycle'], keep='last')\n",
        "data"
      ],
      "metadata": {
        "colab": {
          "base_uri": "https://localhost:8080/",
          "height": 852
        },
        "id": "R-d6HTbi9HVj",
        "outputId": "aa579751-0e87-454d-c8f9-be9fdb65d517"
      },
      "execution_count": 1109,
      "outputs": [
        {
          "output_type": "execute_result",
          "data": {
            "text/plain": [
              "       Unnamed: 0  cycle  ambient_temperature             datetime  capacity  \\\n",
              "196           196      1                   24  2008-04-02 15:25:41  1.856487   \n",
              "392           392      2                   24  2008-04-02 19:43:48  1.846327   \n",
              "587           587      3                   24  2008-04-03 00:01:06  1.835349   \n",
              "781           781      4                   24  2008-04-03 04:16:37  1.835263   \n",
              "975           975      5                   24  2008-04-03 08:33:25  1.834646   \n",
              "...           ...    ...                  ...                  ...       ...   \n",
              "49092       49092    164                   24  2008-05-26 10:44:38  1.293464   \n",
              "49389       49389    165                   24  2008-05-26 15:30:43  1.288003   \n",
              "49686       49686    166                   24  2008-05-26 20:21:04  1.287453   \n",
              "49984       49984    167                   24  2008-05-27 15:52:41  1.309015   \n",
              "50284       50284    168                   24  2008-05-27 20:45:42  1.325079   \n",
              "\n",
              "       voltage_measured  current_measured  temperature_measured  current_load  \\\n",
              "196            3.277170         -0.006528             34.230853       -0.0006   \n",
              "392            3.300245         -0.000448             34.392137       -0.0006   \n",
              "587            3.327451          0.001026             34.232779       -0.0006   \n",
              "781            3.314182         -0.002234             34.413450       -0.0006   \n",
              "975            3.305497          0.000009             34.345885       -0.0006   \n",
              "...                 ...               ...                   ...           ...   \n",
              "49092          3.615561         -0.002548             34.075649        0.0006   \n",
              "49389          3.621191         -0.002460             33.991350        0.0006   \n",
              "49686          3.619185          0.000478             34.059198        0.0006   \n",
              "49984          3.595365         -0.002342             34.556514        0.0006   \n",
              "50284          3.589937         -0.000583             34.405920        0.0006   \n",
              "\n",
              "       voltage_load      time  \n",
              "196             0.0  3690.234  \n",
              "392             0.0  3672.344  \n",
              "587             0.0  3651.641  \n",
              "781             0.0  3631.563  \n",
              "975             0.0  3629.172  \n",
              "...             ...       ...  \n",
              "49092           0.0  2793.390  \n",
              "49389           0.0  2793.390  \n",
              "49686           0.0  2792.485  \n",
              "49984           0.0  2802.016  \n",
              "50284           0.0  2820.390  \n",
              "\n",
              "[168 rows x 11 columns]"
            ],
            "text/html": [
              "\n",
              "  <div id=\"df-4029f89b-69f0-4140-a993-074a0bb39afa\">\n",
              "    <div class=\"colab-df-container\">\n",
              "      <div>\n",
              "<style scoped>\n",
              "    .dataframe tbody tr th:only-of-type {\n",
              "        vertical-align: middle;\n",
              "    }\n",
              "\n",
              "    .dataframe tbody tr th {\n",
              "        vertical-align: top;\n",
              "    }\n",
              "\n",
              "    .dataframe thead th {\n",
              "        text-align: right;\n",
              "    }\n",
              "</style>\n",
              "<table border=\"1\" class=\"dataframe\">\n",
              "  <thead>\n",
              "    <tr style=\"text-align: right;\">\n",
              "      <th></th>\n",
              "      <th>Unnamed: 0</th>\n",
              "      <th>cycle</th>\n",
              "      <th>ambient_temperature</th>\n",
              "      <th>datetime</th>\n",
              "      <th>capacity</th>\n",
              "      <th>voltage_measured</th>\n",
              "      <th>current_measured</th>\n",
              "      <th>temperature_measured</th>\n",
              "      <th>current_load</th>\n",
              "      <th>voltage_load</th>\n",
              "      <th>time</th>\n",
              "    </tr>\n",
              "  </thead>\n",
              "  <tbody>\n",
              "    <tr>\n",
              "      <th>196</th>\n",
              "      <td>196</td>\n",
              "      <td>1</td>\n",
              "      <td>24</td>\n",
              "      <td>2008-04-02 15:25:41</td>\n",
              "      <td>1.856487</td>\n",
              "      <td>3.277170</td>\n",
              "      <td>-0.006528</td>\n",
              "      <td>34.230853</td>\n",
              "      <td>-0.0006</td>\n",
              "      <td>0.0</td>\n",
              "      <td>3690.234</td>\n",
              "    </tr>\n",
              "    <tr>\n",
              "      <th>392</th>\n",
              "      <td>392</td>\n",
              "      <td>2</td>\n",
              "      <td>24</td>\n",
              "      <td>2008-04-02 19:43:48</td>\n",
              "      <td>1.846327</td>\n",
              "      <td>3.300245</td>\n",
              "      <td>-0.000448</td>\n",
              "      <td>34.392137</td>\n",
              "      <td>-0.0006</td>\n",
              "      <td>0.0</td>\n",
              "      <td>3672.344</td>\n",
              "    </tr>\n",
              "    <tr>\n",
              "      <th>587</th>\n",
              "      <td>587</td>\n",
              "      <td>3</td>\n",
              "      <td>24</td>\n",
              "      <td>2008-04-03 00:01:06</td>\n",
              "      <td>1.835349</td>\n",
              "      <td>3.327451</td>\n",
              "      <td>0.001026</td>\n",
              "      <td>34.232779</td>\n",
              "      <td>-0.0006</td>\n",
              "      <td>0.0</td>\n",
              "      <td>3651.641</td>\n",
              "    </tr>\n",
              "    <tr>\n",
              "      <th>781</th>\n",
              "      <td>781</td>\n",
              "      <td>4</td>\n",
              "      <td>24</td>\n",
              "      <td>2008-04-03 04:16:37</td>\n",
              "      <td>1.835263</td>\n",
              "      <td>3.314182</td>\n",
              "      <td>-0.002234</td>\n",
              "      <td>34.413450</td>\n",
              "      <td>-0.0006</td>\n",
              "      <td>0.0</td>\n",
              "      <td>3631.563</td>\n",
              "    </tr>\n",
              "    <tr>\n",
              "      <th>975</th>\n",
              "      <td>975</td>\n",
              "      <td>5</td>\n",
              "      <td>24</td>\n",
              "      <td>2008-04-03 08:33:25</td>\n",
              "      <td>1.834646</td>\n",
              "      <td>3.305497</td>\n",
              "      <td>0.000009</td>\n",
              "      <td>34.345885</td>\n",
              "      <td>-0.0006</td>\n",
              "      <td>0.0</td>\n",
              "      <td>3629.172</td>\n",
              "    </tr>\n",
              "    <tr>\n",
              "      <th>...</th>\n",
              "      <td>...</td>\n",
              "      <td>...</td>\n",
              "      <td>...</td>\n",
              "      <td>...</td>\n",
              "      <td>...</td>\n",
              "      <td>...</td>\n",
              "      <td>...</td>\n",
              "      <td>...</td>\n",
              "      <td>...</td>\n",
              "      <td>...</td>\n",
              "      <td>...</td>\n",
              "    </tr>\n",
              "    <tr>\n",
              "      <th>49092</th>\n",
              "      <td>49092</td>\n",
              "      <td>164</td>\n",
              "      <td>24</td>\n",
              "      <td>2008-05-26 10:44:38</td>\n",
              "      <td>1.293464</td>\n",
              "      <td>3.615561</td>\n",
              "      <td>-0.002548</td>\n",
              "      <td>34.075649</td>\n",
              "      <td>0.0006</td>\n",
              "      <td>0.0</td>\n",
              "      <td>2793.390</td>\n",
              "    </tr>\n",
              "    <tr>\n",
              "      <th>49389</th>\n",
              "      <td>49389</td>\n",
              "      <td>165</td>\n",
              "      <td>24</td>\n",
              "      <td>2008-05-26 15:30:43</td>\n",
              "      <td>1.288003</td>\n",
              "      <td>3.621191</td>\n",
              "      <td>-0.002460</td>\n",
              "      <td>33.991350</td>\n",
              "      <td>0.0006</td>\n",
              "      <td>0.0</td>\n",
              "      <td>2793.390</td>\n",
              "    </tr>\n",
              "    <tr>\n",
              "      <th>49686</th>\n",
              "      <td>49686</td>\n",
              "      <td>166</td>\n",
              "      <td>24</td>\n",
              "      <td>2008-05-26 20:21:04</td>\n",
              "      <td>1.287453</td>\n",
              "      <td>3.619185</td>\n",
              "      <td>0.000478</td>\n",
              "      <td>34.059198</td>\n",
              "      <td>0.0006</td>\n",
              "      <td>0.0</td>\n",
              "      <td>2792.485</td>\n",
              "    </tr>\n",
              "    <tr>\n",
              "      <th>49984</th>\n",
              "      <td>49984</td>\n",
              "      <td>167</td>\n",
              "      <td>24</td>\n",
              "      <td>2008-05-27 15:52:41</td>\n",
              "      <td>1.309015</td>\n",
              "      <td>3.595365</td>\n",
              "      <td>-0.002342</td>\n",
              "      <td>34.556514</td>\n",
              "      <td>0.0006</td>\n",
              "      <td>0.0</td>\n",
              "      <td>2802.016</td>\n",
              "    </tr>\n",
              "    <tr>\n",
              "      <th>50284</th>\n",
              "      <td>50284</td>\n",
              "      <td>168</td>\n",
              "      <td>24</td>\n",
              "      <td>2008-05-27 20:45:42</td>\n",
              "      <td>1.325079</td>\n",
              "      <td>3.589937</td>\n",
              "      <td>-0.000583</td>\n",
              "      <td>34.405920</td>\n",
              "      <td>0.0006</td>\n",
              "      <td>0.0</td>\n",
              "      <td>2820.390</td>\n",
              "    </tr>\n",
              "  </tbody>\n",
              "</table>\n",
              "<p>168 rows × 11 columns</p>\n",
              "</div>\n",
              "      <button class=\"colab-df-convert\" onclick=\"convertToInteractive('df-4029f89b-69f0-4140-a993-074a0bb39afa')\"\n",
              "              title=\"Convert this dataframe to an interactive table.\"\n",
              "              style=\"display:none;\">\n",
              "        \n",
              "  <svg xmlns=\"http://www.w3.org/2000/svg\" height=\"24px\"viewBox=\"0 0 24 24\"\n",
              "       width=\"24px\">\n",
              "    <path d=\"M0 0h24v24H0V0z\" fill=\"none\"/>\n",
              "    <path d=\"M18.56 5.44l.94 2.06.94-2.06 2.06-.94-2.06-.94-.94-2.06-.94 2.06-2.06.94zm-11 1L8.5 8.5l.94-2.06 2.06-.94-2.06-.94L8.5 2.5l-.94 2.06-2.06.94zm10 10l.94 2.06.94-2.06 2.06-.94-2.06-.94-.94-2.06-.94 2.06-2.06.94z\"/><path d=\"M17.41 7.96l-1.37-1.37c-.4-.4-.92-.59-1.43-.59-.52 0-1.04.2-1.43.59L10.3 9.45l-7.72 7.72c-.78.78-.78 2.05 0 2.83L4 21.41c.39.39.9.59 1.41.59.51 0 1.02-.2 1.41-.59l7.78-7.78 2.81-2.81c.8-.78.8-2.07 0-2.86zM5.41 20L4 18.59l7.72-7.72 1.47 1.35L5.41 20z\"/>\n",
              "  </svg>\n",
              "      </button>\n",
              "      \n",
              "  <style>\n",
              "    .colab-df-container {\n",
              "      display:flex;\n",
              "      flex-wrap:wrap;\n",
              "      gap: 12px;\n",
              "    }\n",
              "\n",
              "    .colab-df-convert {\n",
              "      background-color: #E8F0FE;\n",
              "      border: none;\n",
              "      border-radius: 50%;\n",
              "      cursor: pointer;\n",
              "      display: none;\n",
              "      fill: #1967D2;\n",
              "      height: 32px;\n",
              "      padding: 0 0 0 0;\n",
              "      width: 32px;\n",
              "    }\n",
              "\n",
              "    .colab-df-convert:hover {\n",
              "      background-color: #E2EBFA;\n",
              "      box-shadow: 0px 1px 2px rgba(60, 64, 67, 0.3), 0px 1px 3px 1px rgba(60, 64, 67, 0.15);\n",
              "      fill: #174EA6;\n",
              "    }\n",
              "\n",
              "    [theme=dark] .colab-df-convert {\n",
              "      background-color: #3B4455;\n",
              "      fill: #D2E3FC;\n",
              "    }\n",
              "\n",
              "    [theme=dark] .colab-df-convert:hover {\n",
              "      background-color: #434B5C;\n",
              "      box-shadow: 0px 1px 3px 1px rgba(0, 0, 0, 0.15);\n",
              "      filter: drop-shadow(0px 1px 2px rgba(0, 0, 0, 0.3));\n",
              "      fill: #FFFFFF;\n",
              "    }\n",
              "  </style>\n",
              "\n",
              "      <script>\n",
              "        const buttonEl =\n",
              "          document.querySelector('#df-4029f89b-69f0-4140-a993-074a0bb39afa button.colab-df-convert');\n",
              "        buttonEl.style.display =\n",
              "          google.colab.kernel.accessAllowed ? 'block' : 'none';\n",
              "\n",
              "        async function convertToInteractive(key) {\n",
              "          const element = document.querySelector('#df-4029f89b-69f0-4140-a993-074a0bb39afa');\n",
              "          const dataTable =\n",
              "            await google.colab.kernel.invokeFunction('convertToInteractive',\n",
              "                                                     [key], {});\n",
              "          if (!dataTable) return;\n",
              "\n",
              "          const docLinkHtml = 'Like what you see? Visit the ' +\n",
              "            '<a target=\"_blank\" href=https://colab.research.google.com/notebooks/data_table.ipynb>data table notebook</a>'\n",
              "            + ' to learn more about interactive tables.';\n",
              "          element.innerHTML = '';\n",
              "          dataTable['output_type'] = 'display_data';\n",
              "          await google.colab.output.renderOutput(dataTable, element);\n",
              "          const docLink = document.createElement('div');\n",
              "          docLink.innerHTML = docLinkHtml;\n",
              "          element.appendChild(docLink);\n",
              "        }\n",
              "      </script>\n",
              "    </div>\n",
              "  </div>\n",
              "  "
            ]
          },
          "metadata": {},
          "execution_count": 1109
        }
      ]
    },
    {
      "cell_type": "code",
      "source": [
        "import matplotlib.pyplot as plt\n",
        "plt.plot(range(len(data[\"capacity\"])),data[\"capacity\"])\n",
        "plt.ylabel('capacity')\n",
        "plt.xlabel('cycle')\n",
        "plt.show()"
      ],
      "metadata": {
        "colab": {
          "base_uri": "https://localhost:8080/",
          "height": 279
        },
        "id": "6RRhYwuU9HRJ",
        "outputId": "83449ac5-86c4-4c0b-a86c-8d41dbc32123"
      },
      "execution_count": 1110,
      "outputs": [
        {
          "output_type": "display_data",
          "data": {
            "text/plain": [
              "<Figure size 432x288 with 1 Axes>"
            ],
            "image/png": "[encoded data removed]"
          },
          "metadata": {
            "needs_background": "light"
          }
        }
      ]
    },
    {
      "cell_type": "code",
      "source": [
        "capacity=data[[\"capacity\"]]\n",
        "capacity=capacity.set_index(pd.Index(range(len(capacity))))\n",
        "capacity"
      ],
      "metadata": {
        "colab": {
          "base_uri": "https://localhost:8080/",
          "height": 424
        },
        "id": "ompghabq9HMB",
        "outputId": "ab0aeb20-5a17-462b-ec01-adc3a5d30eec"
      },
      "execution_count": 1111,
      "outputs": [
        {
          "output_type": "execute_result",
          "data": {
            "text/plain": [
              "     capacity\n",
              "0    1.856487\n",
              "1    1.846327\n",
              "2    1.835349\n",
              "3    1.835263\n",
              "4    1.834646\n",
              "..        ...\n",
              "163  1.293464\n",
              "164  1.288003\n",
              "165  1.287453\n",
              "166  1.309015\n",
              "167  1.325079\n",
              "\n",
              "[168 rows x 1 columns]"
            ],
            "text/html": [
              "\n",
              "  <div id=\"df-a0127bb5-f57e-494d-9c43-74f7cb0aca4f\">\n",
              "    <div class=\"colab-df-container\">\n",
              "      <div>\n",
              "<style scoped>\n",
              "    .dataframe tbody tr th:only-of-type {\n",
              "        vertical-align: middle;\n",
              "    }\n",
              "\n",
              "    .dataframe tbody tr th {\n",
              "        vertical-align: top;\n",
              "    }\n",
              "\n",
              "    .dataframe thead th {\n",
              "        text-align: right;\n",
              "    }\n",
              "</style>\n",
              "<table border=\"1\" class=\"dataframe\">\n",
              "  <thead>\n",
              "    <tr style=\"text-align: right;\">\n",
              "      <th></th>\n",
              "      <th>capacity</th>\n",
              "    </tr>\n",
              "  </thead>\n",
              "  <tbody>\n",
              "    <tr>\n",
              "      <th>0</th>\n",
              "      <td>1.856487</td>\n",
              "    </tr>\n",
              "    <tr>\n",
              "      <th>1</th>\n",
              "      <td>1.846327</td>\n",
              "    </tr>\n",
              "    <tr>\n",
              "      <th>2</th>\n",
              "      <td>1.835349</td>\n",
              "    </tr>\n",
              "    <tr>\n",
              "      <th>3</th>\n",
              "      <td>1.835263</td>\n",
              "    </tr>\n",
              "    <tr>\n",
              "      <th>4</th>\n",
              "      <td>1.834646</td>\n",
              "    </tr>\n",
              "    <tr>\n",
              "      <th>...</th>\n",
              "      <td>...</td>\n",
              "    </tr>\n",
              "    <tr>\n",
              "      <th>163</th>\n",
              "      <td>1.293464</td>\n",
              "    </tr>\n",
              "    <tr>\n",
              "      <th>164</th>\n",
              "      <td>1.288003</td>\n",
              "    </tr>\n",
              "    <tr>\n",
              "      <th>165</th>\n",
              "      <td>1.287453</td>\n",
              "    </tr>\n",
              "    <tr>\n",
              "      <th>166</th>\n",
              "      <td>1.309015</td>\n",
              "    </tr>\n",
              "    <tr>\n",
              "      <th>167</th>\n",
              "      <td>1.325079</td>\n",
              "    </tr>\n",
              "  </tbody>\n",
              "</table>\n",
              "<p>168 rows × 1 columns</p>\n",
              "</div>\n",
              "      <button class=\"colab-df-convert\" onclick=\"convertToInteractive('df-a0127bb5-f57e-494d-9c43-74f7cb0aca4f')\"\n",
              "              title=\"Convert this dataframe to an interactive table.\"\n",
              "              style=\"display:none;\">\n",
              "        \n",
              "  <svg xmlns=\"http://www.w3.org/2000/svg\" height=\"24px\"viewBox=\"0 0 24 24\"\n",
              "       width=\"24px\">\n",
              "    <path d=\"M0 0h24v24H0V0z\" fill=\"none\"/>\n",
              "    <path d=\"M18.56 5.44l.94 2.06.94-2.06 2.06-.94-2.06-.94-.94-2.06-.94 2.06-2.06.94zm-11 1L8.5 8.5l.94-2.06 2.06-.94-2.06-.94L8.5 2.5l-.94 2.06-2.06.94zm10 10l.94 2.06.94-2.06 2.06-.94-2.06-.94-.94-2.06-.94 2.06-2.06.94z\"/><path d=\"M17.41 7.96l-1.37-1.37c-.4-.4-.92-.59-1.43-.59-.52 0-1.04.2-1.43.59L10.3 9.45l-7.72 7.72c-.78.78-.78 2.05 0 2.83L4 21.41c.39.39.9.59 1.41.59.51 0 1.02-.2 1.41-.59l7.78-7.78 2.81-2.81c.8-.78.8-2.07 0-2.86zM5.41 20L4 18.59l7.72-7.72 1.47 1.35L5.41 20z\"/>\n",
              "  </svg>\n",
              "      </button>\n",
              "      \n",
              "  <style>\n",
              "    .colab-df-container {\n",
              "      display:flex;\n",
              "      flex-wrap:wrap;\n",
              "      gap: 12px;\n",
              "    }\n",
              "\n",
              "    .colab-df-convert {\n",
              "      background-color: #E8F0FE;\n",
              "      border: none;\n",
              "      border-radius: 50%;\n",
              "      cursor: pointer;\n",
              "      display: none;\n",
              "      fill: #1967D2;\n",
              "      height: 32px;\n",
              "      padding: 0 0 0 0;\n",
              "      width: 32px;\n",
              "    }\n",
              "\n",
              "    .colab-df-convert:hover {\n",
              "      background-color: #E2EBFA;\n",
              "      box-shadow: 0px 1px 2px rgba(60, 64, 67, 0.3), 0px 1px 3px 1px rgba(60, 64, 67, 0.15);\n",
              "      fill: #174EA6;\n",
              "    }\n",
              "\n",
              "    [theme=dark] .colab-df-convert {\n",
              "      background-color: #3B4455;\n",
              "      fill: #D2E3FC;\n",
              "    }\n",
              "\n",
              "    [theme=dark] .colab-df-convert:hover {\n",
              "      background-color: #434B5C;\n",
              "      box-shadow: 0px 1px 3px 1px rgba(0, 0, 0, 0.15);\n",
              "      filter: drop-shadow(0px 1px 2px rgba(0, 0, 0, 0.3));\n",
              "      fill: #FFFFFF;\n",
              "    }\n",
              "  </style>\n",
              "\n",
              "      <script>\n",
              "        const buttonEl =\n",
              "          document.querySelector('#df-a0127bb5-f57e-494d-9c43-74f7cb0aca4f button.colab-df-convert');\n",
              "        buttonEl.style.display =\n",
              "          google.colab.kernel.accessAllowed ? 'block' : 'none';\n",
              "\n",
              "        async function convertToInteractive(key) {\n",
              "          const element = document.querySelector('#df-a0127bb5-f57e-494d-9c43-74f7cb0aca4f');\n",
              "          const dataTable =\n",
              "            await google.colab.kernel.invokeFunction('convertToInteractive',\n",
              "                                                     [key], {});\n",
              "          if (!dataTable) return;\n",
              "\n",
              "          const docLinkHtml = 'Like what you see? Visit the ' +\n",
              "            '<a target=\"_blank\" href=https://colab.research.google.com/notebooks/data_table.ipynb>data table notebook</a>'\n",
              "            + ' to learn more about interactive tables.';\n",
              "          element.innerHTML = '';\n",
              "          dataTable['output_type'] = 'display_data';\n",
              "          await google.colab.output.renderOutput(dataTable, element);\n",
              "          const docLink = document.createElement('div');\n",
              "          docLink.innerHTML = docLinkHtml;\n",
              "          element.appendChild(docLink);\n",
              "        }\n",
              "      </script>\n",
              "    </div>\n",
              "  </div>\n",
              "  "
            ]
          },
          "metadata": {},
          "execution_count": 1111
        }
      ]
    },
    {
      "cell_type": "code",
      "source": [
        "soh=[]\n",
        "for i in range(len(capacity)):\n",
        "  soh.append(capacity.loc[i].at[\"capacity\"]/capacity.loc[0].at[\"capacity\"])"
      ],
      "metadata": {
        "id": "6_g6MRNA9dhT"
      },
      "execution_count": 1112,
      "outputs": []
    },
    {
      "cell_type": "code",
      "source": [
        "plt.plot(range(len(soh)),soh)\n",
        "plt.ylabel('Real SOH')\n",
        "plt.xlabel('cycle')\n",
        "plt.show()"
      ],
      "metadata": {
        "colab": {
          "base_uri": "https://localhost:8080/",
          "height": 279
        },
        "id": "n6SiftOG9da6",
        "outputId": "d91f6d63-c070-480e-9396-4c484faf6476"
      },
      "execution_count": 1113,
      "outputs": [
        {
          "output_type": "display_data",
          "data": {
            "text/plain": [
              "<Figure size 432x288 with 1 Axes>"
            ],
            "image/png": "[encoded data removed]"
          },
          "metadata": {
            "needs_background": "light"
          }
        }
      ]
    },
    {
      "cell_type": "code",
      "source": [
        "capacity=np.asarray(capacity)"
      ],
      "metadata": {
        "id": "WRBvPXg19_cF"
      },
      "execution_count": 1114,
      "outputs": []
    },
    {
      "cell_type": "code",
      "source": [
        "type(capacity)"
      ],
      "metadata": {
        "colab": {
          "base_uri": "https://localhost:8080/"
        },
        "id": "Z0pj0c2r-D4n",
        "outputId": "c35e9075-3345-49fc-fff4-6bc2efb80143"
      },
      "execution_count": 1115,
      "outputs": [
        {
          "output_type": "execute_result",
          "data": {
            "text/plain": [
              "numpy.ndarray"
            ]
          },
          "metadata": {},
          "execution_count": 1115
        }
      ]
    },
    {
      "cell_type": "code",
      "source": [
        "timestep = 5\n",
        "\n",
        "X= []\n",
        "Y=[]\n",
        "\n",
        "cap=capacity\n",
        "\n",
        "for i in range(len(capacity)- (timestep)):\n",
        "    X.append(capacity[i:i+timestep])\n",
        "    Y.append(soh[i+timestep])\n",
        "\n",
        "\n",
        "X=np.asanyarray(X)\n",
        "Y=np.asanyarray(Y)\n",
        "\n",
        "\n",
        "k = 100\n",
        "Xtrain = X[:k,:,:]  \n",
        "Ytrain = Y[:k]  "
      ],
      "metadata": {
        "id": "Cznc33Md9z3V"
      },
      "execution_count": 1116,
      "outputs": []
    },
    {
      "cell_type": "code",
      "source": [
        "from keras.models import Sequential\n",
        "from keras.layers import Dense,RepeatVector\n",
        "from keras.layers import Flatten\n",
        "from keras.layers import TimeDistributed\n",
        "from keras.layers.convolutional import Conv1D\n",
        "from keras.layers.convolutional import MaxPooling1D"
      ],
      "metadata": {
        "id": "qTcxmCyr-juv"
      },
      "execution_count": 1117,
      "outputs": []
    },
    {
      "cell_type": "code",
      "execution_count": 1118,
      "metadata": {
        "colab": {
          "base_uri": "https://localhost:8080/"
        },
        "id": "NWdRySu_8-on",
        "outputId": "dca80daa-bad7-460f-b553-c059dd7d5a05"
      },
      "outputs": [
        {
          "output_type": "stream",
          "name": "stdout",
          "text": [
            "Epoch 1/10\n",
            "4/4 [==============================] - 1s 6ms/step - loss: 0.6296\n",
            "Epoch 2/10\n",
            "4/4 [==============================] - 0s 4ms/step - loss: 0.0651\n",
            "Epoch 3/10\n",
            "4/4 [==============================] - 0s 5ms/step - loss: 0.0328\n",
            "Epoch 4/10\n",
            "4/4 [==============================] - 0s 4ms/step - loss: 0.0504\n",
            "Epoch 5/10\n",
            "4/4 [==============================] - 0s 5ms/step - loss: 0.0073\n",
            "Epoch 6/10\n",
            "4/4 [==============================] - 0s 4ms/step - loss: 0.0171\n",
            "Epoch 7/10\n",
            "4/4 [==============================] - 0s 4ms/step - loss: 0.0027\n",
            "Epoch 8/10\n",
            "4/4 [==============================] - 0s 5ms/step - loss: 0.0067\n",
            "Epoch 9/10\n",
            "4/4 [==============================] - 0s 7ms/step - loss: 0.0023\n",
            "Epoch 10/10\n",
            "4/4 [==============================] - 0s 5ms/step - loss: 0.0018\n"
          ]
        },
        {
          "output_type": "execute_result",
          "data": {
            "text/plain": [
              "<keras.callbacks.History at 0x7f451782bd90>"
            ]
          },
          "metadata": {},
          "execution_count": 1118
        }
      ],
      "source": [
        "model = Sequential()\n",
        "model.add(Conv1D(filters=256, kernel_size=2, activation='relu', input_shape=(5, 1)))\n",
        "model.add(Conv1D(filters=256, kernel_size=2, activation='relu'))\n",
        "model.add(Conv1D(filters=128, kernel_size=2, activation='relu'))\n",
        "model.add(Conv1D(filters=128, kernel_size=2, activation='relu'))\n",
        "\n",
        "model.add(Flatten())\n",
        "model.add(Dense(100, activation='relu'))\n",
        "model.add(Dense(1))\n",
        "model.compile(optimizer='adam', loss='mse')\n",
        "# fit model\n",
        "model.fit(Xtrain, Ytrain, epochs=10)"
      ]
    },
    {
      "cell_type": "code",
      "source": [
        "Xtest = X[k:,:,:]  \n",
        "Ytest= Y[k:]  "
      ],
      "metadata": {
        "id": "9Upz_yjr-q3Q"
      },
      "execution_count": 1119,
      "outputs": []
    },
    {
      "cell_type": "code",
      "source": [
        "from sklearn.preprocessing import MinMaxScaler\n",
        "from sklearn.metrics import mean_squared_error\n",
        "from sklearn.metrics import confusion_matrix, accuracy_score, mean_absolute_error,r2_score"
      ],
      "metadata": {
        "id": "YQS_fo2c_Wp7"
      },
      "execution_count": 1120,
      "outputs": []
    },
    {
      "cell_type": "code",
      "source": [
        "preds = model.predict(Xtest)\n",
        "\n",
        "\n",
        "\n",
        "Ytest=np.asanyarray(Ytest)  \n",
        "Ytest=Ytest.reshape(-1,1) \n",
        "\n",
        "\n",
        "\n",
        "Ytrain=np.asanyarray(Ytrain)  \n",
        "Ytrain=Ytrain.reshape(-1,1) \n",
        "\n",
        "\n",
        "mean_squared_error(Ytest,preds)"
      ],
      "metadata": {
        "colab": {
          "base_uri": "https://localhost:8080/"
        },
        "id": "5z4yx_kF-9Bm",
        "outputId": "38735fac-39bf-4866-d4bc-2201adb87b21"
      },
      "execution_count": 1121,
      "outputs": [
        {
          "output_type": "stream",
          "name": "stdout",
          "text": [
            "2/2 [==============================] - 0s 6ms/step\n"
          ]
        },
        {
          "output_type": "execute_result",
          "data": {
            "text/plain": [
              "0.00013276001440562998"
            ]
          },
          "metadata": {},
          "execution_count": 1121
        }
      ]
    },
    {
      "cell_type": "code",
      "source": [
        "rmse = np.sqrt(mean_squared_error(Ytest, preds))\n",
        "print('Test RMSE: %.3f' % rmse)\n"
      ],
      "metadata": {
        "colab": {
          "base_uri": "https://localhost:8080/"
        },
        "id": "La8-1JslnFhv",
        "outputId": "77ec1514-438f-4d35-dfab-6295f17c7226"
      },
      "execution_count": 1122,
      "outputs": [
        {
          "output_type": "stream",
          "name": "stdout",
          "text": [
            "Test RMSE: 0.012\n"
          ]
        }
      ]
    },
    {
      "cell_type": "code",
      "source": [
        "mae = mean_absolute_error(Ytest,preds,multioutput='raw_values')\n",
        "r2 = r2_score(Ytest,preds)\n",
        "print('Mean Absolute Error: ', mae)\n",
        "print('R2_score: ', r2)"
      ],
      "metadata": {
        "colab": {
          "base_uri": "https://localhost:8080/"
        },
        "id": "LWM_5K8qqXST",
        "outputId": "1456b492-633d-440b-cb77-1c43f19d06f8"
      },
      "execution_count": 1123,
      "outputs": [
        {
          "output_type": "stream",
          "name": "stdout",
          "text": [
            "Mean Absolute Error:  [0.00919616]\n",
            "R2_score:  0.8236024682581392\n"
          ]
        }
      ]
    },
    {
      "cell_type": "code",
      "source": [
        "plt.plot(range(len(preds)),preds)\n",
        "plt.plot(range(len(Ytest)),Ytest)\n",
        "plt.ylabel('SOH')\n",
        "plt.xlabel('cycle')"
      ],
      "metadata": {
        "colab": {
          "base_uri": "https://localhost:8080/",
          "height": 296
        },
        "id": "V4Zq6b2F_vJd",
        "outputId": "67ed3173-bbcc-47ac-ccdf-a5e0a7411576"
      },
      "execution_count": 1124,
      "outputs": [
        {
          "output_type": "execute_result",
          "data": {
            "text/plain": [
              "Text(0.5, 0, 'cycle')"
            ]
          },
          "metadata": {},
          "execution_count": 1124
        },
        {
          "output_type": "display_data",
          "data": {
            "text/plain": [
              "<Figure size 432x288 with 1 Axes>"
            ],
            "image/png": "[encoded data removed]"
          },
          "metadata": {
            "needs_background": "light"
          }
        }
      ]
    },
    {
      "cell_type": "code",
      "source": [
        "preds = model.predict(X)"
      ],
      "metadata": {
        "colab": {
          "base_uri": "https://localhost:8080/"
        },
        "id": "qVBAZPnoACQV",
        "outputId": "2a926800-63d3-4787-a553-8e2914c0379d"
      },
      "execution_count": 1125,
      "outputs": [
        {
          "output_type": "stream",
          "name": "stdout",
          "text": [
            "6/6 [==============================] - 0s 2ms/step\n"
          ]
        }
      ]
    },
    {
      "cell_type": "code",
      "source": [
        "preds"
      ],
      "metadata": {
        "colab": {
          "base_uri": "https://localhost:8080/"
        },
        "id": "Gb9lbCeMaaVH",
        "outputId": "145ed7bd-2f51-400d-916c-54653ef1bace"
      },
      "execution_count": 1126,
      "outputs": [
        {
          "output_type": "execute_result",
          "data": {
            "text/plain": [
              "array([[0.94117075],\n",
              "       [0.93929905],\n",
              "       [0.93889886],\n",
              "       [0.9387583 ],\n",
              "       [0.9378537 ],\n",
              "       [0.9360594 ],\n",
              "       [0.9345904 ],\n",
              "       [0.93391114],\n",
              "       [0.9328392 ],\n",
              "       [0.9309424 ],\n",
              "       [0.9292192 ],\n",
              "       [0.92769396],\n",
              "       [0.92568105],\n",
              "       [0.92418134],\n",
              "       [0.9238772 ],\n",
              "       [0.92485225],\n",
              "       [0.9291785 ],\n",
              "       [0.9367984 ],\n",
              "       [0.9415137 ],\n",
              "       [0.9400406 ],\n",
              "       [0.9366482 ],\n",
              "       [0.934574  ],\n",
              "       [0.9331139 ],\n",
              "       [0.93116724],\n",
              "       [0.9294629 ],\n",
              "       [0.9279735 ],\n",
              "       [0.9269743 ],\n",
              "       [0.92988384],\n",
              "       [0.9358682 ],\n",
              "       [0.93734264],\n",
              "       [0.9330758 ],\n",
              "       [0.9284845 ],\n",
              "       [0.9251451 ],\n",
              "       [0.9220646 ],\n",
              "       [0.9185404 ],\n",
              "       [0.9149603 ],\n",
              "       [0.91200143],\n",
              "       [0.9098778 ],\n",
              "       [0.908199  ],\n",
              "       [0.9069384 ],\n",
              "       [0.90626127],\n",
              "       [0.90465826],\n",
              "       [0.9011654 ],\n",
              "       [0.89835405],\n",
              "       [0.9010114 ],\n",
              "       [0.90875894],\n",
              "       [0.9127189 ],\n",
              "       [0.90924287],\n",
              "       [0.9038509 ],\n",
              "       [0.89953136],\n",
              "       [0.89619726],\n",
              "       [0.8930422 ],\n",
              "       [0.88924855],\n",
              "       [0.8852534 ],\n",
              "       [0.8820185 ],\n",
              "       [0.8794924 ],\n",
              "       [0.8769538 ],\n",
              "       [0.873879  ],\n",
              "       [0.8701972 ],\n",
              "       [0.8666554 ],\n",
              "       [0.86380166],\n",
              "       [0.8609882 ],\n",
              "       [0.85798025],\n",
              "       [0.8548921 ],\n",
              "       [0.8514944 ],\n",
              "       [0.84837294],\n",
              "       [0.84585327],\n",
              "       [0.84336495],\n",
              "       [0.8403879 ],\n",
              "       [0.8369934 ],\n",
              "       [0.83380204],\n",
              "       [0.83073676],\n",
              "       [0.82746667],\n",
              "       [0.8251149 ],\n",
              "       [0.82459307],\n",
              "       [0.8239888 ],\n",
              "       [0.820652  ],\n",
              "       [0.81596905],\n",
              "       [0.81292063],\n",
              "       [0.8112716 ],\n",
              "       [0.8094411 ],\n",
              "       [0.8065248 ],\n",
              "       [0.8027127 ],\n",
              "       [0.7992055 ],\n",
              "       [0.79689807],\n",
              "       [0.7968305 ],\n",
              "       [0.80288434],\n",
              "       [0.8132383 ],\n",
              "       [0.81568336],\n",
              "       [0.808584  ],\n",
              "       [0.8015573 ],\n",
              "       [0.7968889 ],\n",
              "       [0.7932701 ],\n",
              "       [0.790234  ],\n",
              "       [0.7875787 ],\n",
              "       [0.7846696 ],\n",
              "       [0.78133404],\n",
              "       [0.77821606],\n",
              "       [0.77592945],\n",
              "       [0.7753457 ],\n",
              "       [0.7770413 ],\n",
              "       [0.77840763],\n",
              "       [0.77604944],\n",
              "       [0.77084947],\n",
              "       [0.7660891 ],\n",
              "       [0.7635982 ],\n",
              "       [0.76247156],\n",
              "       [0.76043206],\n",
              "       [0.75731546],\n",
              "       [0.7546868 ],\n",
              "       [0.7530101 ],\n",
              "       [0.75127894],\n",
              "       [0.7490198 ],\n",
              "       [0.7466951 ],\n",
              "       [0.7448151 ],\n",
              "       [0.7440104 ],\n",
              "       [0.74557966],\n",
              "       [0.749538  ],\n",
              "       [0.7514698 ],\n",
              "       [0.74817276],\n",
              "       [0.7430426 ],\n",
              "       [0.7393827 ],\n",
              "       [0.73683757],\n",
              "       [0.7344769 ],\n",
              "       [0.7320406 ],\n",
              "       [0.72955894],\n",
              "       [0.7272344 ],\n",
              "       [0.7253928 ],\n",
              "       [0.7242336 ],\n",
              "       [0.7242982 ],\n",
              "       [0.7261241 ],\n",
              "       [0.7275824 ],\n",
              "       [0.7258086 ],\n",
              "       [0.72207934],\n",
              "       [0.7190373 ],\n",
              "       [0.71741825],\n",
              "       [0.7164989 ],\n",
              "       [0.7149667 ],\n",
              "       [0.7128335 ],\n",
              "       [0.7109415 ],\n",
              "       [0.70947677],\n",
              "       [0.7077977 ],\n",
              "       [0.7055592 ],\n",
              "       [0.703228  ],\n",
              "       [0.70145434],\n",
              "       [0.70074445],\n",
              "       [0.70184064],\n",
              "       [0.7059196 ],\n",
              "       [0.7108688 ],\n",
              "       [0.7111686 ],\n",
              "       [0.707138  ],\n",
              "       [0.7035004 ],\n",
              "       [0.7010332 ],\n",
              "       [0.699132  ],\n",
              "       [0.6976041 ],\n",
              "       [0.69598407],\n",
              "       [0.6944391 ],\n",
              "       [0.6935717 ],\n",
              "       [0.69293374],\n",
              "       [0.6919029 ],\n",
              "       [0.6906413 ],\n",
              "       [0.6891268 ],\n",
              "       [0.6879197 ]], dtype=float32)"
            ]
          },
          "metadata": {},
          "execution_count": 1126
        }
      ]
    },
    {
      "cell_type": "code",
      "source": [
        "plt.plot(range(len(preds)),preds)\n",
        "plt.plot(range(len(Y)),Y)\n",
        "plt.ylabel('SOH')\n",
        "plt.xlabel('cycle')"
      ],
      "metadata": {
        "colab": {
          "base_uri": "https://localhost:8080/",
          "height": 296
        },
        "id": "FdkTwLPXBMaQ",
        "outputId": "e1e2b394-6096-43ed-fecc-e2e2447508b6"
      },
      "execution_count": 1127,
      "outputs": [
        {
          "output_type": "execute_result",
          "data": {
            "text/plain": [
              "Text(0.5, 0, 'cycle')"
            ]
          },
          "metadata": {},
          "execution_count": 1127
        },
        {
          "output_type": "display_data",
          "data": {
            "text/plain": [
              "<Figure size 432x288 with 1 Axes>"
            ],
            "image/png": "[encoded data removed]"
          },
          "metadata": {
            "needs_background": "light"
          }
        }
      ]
    },
    {
      "cell_type": "markdown",
      "source": [
        "Predicting Capacity"
      ],
      "metadata": {
        "id": "h-BjWD-YGiJr"
      }
    },
    {
      "cell_type": "code",
      "source": [
        "timestep = 5\n",
        "\n",
        "X= []\n",
        "Y=[]\n",
        "\n",
        "cap=capacity\n",
        "\n",
        "for i in range(len(capacity)- (timestep)):\n",
        "    X.append(capacity[i:i+timestep])\n",
        "    Y.append(capacity[i+timestep])\n",
        "\n",
        "\n",
        "X=np.asanyarray(X)\n",
        "Y=np.asanyarray(Y)\n",
        "\n",
        "\n",
        "k = 100\n",
        "Xtrain = X[:k,:,:]  \n",
        "Ytrain = Y[:k] "
      ],
      "metadata": {
        "id": "0Cbk-Uu7BS8H"
      },
      "execution_count": 1128,
      "outputs": []
    },
    {
      "cell_type": "code",
      "source": [
        "model = Sequential()\n",
        "model.add(Conv1D(filters=256, kernel_size=2, activation='relu', input_shape=(5, 1)))\n",
        "model.add(Conv1D(filters=256, kernel_size=2, activation='relu'))\n",
        "model.add(Conv1D(filters=128, kernel_size=2, activation='relu'))\n",
        "model.add(Conv1D(filters=128, kernel_size=2, activation='relu'))\n",
        "\n",
        "model.add(Flatten())\n",
        "model.add(Dense(100, activation='relu'))\n",
        "model.add(Dense(1))\n",
        "model.compile(optimizer='adam', loss='mse')\n",
        "# fit model\n",
        "model.fit(Xtrain, Ytrain, epochs=10)"
      ],
      "metadata": {
        "colab": {
          "base_uri": "https://localhost:8080/"
        },
        "id": "zNdZu5HwGtzf",
        "outputId": "73a46203-269c-415c-b364-be3cbad13cf8"
      },
      "execution_count": 1129,
      "outputs": [
        {
          "output_type": "stream",
          "name": "stdout",
          "text": [
            "Epoch 1/10\n",
            "4/4 [==============================] - 1s 5ms/step - loss: 2.6451\n",
            "Epoch 2/10\n",
            "4/4 [==============================] - 0s 5ms/step - loss: 1.2729\n",
            "Epoch 3/10\n",
            "4/4 [==============================] - 0s 4ms/step - loss: 0.1776\n",
            "Epoch 4/10\n",
            "4/4 [==============================] - 0s 4ms/step - loss: 0.2214\n",
            "Epoch 5/10\n",
            "4/4 [==============================] - 0s 4ms/step - loss: 0.1139\n",
            "Epoch 6/10\n",
            "4/4 [==============================] - 0s 4ms/step - loss: 0.1368\n",
            "Epoch 7/10\n",
            "4/4 [==============================] - 0s 5ms/step - loss: 0.0114\n",
            "Epoch 8/10\n",
            "4/4 [==============================] - 0s 4ms/step - loss: 0.0557\n",
            "Epoch 9/10\n",
            "4/4 [==============================] - 0s 4ms/step - loss: 0.0060\n",
            "Epoch 10/10\n",
            "4/4 [==============================] - 0s 5ms/step - loss: 0.0280\n"
          ]
        },
        {
          "output_type": "execute_result",
          "data": {
            "text/plain": [
              "<keras.callbacks.History at 0x7f451753db10>"
            ]
          },
          "metadata": {},
          "execution_count": 1129
        }
      ]
    },
    {
      "cell_type": "code",
      "source": [
        "Xtest = X[k:,:,:]  \n",
        "Ytest= Y[k:]  "
      ],
      "metadata": {
        "id": "PWh3D0x3HEsp"
      },
      "execution_count": 1130,
      "outputs": []
    },
    {
      "cell_type": "code",
      "source": [
        "preds = model.predict(Xtest)\n",
        "\n",
        "\n",
        "\n",
        "Ytest=np.asanyarray(Ytest)  \n",
        "Ytest=Ytest.reshape(-1,1) \n",
        "\n",
        "\n",
        "\n",
        "Ytrain=np.asanyarray(Ytrain)  \n",
        "Ytrain=Ytrain.reshape(-1,1) \n",
        "\n",
        "\n",
        "mean_squared_error(Ytest,preds)"
      ],
      "metadata": {
        "colab": {
          "base_uri": "https://localhost:8080/"
        },
        "id": "ZU5CyBKFHFE-",
        "outputId": "7c35451a-2c85-439b-fbf0-61fcd9cfde59"
      },
      "execution_count": 1131,
      "outputs": [
        {
          "output_type": "stream",
          "name": "stdout",
          "text": [
            "2/2 [==============================] - 0s 6ms/step\n"
          ]
        },
        {
          "output_type": "execute_result",
          "data": {
            "text/plain": [
              "0.0006563671932574039"
            ]
          },
          "metadata": {},
          "execution_count": 1131
        }
      ]
    },
    {
      "cell_type": "code",
      "source": [
        "rmse = np.sqrt(mean_squared_error(Ytest, preds))\n",
        "print('Test RMSE: %.3f' % rmse)"
      ],
      "metadata": {
        "colab": {
          "base_uri": "https://localhost:8080/"
        },
        "id": "_SaX6xYIq6Jw",
        "outputId": "c0f97af1-e397-4e15-d6f3-c8499df829bd"
      },
      "execution_count": 1132,
      "outputs": [
        {
          "output_type": "stream",
          "name": "stdout",
          "text": [
            "Test RMSE: 0.026\n"
          ]
        }
      ]
    },
    {
      "cell_type": "code",
      "source": [
        "mae = mean_absolute_error(Ytest,preds,multioutput='raw_values')\n",
        "r2 = r2_score(Ytest,preds)\n",
        "print('Mean Absolute Error: ', mae)\n",
        "print('R2_score: ', r2)"
      ],
      "metadata": {
        "colab": {
          "base_uri": "https://localhost:8080/"
        },
        "id": "P0nW-cm-rBdZ",
        "outputId": "a11969e8-261e-4378-c5f1-7a7a94abd6df"
      },
      "execution_count": 1133,
      "outputs": [
        {
          "output_type": "stream",
          "name": "stdout",
          "text": [
            "Mean Absolute Error:  [0.02218441]\n",
            "R2_score:  0.7469606535595158\n"
          ]
        }
      ]
    },
    {
      "cell_type": "code",
      "source": [
        "plt.plot(range(len(preds)),preds)\n",
        "plt.plot(range(len(Ytest)),Ytest)\n",
        "plt.ylabel('RUL')\n",
        "plt.xlabel('cycle')\n",
        "plt.show()\n"
      ],
      "metadata": {
        "colab": {
          "base_uri": "https://localhost:8080/",
          "height": 279
        },
        "id": "lBZVJUI8HIPq",
        "outputId": "7f2a4f9a-4988-40bd-fb08-7c14f46df107"
      },
      "execution_count": 1134,
      "outputs": [
        {
          "output_type": "display_data",
          "data": {
            "text/plain": [
              "<Figure size 432x288 with 1 Axes>"
            ],
            "image/png": "[encoded data removed]"
          },
          "metadata": {
            "needs_background": "light"
          }
        }
      ]
    },
    {
      "cell_type": "code",
      "source": [
        "preds = model.predict(X)"
      ],
      "metadata": {
        "colab": {
          "base_uri": "https://localhost:8080/"
        },
        "id": "toBf2pImHMHi",
        "outputId": "f15754a1-0522-4390-cc1c-27e8f3568bb6"
      },
      "execution_count": 1135,
      "outputs": [
        {
          "output_type": "stream",
          "name": "stdout",
          "text": [
            "6/6 [==============================] - 0s 3ms/step\n"
          ]
        }
      ]
    },
    {
      "cell_type": "code",
      "source": [
        "preds"
      ],
      "metadata": {
        "colab": {
          "base_uri": "https://localhost:8080/"
        },
        "id": "zwkytPdcZ09D",
        "outputId": "2da02314-c4f5-4c6e-a6c5-391bbed468cd"
      },
      "execution_count": 1136,
      "outputs": [
        {
          "output_type": "execute_result",
          "data": {
            "text/plain": [
              "array([[1.7409146],\n",
              "       [1.7380449],\n",
              "       [1.7375156],\n",
              "       [1.7371438],\n",
              "       [1.7350615],\n",
              "       [1.7316526],\n",
              "       [1.7293067],\n",
              "       [1.7281045],\n",
              "       [1.7257358],\n",
              "       [1.7221482],\n",
              "       [1.719219 ],\n",
              "       [1.7161584],\n",
              "       [1.7123796],\n",
              "       [1.7100654],\n",
              "       [1.7097166],\n",
              "       [1.712083 ],\n",
              "       [1.72177  ],\n",
              "       [1.7359911],\n",
              "       [1.742383 ],\n",
              "       [1.7384473],\n",
              "       [1.7325351],\n",
              "       [1.7291589],\n",
              "       [1.7262199],\n",
              "       [1.722563 ],\n",
              "       [1.7196896],\n",
              "       [1.716673 ],\n",
              "       [1.7154589],\n",
              "       [1.7228737],\n",
              "       [1.7333913],\n",
              "       [1.7335142],\n",
              "       [1.7251546],\n",
              "       [1.7171246],\n",
              "       [1.7111732],\n",
              "       [1.7053101],\n",
              "       [1.6986703],\n",
              "       [1.692156 ],\n",
              "       [1.6869568],\n",
              "       [1.6832402],\n",
              "       [1.6801211],\n",
              "       [1.6781031],\n",
              "       [1.676852 ],\n",
              "       [1.673185 ],\n",
              "       [1.666315 ],\n",
              "       [1.6621096],\n",
              "       [1.6696482],\n",
              "       [1.6840895],\n",
              "       [1.6884048],\n",
              "       [1.6808314],\n",
              "       [1.6711401],\n",
              "       [1.6634933],\n",
              "       [1.6575323],\n",
              "       [1.6515083],\n",
              "       [1.6442524],\n",
              "       [1.6370285],\n",
              "       [1.6313488],\n",
              "       [1.6267359],\n",
              "       [1.621925 ],\n",
              "       [1.6159948],\n",
              "       [1.6090482],\n",
              "       [1.6027776],\n",
              "       [1.5975919],\n",
              "       [1.5922422],\n",
              "       [1.5867362],\n",
              "       [1.5808625],\n",
              "       [1.574543 ],\n",
              "       [1.5690092],\n",
              "       [1.5644263],\n",
              "       [1.5597179],\n",
              "       [1.5539814],\n",
              "       [1.5476955],\n",
              "       [1.5419459],\n",
              "       [1.536122 ],\n",
              "       [1.5301002],\n",
              "       [1.5263574],\n",
              "       [1.5258862],\n",
              "       [1.5240055],\n",
              "       [1.5168579],\n",
              "       [1.5085948],\n",
              "       [1.5035827],\n",
              "       [1.5006346],\n",
              "       [1.4969515],\n",
              "       [1.4911731],\n",
              "       [1.4839796],\n",
              "       [1.4778984],\n",
              "       [1.4739242],\n",
              "       [1.474872 ],\n",
              "       [1.4891223],\n",
              "       [1.5072582],\n",
              "       [1.5072815],\n",
              "       [1.4936187],\n",
              "       [1.4815016],\n",
              "       [1.473266 ],\n",
              "       [1.4667213],\n",
              "       [1.4612916],\n",
              "       [1.4563792],\n",
              "       [1.4507856],\n",
              "       [1.4445775],\n",
              "       [1.4390111],\n",
              "       [1.4350626],\n",
              "       [1.4347982],\n",
              "       [1.4384851],\n",
              "       [1.4399931],\n",
              "       [1.4343271],\n",
              "       [1.424481 ],\n",
              "       [1.4162947],\n",
              "       [1.4124563],\n",
              "       [1.410258 ],\n",
              "       [1.4059428],\n",
              "       [1.4001403],\n",
              "       [1.3956871],\n",
              "       [1.3926891],\n",
              "       [1.3892725],\n",
              "       [1.3849995],\n",
              "       [1.3807682],\n",
              "       [1.3775057],\n",
              "       [1.3764551],\n",
              "       [1.3804637],\n",
              "       [1.3880432],\n",
              "       [1.3897525],\n",
              "       [1.3824432],\n",
              "       [1.3733666],\n",
              "       [1.3670725],\n",
              "       [1.3624623],\n",
              "       [1.3580668],\n",
              "       [1.3535275],\n",
              "       [1.3489289],\n",
              "       [1.344728 ],\n",
              "       [1.341518 ],\n",
              "       [1.3395625],\n",
              "       [1.3402765],\n",
              "       [1.3441489],\n",
              "       [1.3458844],\n",
              "       [1.3415744],\n",
              "       [1.334719 ],\n",
              "       [1.3295078],\n",
              "       [1.3269451],\n",
              "       [1.3251263],\n",
              "       [1.3219858],\n",
              "       [1.3180209],\n",
              "       [1.3147142],\n",
              "       [1.3120341],\n",
              "       [1.3087072],\n",
              "       [1.3044538],\n",
              "       [1.3002127],\n",
              "       [1.2972156],\n",
              "       [1.2962584],\n",
              "       [1.2990446],\n",
              "       [1.307758 ],\n",
              "       [1.3159759],\n",
              "       [1.3143913],\n",
              "       [1.3068371],\n",
              "       [1.3005669],\n",
              "       [1.2961534],\n",
              "       [1.2928118],\n",
              "       [1.2899996],\n",
              "       [1.286885 ],\n",
              "       [1.2842317],\n",
              "       [1.282836 ],\n",
              "       [1.2815094],\n",
              "       [1.2795091],\n",
              "       [1.2771456],\n",
              "       [1.2741804],\n",
              "       [1.2723564]], dtype=float32)"
            ]
          },
          "metadata": {},
          "execution_count": 1136
        }
      ]
    },
    {
      "cell_type": "code",
      "source": [
        "plt.plot(range(len(preds)),preds)\n",
        "plt.plot(range(len(Y)),Y)\n",
        "plt.ylabel('RUL')\n",
        "plt.xlabel('cycle')\n",
        "plt.show()"
      ],
      "metadata": {
        "colab": {
          "base_uri": "https://localhost:8080/",
          "height": 279
        },
        "id": "JLrSZvZjHQJ-",
        "outputId": "48451f34-4da6-4cc2-ccc9-e69b827d6d03"
      },
      "execution_count": 1137,
      "outputs": [
        {
          "output_type": "display_data",
          "data": {
            "text/plain": [
              "<Figure size 432x288 with 1 Axes>"
            ],
            "image/png": "[encoded data removed]"
          },
          "metadata": {
            "needs_background": "light"
          }
        }
      ]
    },
    {
      "cell_type": "code",
      "source": [],
      "metadata": {
        "id": "HCPEFm9JHU9B"
      },
      "execution_count": 1137,
      "outputs": []
    }
  ]
}